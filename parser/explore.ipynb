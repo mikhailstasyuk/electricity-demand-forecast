{
 "cells": [
  {
   "cell_type": "code",
   "execution_count": 1,
   "metadata": {},
   "outputs": [],
   "source": [
    "import pandas as pd"
   ]
  },
  {
   "cell_type": "code",
   "execution_count": 17,
   "metadata": {},
   "outputs": [
    {
     "name": "stderr",
     "output_type": "stream",
     "text": [
      "/tmp/ipykernel_4109/2856777474.py:1: DtypeWarning: Columns (4) have mixed types. Specify dtype option on import or set low_memory=False.\n",
      "  df = pd.read_csv('MES_0423.csv', encoding='cp1252').iloc[7:,:]\n"
     ]
    }
   ],
   "source": [
    "df = pd.read_csv('MES_0423.csv', encoding='cp1252').iloc[7:,:]"
   ]
  },
  {
   "cell_type": "code",
   "execution_count": 20,
   "metadata": {},
   "outputs": [
    {
     "data": {
      "text/html": [
       "<div>\n",
       "<style scoped>\n",
       "    .dataframe tbody tr th:only-of-type {\n",
       "        vertical-align: middle;\n",
       "    }\n",
       "\n",
       "    .dataframe tbody tr th {\n",
       "        vertical-align: top;\n",
       "    }\n",
       "\n",
       "    .dataframe thead th {\n",
       "        text-align: right;\n",
       "    }\n",
       "</style>\n",
       "<table border=\"1\" class=\"dataframe\">\n",
       "  <thead>\n",
       "    <tr style=\"text-align: right;\">\n",
       "      <th></th>\n",
       "      <th>The Monthly electricity data explorer and the main highlights are available here: https://www.iea.org/reports/monthly-electricity-statistics-overview</th>\n",
       "      <th>Unnamed: 1</th>\n",
       "      <th>Unnamed: 2</th>\n",
       "      <th>Unnamed: 3</th>\n",
       "      <th>Unnamed: 4</th>\n",
       "      <th>Unnamed: 5</th>\n",
       "    </tr>\n",
       "  </thead>\n",
       "  <tbody>\n",
       "    <tr>\n",
       "      <th>7</th>\n",
       "      <td>Country</td>\n",
       "      <td>Time</td>\n",
       "      <td>Balance</td>\n",
       "      <td>Product</td>\n",
       "      <td>Value</td>\n",
       "      <td>Unit</td>\n",
       "    </tr>\n",
       "    <tr>\n",
       "      <th>8</th>\n",
       "      <td>Australia</td>\n",
       "      <td>April 2023</td>\n",
       "      <td>Net Electricity Production</td>\n",
       "      <td>Electricity</td>\n",
       "      <td>20129.2911</td>\n",
       "      <td>GWh</td>\n",
       "    </tr>\n",
       "    <tr>\n",
       "      <th>9</th>\n",
       "      <td>Australia</td>\n",
       "      <td>April 2023</td>\n",
       "      <td>Net Electricity Production</td>\n",
       "      <td>Total Combustible Fuels</td>\n",
       "      <td>13328.1324</td>\n",
       "      <td>GWh</td>\n",
       "    </tr>\n",
       "    <tr>\n",
       "      <th>10</th>\n",
       "      <td>Australia</td>\n",
       "      <td>April 2023</td>\n",
       "      <td>Net Electricity Production</td>\n",
       "      <td>Coal, Peat and Manufactured Gases</td>\n",
       "      <td>9343.7772</td>\n",
       "      <td>GWh</td>\n",
       "    </tr>\n",
       "    <tr>\n",
       "      <th>11</th>\n",
       "      <td>Australia</td>\n",
       "      <td>April 2023</td>\n",
       "      <td>Net Electricity Production</td>\n",
       "      <td>Oil and Petroleum Products</td>\n",
       "      <td>319.9711</td>\n",
       "      <td>GWh</td>\n",
       "    </tr>\n",
       "  </tbody>\n",
       "</table>\n",
       "</div>"
      ],
      "text/plain": [
       "   The Monthly electricity data explorer and the main highlights are available here: https://www.iea.org/reports/monthly-electricity-statistics-overview  \\\n",
       "7                                             Country                                                                                                      \n",
       "8                                           Australia                                                                                                      \n",
       "9                                           Australia                                                                                                      \n",
       "10                                          Australia                                                                                                      \n",
       "11                                          Australia                                                                                                      \n",
       "\n",
       "    Unnamed: 1                  Unnamed: 2                         Unnamed: 3  \\\n",
       "7         Time                     Balance                            Product   \n",
       "8   April 2023  Net Electricity Production                        Electricity   \n",
       "9   April 2023  Net Electricity Production            Total Combustible Fuels   \n",
       "10  April 2023  Net Electricity Production  Coal, Peat and Manufactured Gases   \n",
       "11  April 2023  Net Electricity Production         Oil and Petroleum Products   \n",
       "\n",
       "    Unnamed: 4 Unnamed: 5  \n",
       "7        Value       Unit  \n",
       "8   20129.2911        GWh  \n",
       "9   13328.1324        GWh  \n",
       "10   9343.7772        GWh  \n",
       "11    319.9711        GWh  "
      ]
     },
     "execution_count": 20,
     "metadata": {},
     "output_type": "execute_result"
    }
   ],
   "source": [
    "df.head()"
   ]
  },
  {
   "cell_type": "code",
   "execution_count": null,
   "metadata": {},
   "outputs": [],
   "source": []
  }
 ],
 "metadata": {
  "kernelspec": {
   "display_name": "flask-env",
   "language": "python",
   "name": "python3"
  },
  "language_info": {
   "codemirror_mode": {
    "name": "ipython",
    "version": 3
   },
   "file_extension": ".py",
   "mimetype": "text/x-python",
   "name": "python",
   "nbconvert_exporter": "python",
   "pygments_lexer": "ipython3",
   "version": "3.11.3"
  },
  "orig_nbformat": 4
 },
 "nbformat": 4,
 "nbformat_minor": 2
}
