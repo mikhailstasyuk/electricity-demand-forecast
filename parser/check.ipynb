{
 "cells": [
  {
   "cell_type": "code",
   "execution_count": 1,
   "metadata": {},
   "outputs": [],
   "source": [
    "import pandas as pd"
   ]
  },
  {
   "cell_type": "code",
   "execution_count": 2,
   "metadata": {},
   "outputs": [
    {
     "name": "stdout",
     "output_type": "stream",
     "text": [
      "(5000, 8)\n"
     ]
    },
    {
     "data": {
      "text/html": [
       "<div>\n",
       "<style scoped>\n",
       "    .dataframe tbody tr th:only-of-type {\n",
       "        vertical-align: middle;\n",
       "    }\n",
       "\n",
       "    .dataframe tbody tr th {\n",
       "        vertical-align: top;\n",
       "    }\n",
       "\n",
       "    .dataframe thead th {\n",
       "        text-align: right;\n",
       "    }\n",
       "</style>\n",
       "<table border=\"1\" class=\"dataframe\">\n",
       "  <thead>\n",
       "    <tr style=\"text-align: right;\">\n",
       "      <th></th>\n",
       "      <th>period</th>\n",
       "      <th>subba</th>\n",
       "      <th>subba-name</th>\n",
       "      <th>parent</th>\n",
       "      <th>parent-name</th>\n",
       "      <th>timezone</th>\n",
       "      <th>value</th>\n",
       "      <th>value-units</th>\n",
       "    </tr>\n",
       "  </thead>\n",
       "  <tbody>\n",
       "    <tr>\n",
       "      <th>0</th>\n",
       "      <td>2022-07-31</td>\n",
       "      <td>ME</td>\n",
       "      <td>Metropolitan Edison zone</td>\n",
       "      <td>PJM</td>\n",
       "      <td>PJM Interconnection, LLC</td>\n",
       "      <td>Central</td>\n",
       "      <td>43531</td>\n",
       "      <td>megawatthours</td>\n",
       "    </tr>\n",
       "    <tr>\n",
       "      <th>1</th>\n",
       "      <td>2022-07-31</td>\n",
       "      <td>Jica</td>\n",
       "      <td>Jicarilla Apache Nation</td>\n",
       "      <td>PNM</td>\n",
       "      <td>Public Service Company of New Mexico</td>\n",
       "      <td>Central</td>\n",
       "      <td>49</td>\n",
       "      <td>megawatthours</td>\n",
       "    </tr>\n",
       "    <tr>\n",
       "      <th>2</th>\n",
       "      <td>2022-07-31</td>\n",
       "      <td>WR</td>\n",
       "      <td>Westar Energy</td>\n",
       "      <td>SWPP</td>\n",
       "      <td>Southwest Power Pool</td>\n",
       "      <td>Central</td>\n",
       "      <td>103965</td>\n",
       "      <td>megawatthours</td>\n",
       "    </tr>\n",
       "    <tr>\n",
       "      <th>3</th>\n",
       "      <td>2022-07-31</td>\n",
       "      <td>KCPL</td>\n",
       "      <td>Kansas City Power &amp; Light</td>\n",
       "      <td>SWPP</td>\n",
       "      <td>Southwest Power Pool</td>\n",
       "      <td>Eastern</td>\n",
       "      <td>51999</td>\n",
       "      <td>megawatthours</td>\n",
       "    </tr>\n",
       "    <tr>\n",
       "      <th>4</th>\n",
       "      <td>2022-07-31</td>\n",
       "      <td>ZONJ</td>\n",
       "      <td>New York City</td>\n",
       "      <td>NYIS</td>\n",
       "      <td>New York Independent System Operator</td>\n",
       "      <td>Eastern</td>\n",
       "      <td>160843</td>\n",
       "      <td>megawatthours</td>\n",
       "    </tr>\n",
       "  </tbody>\n",
       "</table>\n",
       "</div>"
      ],
      "text/plain": [
       "       period subba                 subba-name parent  \\\n",
       "0  2022-07-31    ME   Metropolitan Edison zone    PJM   \n",
       "1  2022-07-31  Jica    Jicarilla Apache Nation    PNM   \n",
       "2  2022-07-31    WR              Westar Energy   SWPP   \n",
       "3  2022-07-31  KCPL  Kansas City Power & Light   SWPP   \n",
       "4  2022-07-31  ZONJ              New York City   NYIS   \n",
       "\n",
       "                            parent-name timezone   value    value-units  \n",
       "0              PJM Interconnection, LLC  Central   43531  megawatthours  \n",
       "1  Public Service Company of New Mexico  Central      49  megawatthours  \n",
       "2                  Southwest Power Pool  Central  103965  megawatthours  \n",
       "3                  Southwest Power Pool  Eastern   51999  megawatthours  \n",
       "4  New York Independent System Operator  Eastern  160843  megawatthours  "
      ]
     },
     "execution_count": 2,
     "metadata": {},
     "output_type": "execute_result"
    }
   ],
   "source": [
    "fname = '2018-01-01-2022-07-31.bin'\n",
    "data = pd.read_pickle(fname)['data']\n",
    "df = pd.DataFrame.from_dict(data)\n",
    "print(df.shape)\n",
    "df.head()"
   ]
  }
 ],
 "metadata": {
  "kernelspec": {
   "display_name": "flask-env",
   "language": "python",
   "name": "python3"
  },
  "language_info": {
   "codemirror_mode": {
    "name": "ipython",
    "version": 3
   },
   "file_extension": ".py",
   "mimetype": "text/x-python",
   "name": "python",
   "nbconvert_exporter": "python",
   "pygments_lexer": "ipython3",
   "version": "3.11.3"
  },
  "orig_nbformat": 4
 },
 "nbformat": 4,
 "nbformat_minor": 2
}
