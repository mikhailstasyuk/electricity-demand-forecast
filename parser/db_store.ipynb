{
 "cells": [
  {
   "cell_type": "code",
   "execution_count": null,
   "metadata": {},
   "outputs": [],
   "source": [
    "import psycopg2\n",
    "from psycopg2 import OperationalError\n",
    "import requests"
   ]
  },
  {
   "cell_type": "code",
   "execution_count": null,
   "metadata": {},
   "outputs": [],
   "source": [
    "def create_table(\n",
    "    tabname: str,\n",
    "    dbname: str,\n",
    "    user: str,\n",
    "    password: str,\n",
    "    host: int,\n",
    "    port: int\n",
    ") -> None:\n",
    "    valid_tab_names = ['demand', 'weather']\n",
    "    assert tabname in valid_tab_names, \"Enter a valid table name.\"\n",
    "    \n",
    "    conn_params = {\n",
    "        'dbname': dbname,\n",
    "        'user': user,\n",
    "        'password': password,\n",
    "        'host': host,\n",
    "        'port': port\n",
    "    }\n",
    "    \n",
    "    # Connect to your postgres DB\n",
    "    conn = psycopg2.connect(**conn_params)\n",
    "\n",
    "    cur = conn.cursor()\n",
    "\n",
    "    demand_cols = '''\n",
    "        period VARCHAR(100),\n",
    "        subba VARCHAR(100),\n",
    "        subba_name VARCHAR(100),\t\n",
    "        parent VARCHAR(100),\t\n",
    "        parent_name VARCHAR(100),\t\n",
    "        timezone VARCHAR(100),\t\n",
    "        value INTEGER,\t\n",
    "        value_units VARCHAR(100)\n",
    "    '''\n",
    "\n",
    "    weather_cols = '''\n",
    "        time VARCHAR(100),\n",
    "        temperature_2m_max\tREAL,\n",
    "        temperature_2m_min\tREAL,\n",
    "        temperature_2m_mean REAL\n",
    "    '''\n",
    "\n",
    "    tab_schema = {\n",
    "        'demand': demand_cols,\n",
    "        'weather': weather_cols\n",
    "    }\n",
    "\n",
    "    # Define the CREATE TABLE statement\n",
    "    create_table_query = f'''\n",
    "    CREATE TABLE {tabname} (\n",
    "        id SERIAL PRIMARY KEY, \n",
    "        {tab_schema.get(tabname)}\n",
    "    );\n",
    "    '''\n",
    "    \n",
    "    # Execute the query\n",
    "    cur.execute(create_table_query)\n",
    "\n",
    "    # Commit the changes\n",
    "    conn.commit()\n",
    "\n",
    "    # Close the cursor and connection\n",
    "    cur.close()\n",
    "    conn.close()"
   ]
  },
  {
   "cell_type": "code",
   "execution_count": null,
   "metadata": {},
   "outputs": [],
   "source": [
    "params = {\n",
    "        'tabname': 'weather',\n",
    "        'dbname': 'db_demand',\n",
    "        'user': 'dbuser',\n",
    "        'password': '123',\n",
    "        'host': 'localhost',\n",
    "        'port': '5432'\n",
    "    }\n",
    "    \n",
    "create_table(**params)"
   ]
  },
  {
   "cell_type": "code",
   "execution_count": null,
   "metadata": {},
   "outputs": [],
   "source": [
    "def generate_url(\n",
    "    start_date, \n",
    "    end_date, \n",
    "    offset, \n",
    "    chunk_len, \n",
    "    api_key,\n",
    "    use_api\n",
    "):\n",
    "    url_demand = f'https://api.eia.gov/v2/electricity/rto/' +\\\n",
    "    f'daily-region-sub-ba-data/data/?frequency=daily&data[0]=value' + \\\n",
    "    f'&facets[subba][]=ZONJ&start={start_date}&end={end_date}' + \\\n",
    "    f'&sort[0][column]=period&sort[0][direction]=desc&offset={offset}' + \\\n",
    "    f'&length={chunk_len}&api_key={api_key}'\n",
    "\n",
    "    url_weather_historical = f'https://archive-api.open-meteo.com/v1' + \\\n",
    "    f'/archive?latitude=52.52&longitude=13.41&start_date={start_date}' + \\\n",
    "    f'&end_date={end_date}&daily=weathercode,temperature_2m_max,' + \\\n",
    "    f'temperature_2m_min,temperature_2m_mean' + \\\n",
    "    f'&timezone=America%2FNew_York'\n",
    "    \n",
    "    url_weather_latest = f'https://api.open-meteo.com/v1/forecast?' + \\\n",
    "    f'latitude=52.52&longitude=13.41&hourly=temperature_2m&daily=' + \\\n",
    "    f'temperature_2m_max,temperature_2m_min&timezone=America%2F' + \\\n",
    "    f'New_York&past_days=7'\n",
    "\n",
    "    api_urls = {\n",
    "        'eia': url_demand,\n",
    "        'weather_hist': url_weather_historical,\n",
    "        'weather_latest': url_weather_latest\n",
    "    }\n",
    "\n",
    "    return api_urls.get(use_api, None)"
   ]
  },
  {
   "cell_type": "code",
   "execution_count": null,
   "metadata": {},
   "outputs": [],
   "source": [
    "start_date = '2018-01-01'\n",
    "end_date = '2022-07-31'\n",
    "offset = 0\n",
    "chunk_len = 10000\n",
    "api_key = ''\n",
    "use_api = 'weather_latest'\n",
    "\n",
    "url = generate_url(start_date, end_date, offset, chunk_len, api_key, use_api)\n",
    "url"
   ]
  },
  {
   "cell_type": "code",
   "execution_count": null,
   "metadata": {},
   "outputs": [],
   "source": [
    "def get_data(url):\n",
    "    response = requests.get(url)\n",
    "\n",
    "    if response.status_code == 200:  # Success\n",
    "        return response.json()\n",
    "    else:\n",
    "        print(f\"Failed to fetch data. Status code: {response.status_code}\")\n",
    "        return None"
   ]
  },
  {
   "cell_type": "code",
   "execution_count": null,
   "metadata": {},
   "outputs": [],
   "source": []
  },
  {
   "cell_type": "code",
   "execution_count": null,
   "metadata": {},
   "outputs": [],
   "source": [
    "def main():\n",
    "    \n",
    "    return"
   ]
  }
 ],
 "metadata": {
  "kernelspec": {
   "display_name": "forecast-env",
   "language": "python",
   "name": "python3"
  },
  "language_info": {
   "codemirror_mode": {
    "name": "ipython",
    "version": 3
   },
   "file_extension": ".py",
   "mimetype": "text/x-python",
   "name": "python",
   "nbconvert_exporter": "python",
   "pygments_lexer": "ipython3",
   "version": "3.9.17"
  },
  "orig_nbformat": 4
 },
 "nbformat": 4,
 "nbformat_minor": 2
}
