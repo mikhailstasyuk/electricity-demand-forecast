{
 "cells": [
  {
   "cell_type": "code",
   "execution_count": 66,
   "metadata": {},
   "outputs": [],
   "source": [
    "import requests\n",
    "import pickle\n",
    "import os\n",
    "import argparse"
   ]
  },
  {
   "cell_type": "code",
   "execution_count": 67,
   "metadata": {},
   "outputs": [],
   "source": [
    "def get_json_data(url):\n",
    "    response = requests.get(url)\n",
    "\n",
    "    if response.status_code == 200:  # Success\n",
    "        return response.json()\n",
    "    else:\n",
    "        print(f\"Failed to fetch data. Status code: {response.status_code}\")\n",
    "        return None"
   ]
  },
  {
   "cell_type": "code",
   "execution_count": 68,
   "metadata": {},
   "outputs": [],
   "source": [
    "def save_to_pickle(data, fname):\n",
    "    with open(fname, 'wb') as f_out:\n",
    "        pickle.dump(data, f_out)"
   ]
  },
  {
   "cell_type": "code",
   "execution_count": 69,
   "metadata": {},
   "outputs": [],
   "source": [
    "def main():\n",
    "    parser = argparse.ArgumentParser()\n",
    "\n",
    "    parser.add_argument('-k', '--api_key', type=str, help=\"API key to use\", required=True)\n",
    "    parser.add_argument('-sd', '--start', type=str, help=\"Start date y-m-d\", required=True)\n",
    "    parser.add_argument('-ed', '--end', type=str, help=\"End date y-m-d\", required=True)\n",
    "    parser.add_argument('-p', '--save_to', type=str, help=\"Folder to save the data\", default=\"\")\n",
    "\n",
    "    # Parse the arguments\n",
    "    parser.parse_args()\n",
    "    api_key = parser.api_key\n",
    "    start_date = parser.start\n",
    "    end_date = parser.end\n",
    "    output_path = parser.save_to\n",
    "\n",
    "    # Build a request\n",
    "    url = \"https://api.eia.gov/v2/electricity/rto/daily-region-sub-ba-data/data/?frequency=daily&data[0]=value&start={}&end={}&sort[0][column]=period&sort[0][direction]=desc&offset=0&length=5000&api_key={}\".format(start_date, end_date, api_key)\n",
    "    \n",
    "    print(\"Getting data...\")\n",
    "    data = get_json_data(url)\n",
    "\n",
    "    fname = output_path + '/' + '{}-{}.bin'.format(start_date, end_date)\n",
    "    print(\"Saving to {}...\".format(fname))\n",
    "\n",
    "    try:\n",
    "        save_to_pickle(data, fname)\n",
    "        print('Saved.')\n",
    "\n",
    "    except FileNotFoundError:\n",
    "        print('Saving failed. No such folder {}.'.format(output_path))"
   ]
  },
  {
   "cell_type": "code",
   "execution_count": 65,
   "metadata": {},
   "outputs": [
    {
     "name": "stderr",
     "output_type": "stream",
     "text": [
      "usage: ipykernel_launcher.py [-h] -sd START -ed END [-p SAVE_TO]\n",
      "ipykernel_launcher.py: error: the following arguments are required: -sd/--start, -ed/--end\n"
     ]
    },
    {
     "ename": "SystemExit",
     "evalue": "2",
     "output_type": "error",
     "traceback": [
      "An exception has occurred, use %tb to see the full traceback.\n",
      "\u001b[0;31mSystemExit\u001b[0m\u001b[0;31m:\u001b[0m 2\n"
     ]
    },
    {
     "name": "stderr",
     "output_type": "stream",
     "text": [
      "/home/rhuu/anaconda3/envs/flask-env/lib/python3.11/site-packages/IPython/core/interactiveshell.py:3516: UserWarning: To exit: use 'exit', 'quit', or Ctrl-D.\n",
      "  warn(\"To exit: use 'exit', 'quit', or Ctrl-D.\", stacklevel=1)\n"
     ]
    }
   ],
   "source": [
    "if __name__ == \"__main__\":\n",
    "    main()"
   ]
  },
  {
   "cell_type": "code",
   "execution_count": null,
   "metadata": {},
   "outputs": [],
   "source": []
  }
 ],
 "metadata": {
  "kernelspec": {
   "display_name": "flask-env",
   "language": "python",
   "name": "python3"
  },
  "language_info": {
   "codemirror_mode": {
    "name": "ipython",
    "version": 3
   },
   "file_extension": ".py",
   "mimetype": "text/x-python",
   "name": "python",
   "nbconvert_exporter": "python",
   "pygments_lexer": "ipython3",
   "version": "3.11.3"
  },
  "orig_nbformat": 4
 },
 "nbformat": 4,
 "nbformat_minor": 2
}
