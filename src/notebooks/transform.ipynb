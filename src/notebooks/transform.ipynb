{
 "cells": [
  {
   "cell_type": "code",
   "execution_count": 1,
   "metadata": {},
   "outputs": [
    {
     "name": "stderr",
     "output_type": "stream",
     "text": [
      "/home/rhuu/anaconda3/envs/forecast-env/lib/python3.9/site-packages/tqdm/auto.py:21: TqdmWarning: IProgress not found. Please update jupyter and ipywidgets. See https://ipywidgets.readthedocs.io/en/stable/user_install.html\n",
      "  from .autonotebook import tqdm as notebook_tqdm\n"
     ]
    },
    {
     "data": {
      "text/plain": [
       "<Experiment: artifact_location='/home/rhuu/mygit/electricity-demand-forecast/parser/mlruns/1', creation_time=1691411531201, experiment_id='1', last_update_time=1691411531201, lifecycle_stage='active', name='xgboost-train', tags={}>"
      ]
     },
     "execution_count": 1,
     "metadata": {},
     "output_type": "execute_result"
    }
   ],
   "source": [
    "import random\n",
    "import optuna\n",
    "import mlflow\n",
    "from prefect import flow, task\n",
    "from sqlalchemy import create_engine, text\n",
    "import pandas as pd\n",
    "\n",
    "import matplotlib.pyplot as plt\n",
    "\n",
    "from sklearn.preprocessing import OneHotEncoder\n",
    "from sklearn.model_selection import TimeSeriesSplit\n",
    "from sklearn.metrics import mean_absolute_error\n",
    "from xgboost import XGBRegressor\n",
    "\n",
    "TRACKING_URI = 'sqlite:///mlflow.db'\n",
    "mlflow.set_tracking_uri(TRACKING_URI)\n",
    "mlflow.set_experiment('xgboost-train')"
   ]
  },
  {
   "cell_type": "code",
   "execution_count": 2,
   "metadata": {},
   "outputs": [],
   "source": [
    "@task(name='read_data', retries=3, retry_delay_seconds=2, log_prints=True)\n",
    "def read_from_db(\n",
    "    tabname: str,\n",
    "    dbname: str,\n",
    "    schema: list,\n",
    "    user: str,\n",
    "    password: str,\n",
    "    host: int,\n",
    "    port: int,\n",
    "    connect_timeout: int\n",
    ") -> pd.DataFrame:\n",
    "    \n",
    "    DATABASE_URL = f\"postgresql+psycopg2://{user}:{password}@{host}:{port}/{dbname}\"\n",
    "    try:\n",
    "        engine = create_engine(DATABASE_URL, connect_args={'connect_timeout': connect_timeout})\n",
    "    except:\n",
    "        print(\"Failed to establish connection to the database.\")\n",
    "\n",
    "    schema_str = \",\".join(schema)\n",
    "    query = text(f'SELECT {schema_str} FROM {tabname};')\n",
    "\n",
    "    with engine.connect() as conn:\n",
    "        df = pd.read_sql_query(query, conn).reset_index(drop=True)\n",
    "    return df"
   ]
  },
  {
   "cell_type": "code",
   "execution_count": 3,
   "metadata": {},
   "outputs": [],
   "source": [
    "schema = ['period', 'timezone', 'value']\n",
    "tabname = 'demand'\n",
    "\n",
    "conn_params = {\n",
    "    'tabname': tabname,\n",
    "    'dbname': 'db_demand',\n",
    "    'schema': schema,\n",
    "    'user': 'dbuser',\n",
    "    'password': '123',\n",
    "    'host': 'localhost',\n",
    "    'port': '5432',\n",
    "    'connect_timeout': 5\n",
    "}\n",
    "\n",
    "# df = read_from_db(**conn_params)\n",
    "# df.head()"
   ]
  },
  {
   "cell_type": "code",
   "execution_count": 4,
   "metadata": {},
   "outputs": [],
   "source": [
    "@task(name='filter_by_iqr', retries=3, retry_delay_seconds=2, log_prints=True)\n",
    "def filter_by_iqr(df: pd.DataFrame) -> pd.DataFrame:\n",
    "    \"\"\"\n",
    "    Filter DataFrame using the Interquartile Range (IQR) method.\n",
    "\n",
    "    Args:\n",
    "        df (pd.DataFrame): DataFrame containing the \"value\" column.\n",
    "\n",
    "    Returns:\n",
    "        pd.DataFrame: Filtered DataFrame with outliers removed.\n",
    "    \"\"\"\n",
    "    # Compute the IQR for the \"value\" column\n",
    "    Q1 = df['value'].quantile(0.25)\n",
    "    Q3 = df['value'].quantile(0.75)\n",
    "    IQR = Q3 - Q1\n",
    "\n",
    "    # Define bounds for the acceptable range\n",
    "    lower_bound = Q1 - 1.5 * IQR\n",
    "    upper_bound = Q3 + 1.5 * IQR\n",
    "\n",
    "    # Remove rows where the \"value\" column is outside the bounds.\n",
    "    filt = (df['value'] >= lower_bound) & (df['value'] <= upper_bound)\n",
    "    df_filtered = df[filt]\n",
    "\n",
    "    return df_filtered\n",
    "\n",
    "def plot_data(df: pd.DataFrame) -> None:\n",
    "    \"\"\"\n",
    "    Plot the data from a DataFrame.\n",
    "\n",
    "    Args:\n",
    "        df (pd.DataFrame): DataFrame with 'period' and 'value' columns.\n",
    "    \"\"\"\n",
    "    # Sort the DataFrame by \"period\" and plot the data\n",
    "    x = 'period'\n",
    "    y = 'value'\n",
    "    \n",
    "    df.sort_values(by='period').plot(x=x, y=y, figsize=(10, 5))\n",
    "\n",
    "    # Set the axis labels and title\n",
    "    plt.xlabel('Period')\n",
    "    plt.ylabel('Value')\n",
    "    plt.title('Value over Time')\n",
    "\n",
    "    # Display the plot\n",
    "    plt.show()\n",
    "\n",
    "# plot_data(df_no_outliers)"
   ]
  },
  {
   "cell_type": "code",
   "execution_count": 5,
   "metadata": {},
   "outputs": [],
   "source": [
    "@task(name='extract_features', retries=3, retry_delay_seconds=2, log_prints=True)\n",
    "def extract_features(\n",
    "        df: pd.DataFrame,\n",
    "        window_size=7,\n",
    "        inference=False\n",
    ") -> pd.DataFrame:\n",
    "    \"\"\"\n",
    "    Extract date-related and rolling statistics features from DataFrame.\n",
    "\n",
    "    Args:\n",
    "        df (pd.DataFrame): DataFrame with 'period' and 'value' columns.\n",
    "\n",
    "    Returns:\n",
    "        pd.DataFrame: DataFrame with added date features and rolling stats.\n",
    "    \"\"\"\n",
    "    df = df.copy()\n",
    "    df['period'] = df['period'].astype('datetime64[ns]')\n",
    "    df['timezone'] = df['timezone'].astype('category')\n",
    "    df['value'] = df['value'].astype('int64')\n",
    "\n",
    "    # Separate date features\n",
    "    df['year'] = df['period'].dt.year.astype('uint16')\n",
    "    df['month'] = df['period'].dt.month.astype('uint16')\n",
    "    df['day'] = df['period'].dt.day.astype('uint16')\n",
    "\n",
    "    # Extract the day of the week\n",
    "    df['day_of_week'] = df['period'].dt.day_name().astype('category')\n",
    "\n",
    "    # Extract quarterly and weekly information to capture seasonality\n",
    "    df['quarter'] = df['period'].dt.quarter.astype('uint8')\n",
    "    df['week_of_year'] = df['period'].dt.isocalendar().week.astype('uint16')\n",
    "\n",
    "    # Mark the weekends\n",
    "    df['is_weekend'] = (df['period'].dt.weekday >= 5).astype('uint8')\n",
    "    \n",
    "    if not inference:\n",
    "        # Create rolling mean feature\n",
    "        df['rolling_mean'] = df['value'].rolling(window=window_size).mean()\n",
    "    \n",
    "        # Create rolling standard deviation feature\n",
    "        df['rolling_std'] = df['value'].rolling(window=window_size).std()\n",
    "    \n",
    "    # Remove NaNs introduced by the rolling mean and std\n",
    "    df = df.dropna().copy().reset_index(drop=True)\n",
    "\n",
    "    # Create a random feature as a threshold for later feature filtering\n",
    "    random_feature = [random.random() for _ in range(df.shape[0])]\n",
    "    df['random_feature'] = random_feature\n",
    "    \n",
    "    return df"
   ]
  },
  {
   "cell_type": "code",
   "execution_count": 6,
   "metadata": {},
   "outputs": [],
   "source": [
    "@task(name='transform_to_supervised', retries=3, retry_delay_seconds=2, log_prints=True)\n",
    "def transform_to_supervised(df: pd.DataFrame) -> pd.DataFrame:\n",
    "    \"\"\"\n",
    "    Transform DataFrame into a supervised learning format.\n",
    "\n",
    "    Args:\n",
    "        df (pd.DataFrame): Input DataFrame.\n",
    "\n",
    "    Returns:\n",
    "        pd.DataFrame: DataFrame with 'lag' column and 'period' dropped.\n",
    "    \"\"\"\n",
    "    \n",
    "    # Create 'lag' column by shifting 'value' column\n",
    "    df.loc[:, 'lag'] = df['value'].shift()\n",
    "\n",
    "    # Remove rows with missing values (NaN) due to the shift\n",
    "    df.dropna(inplace=True)\n",
    "\n",
    "    # Convert 'lag' column to unsigned 64-bit integer type\n",
    "    df.lag = df.lag.astype('uint64')\n",
    "\n",
    "    # Drop the 'period' column from the DataFrame\n",
    "    df = df.drop(columns=['period'])\n",
    "    return df\n",
    "\n",
    "@task(name='encode_categorical', retries=3, retry_delay_seconds=2, log_prints=True)\n",
    "def encode_categorical(df: pd.DataFrame, ohe=None, fit=True) -> pd.DataFrame:\n",
    "    \"\"\"\n",
    "    Encode categorical columns as dummy variables.\n",
    "\n",
    "    Args:\n",
    "        df (pd.DataFrame): Input DataFrame.\n",
    "\n",
    "    Returns:\n",
    "        pd.DataFrame: DataFrame with categorical columns encoded as dummy variables.\n",
    "    \"\"\" \n",
    "    df = df.reset_index(drop=True)\n",
    "    \n",
    "    if ohe == None:\n",
    "        ohe = OneHotEncoder(sparse_output=False)\n",
    "\n",
    "    # List of columns to encode as dummy variables\n",
    "    feat_to_enc = df.select_dtypes('category')\n",
    "\n",
    "    # Get dummy variables for the specified columns\n",
    "    if fit == True:\n",
    "        dummies = pd.DataFrame(ohe.fit_transform(feat_to_enc))\n",
    "    else:\n",
    "        dummies = pd.DataFrame(ohe.transform(feat_to_enc))\n",
    "    dummies.columns = ohe.get_feature_names_out()\n",
    "    \n",
    "    # Concatenate the dummy variables with the original DataFrame\n",
    "    df = pd.concat((df.drop(columns=feat_to_enc.columns), dummies), axis=1)\n",
    "    return df, ohe"
   ]
  },
  {
   "cell_type": "code",
   "execution_count": 7,
   "metadata": {},
   "outputs": [],
   "source": [
    "@task(name='train', retries=3, retry_delay_seconds=2, log_prints=True)\n",
    "def train(\n",
    "    model: XGBRegressor, \n",
    "    X: pd.DataFrame, \n",
    "    y: pd.Series,\n",
    "    n_splits: int,\n",
    "    track=False\n",
    ") -> tuple:\n",
    "    \"\"\"\n",
    "    Train a model using TimeSeriesSplit cross-validation.\n",
    "\n",
    "    Args:\n",
    "        model (XGBRegressor): XGBoost regressor using scikit-learn API.\n",
    "        X (pd.DataFrame): Features DataFrame.\n",
    "        y (pd.Series): Target values Series.\n",
    "\n",
    "    Returns:\n",
    "        tuple: Contains average Mean Absolute Error on the training \n",
    "              set (float) and test set (float) respectively.\n",
    "    \"\"\"\n",
    "    # Lists to store mean absolute errors for training and test sets\n",
    "    mae_train_hist = []\n",
    "    mae_test_hist = []\n",
    "    \n",
    "    tscv = TimeSeriesSplit(n_splits=n_splits)\n",
    "    if track == True:\n",
    "        mlflow.start_run()\n",
    "        \n",
    "    # Split the data using TimeSeriesSplit for cross-validation\n",
    "    for train_index, test_index in tscv.split(X):\n",
    "        # Split the data into training and test sets\n",
    "        X_train, X_test = X.iloc[train_index], X.iloc[test_index]\n",
    "        y_train, y_test = y.iloc[train_index], y.iloc[test_index]\n",
    "        \n",
    "        # Train the model\n",
    "        model.fit(X_train, y_train, eval_set=[(X_test, y_test)], verbose=False)\n",
    "        \n",
    "        # Predict on training and test sets\n",
    "        y_pred_train = model.predict(X_train)\n",
    "        y_pred_test = model.predict(X_test)\n",
    "        \n",
    "        # Calculate mean absolute error for training and test sets\n",
    "        mae_train = mean_absolute_error(y_train, y_pred_train)\n",
    "        mae_test = mean_absolute_error(y_test, y_pred_test)\n",
    "        \n",
    "        # Append the errors to their respective histories\n",
    "        mae_train_hist.append(mae_train)\n",
    "        mae_test_hist.append(mae_test)\n",
    "        if track == True:\n",
    "            mlflow.log_metric('mae_train', mae_train)\n",
    "            mlflow.log_metric('mae_test', mae_test)\n",
    "\n",
    "    # Calculate average mean absolute error for training and test sets\n",
    "    mae_train_avg = sum(mae_train_hist) / len(mae_train_hist)\n",
    "    mae_test_avg = sum(mae_test_hist) / len(mae_test_hist)\n",
    "    if track == True:\n",
    "        mlflow.end_run()\n",
    "    return (mae_train_avg, mae_test_avg)"
   ]
  },
  {
   "cell_type": "code",
   "execution_count": 8,
   "metadata": {},
   "outputs": [],
   "source": [
    "@task(\n",
    "    name='remove_redundant_features', \n",
    "      retries=3, \n",
    "      retry_delay_seconds=2, \n",
    "      log_prints=True\n",
    ")\n",
    "def remove_redundant_features(\n",
    "        model: XGBRegressor, \n",
    "        X: pd.DataFrame\n",
    ") -> pd.DataFrame:\n",
    "    \"\"\"\n",
    "    Remove features less important than a reference 'random_feature'.\n",
    "    \n",
    "    Args:\n",
    "        model (XGBRegressor): XGBoost regressor using scikit-learn API.\n",
    "        X (pd.DataFrame): Features DataFrame.\n",
    "        \n",
    "    Returns:\n",
    "        pd.DataFrame: DataFrame with redundant features removed.\n",
    "    \"\"\"\n",
    "    # Get feature importances and feature names\n",
    "    importances = model.feature_importances_\n",
    "    features = X.columns.tolist()\n",
    "    \n",
    "    # Create a DataFrame for feature importances\n",
    "    feat_imps = pd.DataFrame({\n",
    "        'feature': features,\n",
    "        'importance': importances\n",
    "    })\n",
    "    \n",
    "    # Sort features by importance\n",
    "    sorted_feat_imps = feat_imps.sort_values(by='importance', ascending=False)\n",
    "    sorted_feat_imps.reset_index(drop=True, inplace=True)\n",
    "    \n",
    "    # Find the importance threshold of 'random_feature'\n",
    "    random_feature_row = sorted_feat_imps[\n",
    "            sorted_feat_imps['feature'] == 'random_feature']\n",
    "    thresh = random_feature_row['importance'].iloc[0]\n",
    "    \n",
    "    # Identify columns to drop (less important than 'random_feature')\n",
    "    redundant_features = sorted_feat_imps[\n",
    "            sorted_feat_imps['importance'] < thresh]\n",
    "    to_drop = redundant_features['feature'].tolist()\n",
    "    to_drop.append('random_feature')\n",
    "    \n",
    "    # Drop redundant columns\n",
    "    X_new = X.drop(columns=to_drop)\n",
    "    \n",
    "    return (X_new, to_drop)"
   ]
  },
  {
   "cell_type": "code",
   "execution_count": 9,
   "metadata": {},
   "outputs": [],
   "source": [
    "@flow(name='tune_hyperparameters', retries=3, retry_delay_seconds=2, log_prints=True)\n",
    "def tune_hyperparameters(X, y, n_trials=100, n_splits=5):\n",
    "    def objective(trial):\n",
    "        params = {\n",
    "            'n_estimators': trial.suggest_int('n_estimators', 2, 1000),\n",
    "            'max_depth': trial.suggest_int('max_depth', 1, 15),\n",
    "            'learning_rate': trial.suggest_float('learning_rate', 0.001, 0.3),\n",
    "            'subsample': trial.suggest_float('subsample', 0.5, 1.0),\n",
    "            'colsample_bytree': trial.suggest_float('colsample_bytree', 0.5, 1.0),\n",
    "            'min_child_weight': trial.suggest_int('min_child_weight', 1, 10),\n",
    "            'alpha': trial.suggest_float(\"alpha\", 1e-5, 10, log=True),  \n",
    "            'gamma': trial.suggest_float(\"gamma\", 1e-5, 5, log=True),\n",
    "            'lambda': trial.suggest_float('lambda', 1e-5, 10.0, log=True),\n",
    "            'early_stopping_rounds': 50\n",
    "        }\n",
    "\n",
    "        model = XGBRegressor(**params)\n",
    "        mae_train_avg, mae_test_avg = train(model, X, y, n_splits)\n",
    "        return mae_test_avg\n",
    "\n",
    "    study = optuna.create_study(direction='minimize')\n",
    "\n",
    "    # Optimize the study, the objective function is passed in as the first argument\n",
    "    study.optimize(objective, n_trials=n_trials)\n",
    "\n",
    "    # Results\n",
    "    print('Number of finished trials: ', len(study.trials))\n",
    "    print('Best trial:')\n",
    "    trial = study.best_trial\n",
    "    \n",
    "    print('Value: ', trial.value)\n",
    "    print('Params: ')\n",
    "    for key, value in trial.params.items():\n",
    "        print(f'    {key}: {value}')\n",
    "    \n",
    "    return trial.params"
   ]
  },
  {
   "cell_type": "code",
   "execution_count": 10,
   "metadata": {},
   "outputs": [],
   "source": [
    "@flow(name='training_flow', timeout_seconds=900, log_prints=True)\n",
    "def main(n_trials=100) -> XGBRegressor:\n",
    "    # Load the data.\n",
    "    df = read_from_db(**conn_params)\n",
    "\n",
    "    # Clean it, extract date features and running statistics.\n",
    "    df_no_outliers = filter_by_iqr(df)\n",
    "    df_newfeat= extract_features(df_no_outliers)\n",
    "    \n",
    "    # Preprocess the dataset for model input.\n",
    "    df_transformed = transform_to_supervised(df_newfeat)\n",
    "    df_encoded, ohe = encode_categorical(df_transformed)\n",
    "    \n",
    "    # Separate features and target.\n",
    "    X = df_encoded.drop(columns=['value'])\n",
    "    y = df_encoded.value\n",
    "\n",
    "    most_recent_vals = df_encoded.iloc[-1][['rolling_mean', 'rolling_std']]\n",
    "\n",
    "    model = XGBRegressor(objective='reg:squarederror', n_estimators=100)\n",
    "    n_splits = 9\n",
    "    mae_train_avg, mae_test_avg = train(model, X, y, n_splits=n_splits)\n",
    "    print(f'Avg MAE:\\nTrain: {mae_train_avg}\\nTest: {mae_test_avg}')\n",
    "    \n",
    "    X_new, features_to_drop = remove_redundant_features(model, X)\n",
    "    schema = X_new.columns.tolist()\n",
    "    best_params = tune_hyperparameters(X_new, y, n_trials=n_trials)\n",
    "\n",
    "    model = XGBRegressor(**best_params)\n",
    "    train(model, X_new, y, n_splits=n_splits, track=True)\n",
    "\n",
    "    artifacts = [ohe, features_to_drop, schema, most_recent_vals]\n",
    "    return (model, artifacts)"
   ]
  },
  {
   "cell_type": "code",
   "execution_count": 11,
   "metadata": {},
   "outputs": [
    {
     "data": {
      "text/html": [
       "<pre style=\"white-space:pre;overflow-x:auto;line-height:normal;font-family:Menlo,'DejaVu Sans Mono',consolas,'Courier New',monospace\">14:27:25.697 | <span style=\"color: #008080; text-decoration-color: #008080\">INFO</span>    | prefect.engine - Created flow run<span style=\"color: #800080; text-decoration-color: #800080\"> 'hopeful-cheetah'</span> for flow<span style=\"color: #800080; text-decoration-color: #800080; font-weight: bold\"> 'training_flow'</span>\n",
       "</pre>\n"
      ],
      "text/plain": [
       "14:27:25.697 | \u001b[36mINFO\u001b[0m    | prefect.engine - Created flow run\u001b[35m 'hopeful-cheetah'\u001b[0m for flow\u001b[1;35m 'training_flow'\u001b[0m\n"
      ]
     },
     "metadata": {},
     "output_type": "display_data"
    },
    {
     "data": {
      "text/html": [
       "<pre style=\"white-space:pre;overflow-x:auto;line-height:normal;font-family:Menlo,'DejaVu Sans Mono',consolas,'Courier New',monospace\">14:27:25.700 | <span style=\"color: #008080; text-decoration-color: #008080\">INFO</span>    | Flow run<span style=\"color: #800080; text-decoration-color: #800080\"> 'hopeful-cheetah'</span> - View at <span style=\"color: #0000ff; text-decoration-color: #0000ff\">http://127.0.0.1:4200/flow-runs/flow-run/a5659d6d-0760-4ca9-9dbf-9689ab23e341</span>\n",
       "</pre>\n"
      ],
      "text/plain": [
       "14:27:25.700 | \u001b[36mINFO\u001b[0m    | Flow run\u001b[35m 'hopeful-cheetah'\u001b[0m - View at \u001b[94mhttp://127.0.0.1:4200/flow-runs/flow-run/a5659d6d-0760-4ca9-9dbf-9689ab23e341\u001b[0m\n"
      ]
     },
     "metadata": {},
     "output_type": "display_data"
    },
    {
     "data": {
      "text/html": [
       "<pre style=\"white-space:pre;overflow-x:auto;line-height:normal;font-family:Menlo,'DejaVu Sans Mono',consolas,'Courier New',monospace\">14:27:25.822 | <span style=\"color: #008080; text-decoration-color: #008080\">INFO</span>    | Flow run<span style=\"color: #800080; text-decoration-color: #800080\"> 'hopeful-cheetah'</span> - Created task run 'read_data-0' for task 'read_data'\n",
       "</pre>\n"
      ],
      "text/plain": [
       "14:27:25.822 | \u001b[36mINFO\u001b[0m    | Flow run\u001b[35m 'hopeful-cheetah'\u001b[0m - Created task run 'read_data-0' for task 'read_data'\n"
      ]
     },
     "metadata": {},
     "output_type": "display_data"
    },
    {
     "data": {
      "text/html": [
       "<pre style=\"white-space:pre;overflow-x:auto;line-height:normal;font-family:Menlo,'DejaVu Sans Mono',consolas,'Courier New',monospace\">14:27:25.823 | <span style=\"color: #008080; text-decoration-color: #008080\">INFO</span>    | Flow run<span style=\"color: #800080; text-decoration-color: #800080\"> 'hopeful-cheetah'</span> - Executing 'read_data-0' immediately...\n",
       "</pre>\n"
      ],
      "text/plain": [
       "14:27:25.823 | \u001b[36mINFO\u001b[0m    | Flow run\u001b[35m 'hopeful-cheetah'\u001b[0m - Executing 'read_data-0' immediately...\n"
      ]
     },
     "metadata": {},
     "output_type": "display_data"
    },
    {
     "data": {
      "text/html": [
       "<pre style=\"white-space:pre;overflow-x:auto;line-height:normal;font-family:Menlo,'DejaVu Sans Mono',consolas,'Courier New',monospace\">14:27:25.954 | <span style=\"color: #008080; text-decoration-color: #008080\">INFO</span>    | Task run 'read_data-0' - Finished in state <span style=\"color: #008000; text-decoration-color: #008000\">Completed</span>()\n",
       "</pre>\n"
      ],
      "text/plain": [
       "14:27:25.954 | \u001b[36mINFO\u001b[0m    | Task run 'read_data-0' - Finished in state \u001b[32mCompleted\u001b[0m()\n"
      ]
     },
     "metadata": {},
     "output_type": "display_data"
    },
    {
     "data": {
      "text/html": [
       "<pre style=\"white-space:pre;overflow-x:auto;line-height:normal;font-family:Menlo,'DejaVu Sans Mono',consolas,'Courier New',monospace\">14:27:25.983 | <span style=\"color: #008080; text-decoration-color: #008080\">INFO</span>    | Flow run<span style=\"color: #800080; text-decoration-color: #800080\"> 'hopeful-cheetah'</span> - Created task run 'filter_by_iqr-0' for task 'filter_by_iqr'\n",
       "</pre>\n"
      ],
      "text/plain": [
       "14:27:25.983 | \u001b[36mINFO\u001b[0m    | Flow run\u001b[35m 'hopeful-cheetah'\u001b[0m - Created task run 'filter_by_iqr-0' for task 'filter_by_iqr'\n"
      ]
     },
     "metadata": {},
     "output_type": "display_data"
    },
    {
     "data": {
      "text/html": [
       "<pre style=\"white-space:pre;overflow-x:auto;line-height:normal;font-family:Menlo,'DejaVu Sans Mono',consolas,'Courier New',monospace\">14:27:25.985 | <span style=\"color: #008080; text-decoration-color: #008080\">INFO</span>    | Flow run<span style=\"color: #800080; text-decoration-color: #800080\"> 'hopeful-cheetah'</span> - Executing 'filter_by_iqr-0' immediately...\n",
       "</pre>\n"
      ],
      "text/plain": [
       "14:27:25.985 | \u001b[36mINFO\u001b[0m    | Flow run\u001b[35m 'hopeful-cheetah'\u001b[0m - Executing 'filter_by_iqr-0' immediately...\n"
      ]
     },
     "metadata": {},
     "output_type": "display_data"
    },
    {
     "data": {
      "text/html": [
       "<pre style=\"white-space:pre;overflow-x:auto;line-height:normal;font-family:Menlo,'DejaVu Sans Mono',consolas,'Courier New',monospace\">14:27:26.075 | <span style=\"color: #008080; text-decoration-color: #008080\">INFO</span>    | Task run 'filter_by_iqr-0' - Finished in state <span style=\"color: #008000; text-decoration-color: #008000\">Completed</span>()\n",
       "</pre>\n"
      ],
      "text/plain": [
       "14:27:26.075 | \u001b[36mINFO\u001b[0m    | Task run 'filter_by_iqr-0' - Finished in state \u001b[32mCompleted\u001b[0m()\n"
      ]
     },
     "metadata": {},
     "output_type": "display_data"
    },
    {
     "data": {
      "text/html": [
       "<pre style=\"white-space:pre;overflow-x:auto;line-height:normal;font-family:Menlo,'DejaVu Sans Mono',consolas,'Courier New',monospace\">14:27:26.103 | <span style=\"color: #008080; text-decoration-color: #008080\">INFO</span>    | Flow run<span style=\"color: #800080; text-decoration-color: #800080\"> 'hopeful-cheetah'</span> - Created task run 'extract_features-0' for task 'extract_features'\n",
       "</pre>\n"
      ],
      "text/plain": [
       "14:27:26.103 | \u001b[36mINFO\u001b[0m    | Flow run\u001b[35m 'hopeful-cheetah'\u001b[0m - Created task run 'extract_features-0' for task 'extract_features'\n"
      ]
     },
     "metadata": {},
     "output_type": "display_data"
    },
    {
     "data": {
      "text/html": [
       "<pre style=\"white-space:pre;overflow-x:auto;line-height:normal;font-family:Menlo,'DejaVu Sans Mono',consolas,'Courier New',monospace\">14:27:26.105 | <span style=\"color: #008080; text-decoration-color: #008080\">INFO</span>    | Flow run<span style=\"color: #800080; text-decoration-color: #800080\"> 'hopeful-cheetah'</span> - Executing 'extract_features-0' immediately...\n",
       "</pre>\n"
      ],
      "text/plain": [
       "14:27:26.105 | \u001b[36mINFO\u001b[0m    | Flow run\u001b[35m 'hopeful-cheetah'\u001b[0m - Executing 'extract_features-0' immediately...\n"
      ]
     },
     "metadata": {},
     "output_type": "display_data"
    },
    {
     "data": {
      "text/html": [
       "<pre style=\"white-space:pre;overflow-x:auto;line-height:normal;font-family:Menlo,'DejaVu Sans Mono',consolas,'Courier New',monospace\">14:27:26.233 | <span style=\"color: #008080; text-decoration-color: #008080\">INFO</span>    | Task run 'extract_features-0' - Finished in state <span style=\"color: #008000; text-decoration-color: #008000\">Completed</span>()\n",
       "</pre>\n"
      ],
      "text/plain": [
       "14:27:26.233 | \u001b[36mINFO\u001b[0m    | Task run 'extract_features-0' - Finished in state \u001b[32mCompleted\u001b[0m()\n"
      ]
     },
     "metadata": {},
     "output_type": "display_data"
    },
    {
     "data": {
      "text/html": [
       "<pre style=\"white-space:pre;overflow-x:auto;line-height:normal;font-family:Menlo,'DejaVu Sans Mono',consolas,'Courier New',monospace\">14:27:26.266 | <span style=\"color: #008080; text-decoration-color: #008080\">INFO</span>    | Flow run<span style=\"color: #800080; text-decoration-color: #800080\"> 'hopeful-cheetah'</span> - Created task run 'transform_to_supervised-0' for task 'transform_to_supervised'\n",
       "</pre>\n"
      ],
      "text/plain": [
       "14:27:26.266 | \u001b[36mINFO\u001b[0m    | Flow run\u001b[35m 'hopeful-cheetah'\u001b[0m - Created task run 'transform_to_supervised-0' for task 'transform_to_supervised'\n"
      ]
     },
     "metadata": {},
     "output_type": "display_data"
    },
    {
     "data": {
      "text/html": [
       "<pre style=\"white-space:pre;overflow-x:auto;line-height:normal;font-family:Menlo,'DejaVu Sans Mono',consolas,'Courier New',monospace\">14:27:26.268 | <span style=\"color: #008080; text-decoration-color: #008080\">INFO</span>    | Flow run<span style=\"color: #800080; text-decoration-color: #800080\"> 'hopeful-cheetah'</span> - Executing 'transform_to_supervised-0' immediately...\n",
       "</pre>\n"
      ],
      "text/plain": [
       "14:27:26.268 | \u001b[36mINFO\u001b[0m    | Flow run\u001b[35m 'hopeful-cheetah'\u001b[0m - Executing 'transform_to_supervised-0' immediately...\n"
      ]
     },
     "metadata": {},
     "output_type": "display_data"
    },
    {
     "data": {
      "text/html": [
       "<pre style=\"white-space:pre;overflow-x:auto;line-height:normal;font-family:Menlo,'DejaVu Sans Mono',consolas,'Courier New',monospace\">14:27:26.366 | <span style=\"color: #008080; text-decoration-color: #008080\">INFO</span>    | Task run 'transform_to_supervised-0' - Finished in state <span style=\"color: #008000; text-decoration-color: #008000\">Completed</span>()\n",
       "</pre>\n"
      ],
      "text/plain": [
       "14:27:26.366 | \u001b[36mINFO\u001b[0m    | Task run 'transform_to_supervised-0' - Finished in state \u001b[32mCompleted\u001b[0m()\n"
      ]
     },
     "metadata": {},
     "output_type": "display_data"
    },
    {
     "data": {
      "text/html": [
       "<pre style=\"white-space:pre;overflow-x:auto;line-height:normal;font-family:Menlo,'DejaVu Sans Mono',consolas,'Courier New',monospace\">14:27:26.399 | <span style=\"color: #008080; text-decoration-color: #008080\">INFO</span>    | Flow run<span style=\"color: #800080; text-decoration-color: #800080\"> 'hopeful-cheetah'</span> - Created task run 'encode_categorical-0' for task 'encode_categorical'\n",
       "</pre>\n"
      ],
      "text/plain": [
       "14:27:26.399 | \u001b[36mINFO\u001b[0m    | Flow run\u001b[35m 'hopeful-cheetah'\u001b[0m - Created task run 'encode_categorical-0' for task 'encode_categorical'\n"
      ]
     },
     "metadata": {},
     "output_type": "display_data"
    },
    {
     "data": {
      "text/html": [
       "<pre style=\"white-space:pre;overflow-x:auto;line-height:normal;font-family:Menlo,'DejaVu Sans Mono',consolas,'Courier New',monospace\">14:27:26.401 | <span style=\"color: #008080; text-decoration-color: #008080\">INFO</span>    | Flow run<span style=\"color: #800080; text-decoration-color: #800080\"> 'hopeful-cheetah'</span> - Executing 'encode_categorical-0' immediately...\n",
       "</pre>\n"
      ],
      "text/plain": [
       "14:27:26.401 | \u001b[36mINFO\u001b[0m    | Flow run\u001b[35m 'hopeful-cheetah'\u001b[0m - Executing 'encode_categorical-0' immediately...\n"
      ]
     },
     "metadata": {},
     "output_type": "display_data"
    },
    {
     "data": {
      "text/html": [
       "<pre style=\"white-space:pre;overflow-x:auto;line-height:normal;font-family:Menlo,'DejaVu Sans Mono',consolas,'Courier New',monospace\">14:27:26.698 | <span style=\"color: #008080; text-decoration-color: #008080\">INFO</span>    | Task run 'encode_categorical-0' - Finished in state <span style=\"color: #008000; text-decoration-color: #008000\">Completed</span>()\n",
       "</pre>\n"
      ],
      "text/plain": [
       "14:27:26.698 | \u001b[36mINFO\u001b[0m    | Task run 'encode_categorical-0' - Finished in state \u001b[32mCompleted\u001b[0m()\n"
      ]
     },
     "metadata": {},
     "output_type": "display_data"
    },
    {
     "data": {
      "text/html": [
       "<pre style=\"white-space:pre;overflow-x:auto;line-height:normal;font-family:Menlo,'DejaVu Sans Mono',consolas,'Courier New',monospace\">14:27:26.734 | <span style=\"color: #008080; text-decoration-color: #008080\">INFO</span>    | Flow run<span style=\"color: #800080; text-decoration-color: #800080\"> 'hopeful-cheetah'</span> - Created task run 'train-0' for task 'train'\n",
       "</pre>\n"
      ],
      "text/plain": [
       "14:27:26.734 | \u001b[36mINFO\u001b[0m    | Flow run\u001b[35m 'hopeful-cheetah'\u001b[0m - Created task run 'train-0' for task 'train'\n"
      ]
     },
     "metadata": {},
     "output_type": "display_data"
    },
    {
     "data": {
      "text/html": [
       "<pre style=\"white-space:pre;overflow-x:auto;line-height:normal;font-family:Menlo,'DejaVu Sans Mono',consolas,'Courier New',monospace\">14:27:26.736 | <span style=\"color: #008080; text-decoration-color: #008080\">INFO</span>    | Flow run<span style=\"color: #800080; text-decoration-color: #800080\"> 'hopeful-cheetah'</span> - Executing 'train-0' immediately...\n",
       "</pre>\n"
      ],
      "text/plain": [
       "14:27:26.736 | \u001b[36mINFO\u001b[0m    | Flow run\u001b[35m 'hopeful-cheetah'\u001b[0m - Executing 'train-0' immediately...\n"
      ]
     },
     "metadata": {},
     "output_type": "display_data"
    },
    {
     "data": {
      "text/html": [
       "<pre style=\"white-space:pre;overflow-x:auto;line-height:normal;font-family:Menlo,'DejaVu Sans Mono',consolas,'Courier New',monospace\">14:27:28.581 | <span style=\"color: #008080; text-decoration-color: #008080\">INFO</span>    | Task run 'train-0' - Finished in state <span style=\"color: #008000; text-decoration-color: #008000\">Completed</span>()\n",
       "</pre>\n"
      ],
      "text/plain": [
       "14:27:28.581 | \u001b[36mINFO\u001b[0m    | Task run 'train-0' - Finished in state \u001b[32mCompleted\u001b[0m()\n"
      ]
     },
     "metadata": {},
     "output_type": "display_data"
    },
    {
     "data": {
      "text/html": [
       "<pre style=\"white-space:pre;overflow-x:auto;line-height:normal;font-family:Menlo,'DejaVu Sans Mono',consolas,'Courier New',monospace\">14:27:28.584 | <span style=\"color: #008080; text-decoration-color: #008080\">INFO</span>    | Flow run<span style=\"color: #800080; text-decoration-color: #800080\"> 'hopeful-cheetah'</span> - Avg MAE:\n",
       "Train: 507.22123689041837\n",
       "Test: 2740.6925868447456\n",
       "</pre>\n"
      ],
      "text/plain": [
       "14:27:28.584 | \u001b[36mINFO\u001b[0m    | Flow run\u001b[35m 'hopeful-cheetah'\u001b[0m - Avg MAE:\n",
       "Train: 507.22123689041837\n",
       "Test: 2740.6925868447456\n"
      ]
     },
     "metadata": {},
     "output_type": "display_data"
    },
    {
     "data": {
      "text/html": [
       "<pre style=\"white-space:pre;overflow-x:auto;line-height:normal;font-family:Menlo,'DejaVu Sans Mono',consolas,'Courier New',monospace\">14:27:28.624 | <span style=\"color: #008080; text-decoration-color: #008080\">INFO</span>    | Flow run<span style=\"color: #800080; text-decoration-color: #800080\"> 'hopeful-cheetah'</span> - Created task run 'remove_redundant_features-0' for task 'remove_redundant_features'\n",
       "</pre>\n"
      ],
      "text/plain": [
       "14:27:28.624 | \u001b[36mINFO\u001b[0m    | Flow run\u001b[35m 'hopeful-cheetah'\u001b[0m - Created task run 'remove_redundant_features-0' for task 'remove_redundant_features'\n"
      ]
     },
     "metadata": {},
     "output_type": "display_data"
    },
    {
     "data": {
      "text/html": [
       "<pre style=\"white-space:pre;overflow-x:auto;line-height:normal;font-family:Menlo,'DejaVu Sans Mono',consolas,'Courier New',monospace\">14:27:28.626 | <span style=\"color: #008080; text-decoration-color: #008080\">INFO</span>    | Flow run<span style=\"color: #800080; text-decoration-color: #800080\"> 'hopeful-cheetah'</span> - Executing 'remove_redundant_features-0' immediately...\n",
       "</pre>\n"
      ],
      "text/plain": [
       "14:27:28.626 | \u001b[36mINFO\u001b[0m    | Flow run\u001b[35m 'hopeful-cheetah'\u001b[0m - Executing 'remove_redundant_features-0' immediately...\n"
      ]
     },
     "metadata": {},
     "output_type": "display_data"
    },
    {
     "data": {
      "text/html": [
       "<pre style=\"white-space:pre;overflow-x:auto;line-height:normal;font-family:Menlo,'DejaVu Sans Mono',consolas,'Courier New',monospace\">14:27:28.723 | <span style=\"color: #008080; text-decoration-color: #008080\">INFO</span>    | Task run 'remove_redundant_features-0' - Finished in state <span style=\"color: #008000; text-decoration-color: #008000\">Completed</span>()\n",
       "</pre>\n"
      ],
      "text/plain": [
       "14:27:28.723 | \u001b[36mINFO\u001b[0m    | Task run 'remove_redundant_features-0' - Finished in state \u001b[32mCompleted\u001b[0m()\n"
      ]
     },
     "metadata": {},
     "output_type": "display_data"
    },
    {
     "data": {
      "text/html": [
       "<pre style=\"white-space:pre;overflow-x:auto;line-height:normal;font-family:Menlo,'DejaVu Sans Mono',consolas,'Courier New',monospace\">14:27:28.837 | <span style=\"color: #008080; text-decoration-color: #008080\">INFO</span>    | Flow run<span style=\"color: #800080; text-decoration-color: #800080\"> 'hopeful-cheetah'</span> - Created subflow run<span style=\"color: #800080; text-decoration-color: #800080\"> 'burrowing-bull'</span> for flow<span style=\"color: #800080; text-decoration-color: #800080; font-weight: bold\"> 'tune_hyperparameters'</span>\n",
       "</pre>\n"
      ],
      "text/plain": [
       "14:27:28.837 | \u001b[36mINFO\u001b[0m    | Flow run\u001b[35m 'hopeful-cheetah'\u001b[0m - Created subflow run\u001b[35m 'burrowing-bull'\u001b[0m for flow\u001b[1;35m 'tune_hyperparameters'\u001b[0m\n"
      ]
     },
     "metadata": {},
     "output_type": "display_data"
    },
    {
     "data": {
      "text/html": [
       "<pre style=\"white-space:pre;overflow-x:auto;line-height:normal;font-family:Menlo,'DejaVu Sans Mono',consolas,'Courier New',monospace\">14:27:28.839 | <span style=\"color: #008080; text-decoration-color: #008080\">INFO</span>    | Flow run<span style=\"color: #800080; text-decoration-color: #800080\"> 'burrowing-bull'</span> - View at <span style=\"color: #0000ff; text-decoration-color: #0000ff\">http://127.0.0.1:4200/flow-runs/flow-run/202b8564-6a30-453a-bfb7-6344d0e412b7</span>\n",
       "</pre>\n"
      ],
      "text/plain": [
       "14:27:28.839 | \u001b[36mINFO\u001b[0m    | Flow run\u001b[35m 'burrowing-bull'\u001b[0m - View at \u001b[94mhttp://127.0.0.1:4200/flow-runs/flow-run/202b8564-6a30-453a-bfb7-6344d0e412b7\u001b[0m\n"
      ]
     },
     "metadata": {},
     "output_type": "display_data"
    },
    {
     "name": "stderr",
     "output_type": "stream",
     "text": [
      "[I 2023-08-13 14:27:28,888] A new study created in memory with name: no-name-4c817362-bbf5-4c65-a0b1-bf83a33658e8\n"
     ]
    },
    {
     "data": {
      "text/html": [
       "<pre style=\"white-space:pre;overflow-x:auto;line-height:normal;font-family:Menlo,'DejaVu Sans Mono',consolas,'Courier New',monospace\">14:27:28.921 | <span style=\"color: #008080; text-decoration-color: #008080\">INFO</span>    | Flow run<span style=\"color: #800080; text-decoration-color: #800080\"> 'burrowing-bull'</span> - Created task run 'train-0' for task 'train'\n",
       "</pre>\n"
      ],
      "text/plain": [
       "14:27:28.921 | \u001b[36mINFO\u001b[0m    | Flow run\u001b[35m 'burrowing-bull'\u001b[0m - Created task run 'train-0' for task 'train'\n"
      ]
     },
     "metadata": {},
     "output_type": "display_data"
    },
    {
     "data": {
      "text/html": [
       "<pre style=\"white-space:pre;overflow-x:auto;line-height:normal;font-family:Menlo,'DejaVu Sans Mono',consolas,'Courier New',monospace\">14:27:28.923 | <span style=\"color: #008080; text-decoration-color: #008080\">INFO</span>    | Flow run<span style=\"color: #800080; text-decoration-color: #800080\"> 'burrowing-bull'</span> - Executing 'train-0' immediately...\n",
       "</pre>\n"
      ],
      "text/plain": [
       "14:27:28.923 | \u001b[36mINFO\u001b[0m    | Flow run\u001b[35m 'burrowing-bull'\u001b[0m - Executing 'train-0' immediately...\n"
      ]
     },
     "metadata": {},
     "output_type": "display_data"
    },
    {
     "data": {
      "text/html": [
       "<pre style=\"white-space:pre;overflow-x:auto;line-height:normal;font-family:Menlo,'DejaVu Sans Mono',consolas,'Courier New',monospace\">14:27:30.267 | <span style=\"color: #008080; text-decoration-color: #008080\">INFO</span>    | Task run 'train-0' - Finished in state <span style=\"color: #008000; text-decoration-color: #008000\">Completed</span>()\n",
       "</pre>\n"
      ],
      "text/plain": [
       "14:27:30.267 | \u001b[36mINFO\u001b[0m    | Task run 'train-0' - Finished in state \u001b[32mCompleted\u001b[0m()\n"
      ]
     },
     "metadata": {},
     "output_type": "display_data"
    },
    {
     "name": "stderr",
     "output_type": "stream",
     "text": [
      "[I 2023-08-13 14:27:30,271] Trial 0 finished with value: 2629.6946221667795 and parameters: {'n_estimators': 535, 'max_depth': 1, 'learning_rate': 0.059449805918384425, 'subsample': 0.6453668841675091, 'colsample_bytree': 0.5718276077087696, 'min_child_weight': 3, 'alpha': 2.9248568561026596, 'gamma': 0.0026909520243621476, 'lambda': 1.6365618445827252}. Best is trial 0 with value: 2629.6946221667795.\n"
     ]
    },
    {
     "data": {
      "text/html": [
       "<pre style=\"white-space:pre;overflow-x:auto;line-height:normal;font-family:Menlo,'DejaVu Sans Mono',consolas,'Courier New',monospace\">14:27:30.306 | <span style=\"color: #008080; text-decoration-color: #008080\">INFO</span>    | Flow run<span style=\"color: #800080; text-decoration-color: #800080\"> 'burrowing-bull'</span> - Created task run 'train-1' for task 'train'\n",
       "</pre>\n"
      ],
      "text/plain": [
       "14:27:30.306 | \u001b[36mINFO\u001b[0m    | Flow run\u001b[35m 'burrowing-bull'\u001b[0m - Created task run 'train-1' for task 'train'\n"
      ]
     },
     "metadata": {},
     "output_type": "display_data"
    },
    {
     "data": {
      "text/html": [
       "<pre style=\"white-space:pre;overflow-x:auto;line-height:normal;font-family:Menlo,'DejaVu Sans Mono',consolas,'Courier New',monospace\">14:27:30.308 | <span style=\"color: #008080; text-decoration-color: #008080\">INFO</span>    | Flow run<span style=\"color: #800080; text-decoration-color: #800080\"> 'burrowing-bull'</span> - Executing 'train-1' immediately...\n",
       "</pre>\n"
      ],
      "text/plain": [
       "14:27:30.308 | \u001b[36mINFO\u001b[0m    | Flow run\u001b[35m 'burrowing-bull'\u001b[0m - Executing 'train-1' immediately...\n"
      ]
     },
     "metadata": {},
     "output_type": "display_data"
    },
    {
     "data": {
      "text/html": [
       "<pre style=\"white-space:pre;overflow-x:auto;line-height:normal;font-family:Menlo,'DejaVu Sans Mono',consolas,'Courier New',monospace\">14:27:32.117 | <span style=\"color: #008080; text-decoration-color: #008080\">INFO</span>    | Task run 'train-1' - Finished in state <span style=\"color: #008000; text-decoration-color: #008000\">Completed</span>()\n",
       "</pre>\n"
      ],
      "text/plain": [
       "14:27:32.117 | \u001b[36mINFO\u001b[0m    | Task run 'train-1' - Finished in state \u001b[32mCompleted\u001b[0m()\n"
      ]
     },
     "metadata": {},
     "output_type": "display_data"
    },
    {
     "name": "stderr",
     "output_type": "stream",
     "text": [
      "[I 2023-08-13 14:27:32,120] Trial 1 finished with value: 2672.4709869756425 and parameters: {'n_estimators': 411, 'max_depth': 9, 'learning_rate': 0.07725098885484515, 'subsample': 0.9211115488260833, 'colsample_bytree': 0.5596175022532344, 'min_child_weight': 2, 'alpha': 7.779715585836675e-05, 'gamma': 0.0007416307725530485, 'lambda': 0.07206993160627938}. Best is trial 0 with value: 2629.6946221667795.\n"
     ]
    },
    {
     "data": {
      "text/html": [
       "<pre style=\"white-space:pre;overflow-x:auto;line-height:normal;font-family:Menlo,'DejaVu Sans Mono',consolas,'Courier New',monospace\">14:27:32.154 | <span style=\"color: #008080; text-decoration-color: #008080\">INFO</span>    | Flow run<span style=\"color: #800080; text-decoration-color: #800080\"> 'burrowing-bull'</span> - Created task run 'train-2' for task 'train'\n",
       "</pre>\n"
      ],
      "text/plain": [
       "14:27:32.154 | \u001b[36mINFO\u001b[0m    | Flow run\u001b[35m 'burrowing-bull'\u001b[0m - Created task run 'train-2' for task 'train'\n"
      ]
     },
     "metadata": {},
     "output_type": "display_data"
    },
    {
     "data": {
      "text/html": [
       "<pre style=\"white-space:pre;overflow-x:auto;line-height:normal;font-family:Menlo,'DejaVu Sans Mono',consolas,'Courier New',monospace\">14:27:32.155 | <span style=\"color: #008080; text-decoration-color: #008080\">INFO</span>    | Flow run<span style=\"color: #800080; text-decoration-color: #800080\"> 'burrowing-bull'</span> - Executing 'train-2' immediately...\n",
       "</pre>\n"
      ],
      "text/plain": [
       "14:27:32.155 | \u001b[36mINFO\u001b[0m    | Flow run\u001b[35m 'burrowing-bull'\u001b[0m - Executing 'train-2' immediately...\n"
      ]
     },
     "metadata": {},
     "output_type": "display_data"
    },
    {
     "data": {
      "text/html": [
       "<pre style=\"white-space:pre;overflow-x:auto;line-height:normal;font-family:Menlo,'DejaVu Sans Mono',consolas,'Courier New',monospace\">14:27:32.935 | <span style=\"color: #008080; text-decoration-color: #008080\">INFO</span>    | Task run 'train-2' - Finished in state <span style=\"color: #008000; text-decoration-color: #008000\">Completed</span>()\n",
       "</pre>\n"
      ],
      "text/plain": [
       "14:27:32.935 | \u001b[36mINFO\u001b[0m    | Task run 'train-2' - Finished in state \u001b[32mCompleted\u001b[0m()\n"
      ]
     },
     "metadata": {},
     "output_type": "display_data"
    },
    {
     "name": "stderr",
     "output_type": "stream",
     "text": [
      "[I 2023-08-13 14:27:32,938] Trial 2 finished with value: 3196.977210546346 and parameters: {'n_estimators': 525, 'max_depth': 9, 'learning_rate': 0.2996481526215877, 'subsample': 0.5503728489303715, 'colsample_bytree': 0.5328411759638969, 'min_child_weight': 1, 'alpha': 0.10070877260220502, 'gamma': 0.02299632197036474, 'lambda': 0.00015397867375847152}. Best is trial 0 with value: 2629.6946221667795.\n"
     ]
    },
    {
     "data": {
      "text/html": [
       "<pre style=\"white-space:pre;overflow-x:auto;line-height:normal;font-family:Menlo,'DejaVu Sans Mono',consolas,'Courier New',monospace\">14:27:32.978 | <span style=\"color: #008080; text-decoration-color: #008080\">INFO</span>    | Flow run<span style=\"color: #800080; text-decoration-color: #800080\"> 'burrowing-bull'</span> - Created task run 'train-3' for task 'train'\n",
       "</pre>\n"
      ],
      "text/plain": [
       "14:27:32.978 | \u001b[36mINFO\u001b[0m    | Flow run\u001b[35m 'burrowing-bull'\u001b[0m - Created task run 'train-3' for task 'train'\n"
      ]
     },
     "metadata": {},
     "output_type": "display_data"
    },
    {
     "data": {
      "text/html": [
       "<pre style=\"white-space:pre;overflow-x:auto;line-height:normal;font-family:Menlo,'DejaVu Sans Mono',consolas,'Courier New',monospace\">14:27:32.980 | <span style=\"color: #008080; text-decoration-color: #008080\">INFO</span>    | Flow run<span style=\"color: #800080; text-decoration-color: #800080\"> 'burrowing-bull'</span> - Executing 'train-3' immediately...\n",
       "</pre>\n"
      ],
      "text/plain": [
       "14:27:32.980 | \u001b[36mINFO\u001b[0m    | Flow run\u001b[35m 'burrowing-bull'\u001b[0m - Executing 'train-3' immediately...\n"
      ]
     },
     "metadata": {},
     "output_type": "display_data"
    },
    {
     "data": {
      "text/html": [
       "<pre style=\"white-space:pre;overflow-x:auto;line-height:normal;font-family:Menlo,'DejaVu Sans Mono',consolas,'Courier New',monospace\">14:27:34.345 | <span style=\"color: #008080; text-decoration-color: #008080\">INFO</span>    | Task run 'train-3' - Finished in state <span style=\"color: #008000; text-decoration-color: #008000\">Completed</span>()\n",
       "</pre>\n"
      ],
      "text/plain": [
       "14:27:34.345 | \u001b[36mINFO\u001b[0m    | Task run 'train-3' - Finished in state \u001b[32mCompleted\u001b[0m()\n"
      ]
     },
     "metadata": {},
     "output_type": "display_data"
    },
    {
     "name": "stderr",
     "output_type": "stream",
     "text": [
      "[I 2023-08-13 14:27:34,348] Trial 3 finished with value: 2481.9420003805817 and parameters: {'n_estimators': 366, 'max_depth': 10, 'learning_rate': 0.14730495350050482, 'subsample': 0.744807602337664, 'colsample_bytree': 0.7745011092605848, 'min_child_weight': 2, 'alpha': 0.2738186390681142, 'gamma': 1.1672236624655337, 'lambda': 0.00798826291212025}. Best is trial 3 with value: 2481.9420003805817.\n"
     ]
    },
    {
     "data": {
      "text/html": [
       "<pre style=\"white-space:pre;overflow-x:auto;line-height:normal;font-family:Menlo,'DejaVu Sans Mono',consolas,'Courier New',monospace\">14:27:34.377 | <span style=\"color: #008080; text-decoration-color: #008080\">INFO</span>    | Flow run<span style=\"color: #800080; text-decoration-color: #800080\"> 'burrowing-bull'</span> - Created task run 'train-4' for task 'train'\n",
       "</pre>\n"
      ],
      "text/plain": [
       "14:27:34.377 | \u001b[36mINFO\u001b[0m    | Flow run\u001b[35m 'burrowing-bull'\u001b[0m - Created task run 'train-4' for task 'train'\n"
      ]
     },
     "metadata": {},
     "output_type": "display_data"
    },
    {
     "data": {
      "text/html": [
       "<pre style=\"white-space:pre;overflow-x:auto;line-height:normal;font-family:Menlo,'DejaVu Sans Mono',consolas,'Courier New',monospace\">14:27:34.379 | <span style=\"color: #008080; text-decoration-color: #008080\">INFO</span>    | Flow run<span style=\"color: #800080; text-decoration-color: #800080\"> 'burrowing-bull'</span> - Executing 'train-4' immediately...\n",
       "</pre>\n"
      ],
      "text/plain": [
       "14:27:34.379 | \u001b[36mINFO\u001b[0m    | Flow run\u001b[35m 'burrowing-bull'\u001b[0m - Executing 'train-4' immediately...\n"
      ]
     },
     "metadata": {},
     "output_type": "display_data"
    },
    {
     "data": {
      "text/html": [
       "<pre style=\"white-space:pre;overflow-x:auto;line-height:normal;font-family:Menlo,'DejaVu Sans Mono',consolas,'Courier New',monospace\">14:27:35.862 | <span style=\"color: #008080; text-decoration-color: #008080\">INFO</span>    | Task run 'train-4' - Finished in state <span style=\"color: #008000; text-decoration-color: #008000\">Completed</span>()\n",
       "</pre>\n"
      ],
      "text/plain": [
       "14:27:35.862 | \u001b[36mINFO\u001b[0m    | Task run 'train-4' - Finished in state \u001b[32mCompleted\u001b[0m()\n"
      ]
     },
     "metadata": {},
     "output_type": "display_data"
    },
    {
     "name": "stderr",
     "output_type": "stream",
     "text": [
      "[I 2023-08-13 14:27:35,865] Trial 4 finished with value: 2410.8844172868744 and parameters: {'n_estimators': 171, 'max_depth': 7, 'learning_rate': 0.0547968615358272, 'subsample': 0.9893679101072659, 'colsample_bytree': 0.7632654890804595, 'min_child_weight': 4, 'alpha': 0.008863426025689363, 'gamma': 0.03970734865199665, 'lambda': 0.22022114631737302}. Best is trial 4 with value: 2410.8844172868744.\n"
     ]
    },
    {
     "data": {
      "text/html": [
       "<pre style=\"white-space:pre;overflow-x:auto;line-height:normal;font-family:Menlo,'DejaVu Sans Mono',consolas,'Courier New',monospace\">14:27:35.896 | <span style=\"color: #008080; text-decoration-color: #008080\">INFO</span>    | Flow run<span style=\"color: #800080; text-decoration-color: #800080\"> 'burrowing-bull'</span> - Created task run 'train-5' for task 'train'\n",
       "</pre>\n"
      ],
      "text/plain": [
       "14:27:35.896 | \u001b[36mINFO\u001b[0m    | Flow run\u001b[35m 'burrowing-bull'\u001b[0m - Created task run 'train-5' for task 'train'\n"
      ]
     },
     "metadata": {},
     "output_type": "display_data"
    },
    {
     "data": {
      "text/html": [
       "<pre style=\"white-space:pre;overflow-x:auto;line-height:normal;font-family:Menlo,'DejaVu Sans Mono',consolas,'Courier New',monospace\">14:27:35.897 | <span style=\"color: #008080; text-decoration-color: #008080\">INFO</span>    | Flow run<span style=\"color: #800080; text-decoration-color: #800080\"> 'burrowing-bull'</span> - Executing 'train-5' immediately...\n",
       "</pre>\n"
      ],
      "text/plain": [
       "14:27:35.897 | \u001b[36mINFO\u001b[0m    | Flow run\u001b[35m 'burrowing-bull'\u001b[0m - Executing 'train-5' immediately...\n"
      ]
     },
     "metadata": {},
     "output_type": "display_data"
    },
    {
     "data": {
      "text/html": [
       "<pre style=\"white-space:pre;overflow-x:auto;line-height:normal;font-family:Menlo,'DejaVu Sans Mono',consolas,'Courier New',monospace\">14:27:37.756 | <span style=\"color: #008080; text-decoration-color: #008080\">INFO</span>    | Task run 'train-5' - Finished in state <span style=\"color: #008000; text-decoration-color: #008000\">Completed</span>()\n",
       "</pre>\n"
      ],
      "text/plain": [
       "14:27:37.756 | \u001b[36mINFO\u001b[0m    | Task run 'train-5' - Finished in state \u001b[32mCompleted\u001b[0m()\n"
      ]
     },
     "metadata": {},
     "output_type": "display_data"
    },
    {
     "name": "stderr",
     "output_type": "stream",
     "text": [
      "[I 2023-08-13 14:27:37,759] Trial 5 finished with value: 2334.7238233677267 and parameters: {'n_estimators': 982, 'max_depth': 8, 'learning_rate': 0.050556052857761144, 'subsample': 0.6600472925052511, 'colsample_bytree': 0.7853042464072119, 'min_child_weight': 8, 'alpha': 9.320718711583101, 'gamma': 0.030454980694643145, 'lambda': 2.9716750042072837}. Best is trial 5 with value: 2334.7238233677267.\n"
     ]
    },
    {
     "data": {
      "text/html": [
       "<pre style=\"white-space:pre;overflow-x:auto;line-height:normal;font-family:Menlo,'DejaVu Sans Mono',consolas,'Courier New',monospace\">14:27:37.790 | <span style=\"color: #008080; text-decoration-color: #008080\">INFO</span>    | Flow run<span style=\"color: #800080; text-decoration-color: #800080\"> 'burrowing-bull'</span> - Created task run 'train-6' for task 'train'\n",
       "</pre>\n"
      ],
      "text/plain": [
       "14:27:37.790 | \u001b[36mINFO\u001b[0m    | Flow run\u001b[35m 'burrowing-bull'\u001b[0m - Created task run 'train-6' for task 'train'\n"
      ]
     },
     "metadata": {},
     "output_type": "display_data"
    },
    {
     "data": {
      "text/html": [
       "<pre style=\"white-space:pre;overflow-x:auto;line-height:normal;font-family:Menlo,'DejaVu Sans Mono',consolas,'Courier New',monospace\">14:27:37.792 | <span style=\"color: #008080; text-decoration-color: #008080\">INFO</span>    | Flow run<span style=\"color: #800080; text-decoration-color: #800080\"> 'burrowing-bull'</span> - Executing 'train-6' immediately...\n",
       "</pre>\n"
      ],
      "text/plain": [
       "14:27:37.792 | \u001b[36mINFO\u001b[0m    | Flow run\u001b[35m 'burrowing-bull'\u001b[0m - Executing 'train-6' immediately...\n"
      ]
     },
     "metadata": {},
     "output_type": "display_data"
    },
    {
     "data": {
      "text/html": [
       "<pre style=\"white-space:pre;overflow-x:auto;line-height:normal;font-family:Menlo,'DejaVu Sans Mono',consolas,'Courier New',monospace\">14:27:38.759 | <span style=\"color: #008080; text-decoration-color: #008080\">INFO</span>    | Task run 'train-6' - Finished in state <span style=\"color: #008000; text-decoration-color: #008000\">Completed</span>()\n",
       "</pre>\n"
      ],
      "text/plain": [
       "14:27:38.759 | \u001b[36mINFO\u001b[0m    | Task run 'train-6' - Finished in state \u001b[32mCompleted\u001b[0m()\n"
      ]
     },
     "metadata": {},
     "output_type": "display_data"
    },
    {
     "name": "stderr",
     "output_type": "stream",
     "text": [
      "[I 2023-08-13 14:27:38,761] Trial 6 finished with value: 2489.5820904516236 and parameters: {'n_estimators': 663, 'max_depth': 10, 'learning_rate': 0.19913245464568258, 'subsample': 0.6294993873706789, 'colsample_bytree': 0.7309513409051656, 'min_child_weight': 9, 'alpha': 0.0001410425165556062, 'gamma': 0.29024576808960395, 'lambda': 0.11614016846068903}. Best is trial 5 with value: 2334.7238233677267.\n"
     ]
    },
    {
     "data": {
      "text/html": [
       "<pre style=\"white-space:pre;overflow-x:auto;line-height:normal;font-family:Menlo,'DejaVu Sans Mono',consolas,'Courier New',monospace\">14:27:38.810 | <span style=\"color: #008080; text-decoration-color: #008080\">INFO</span>    | Flow run<span style=\"color: #800080; text-decoration-color: #800080\"> 'burrowing-bull'</span> - Created task run 'train-7' for task 'train'\n",
       "</pre>\n"
      ],
      "text/plain": [
       "14:27:38.810 | \u001b[36mINFO\u001b[0m    | Flow run\u001b[35m 'burrowing-bull'\u001b[0m - Created task run 'train-7' for task 'train'\n"
      ]
     },
     "metadata": {},
     "output_type": "display_data"
    },
    {
     "data": {
      "text/html": [
       "<pre style=\"white-space:pre;overflow-x:auto;line-height:normal;font-family:Menlo,'DejaVu Sans Mono',consolas,'Courier New',monospace\">14:27:38.812 | <span style=\"color: #008080; text-decoration-color: #008080\">INFO</span>    | Flow run<span style=\"color: #800080; text-decoration-color: #800080\"> 'burrowing-bull'</span> - Executing 'train-7' immediately...\n",
       "</pre>\n"
      ],
      "text/plain": [
       "14:27:38.812 | \u001b[36mINFO\u001b[0m    | Flow run\u001b[35m 'burrowing-bull'\u001b[0m - Executing 'train-7' immediately...\n"
      ]
     },
     "metadata": {},
     "output_type": "display_data"
    },
    {
     "data": {
      "text/html": [
       "<pre style=\"white-space:pre;overflow-x:auto;line-height:normal;font-family:Menlo,'DejaVu Sans Mono',consolas,'Courier New',monospace\">14:27:39.098 | <span style=\"color: #008080; text-decoration-color: #008080\">INFO</span>    | Task run 'train-7' - Finished in state <span style=\"color: #008000; text-decoration-color: #008000\">Completed</span>()\n",
       "</pre>\n"
      ],
      "text/plain": [
       "14:27:39.098 | \u001b[36mINFO\u001b[0m    | Task run 'train-7' - Finished in state \u001b[32mCompleted\u001b[0m()\n"
      ]
     },
     "metadata": {},
     "output_type": "display_data"
    },
    {
     "name": "stderr",
     "output_type": "stream",
     "text": [
      "[I 2023-08-13 14:27:39,100] Trial 7 finished with value: 106465.29299597218 and parameters: {'n_estimators': 8, 'max_depth': 5, 'learning_rate': 0.02715446915163867, 'subsample': 0.6002743006590666, 'colsample_bytree': 0.8033013027738247, 'min_child_weight': 6, 'alpha': 3.6029927267022846e-05, 'gamma': 0.003947208286120759, 'lambda': 0.31399992105710134}. Best is trial 5 with value: 2334.7238233677267.\n"
     ]
    },
    {
     "data": {
      "text/html": [
       "<pre style=\"white-space:pre;overflow-x:auto;line-height:normal;font-family:Menlo,'DejaVu Sans Mono',consolas,'Courier New',monospace\">14:27:39.130 | <span style=\"color: #008080; text-decoration-color: #008080\">INFO</span>    | Flow run<span style=\"color: #800080; text-decoration-color: #800080\"> 'burrowing-bull'</span> - Created task run 'train-8' for task 'train'\n",
       "</pre>\n"
      ],
      "text/plain": [
       "14:27:39.130 | \u001b[36mINFO\u001b[0m    | Flow run\u001b[35m 'burrowing-bull'\u001b[0m - Created task run 'train-8' for task 'train'\n"
      ]
     },
     "metadata": {},
     "output_type": "display_data"
    },
    {
     "data": {
      "text/html": [
       "<pre style=\"white-space:pre;overflow-x:auto;line-height:normal;font-family:Menlo,'DejaVu Sans Mono',consolas,'Courier New',monospace\">14:27:39.132 | <span style=\"color: #008080; text-decoration-color: #008080\">INFO</span>    | Flow run<span style=\"color: #800080; text-decoration-color: #800080\"> 'burrowing-bull'</span> - Executing 'train-8' immediately...\n",
       "</pre>\n"
      ],
      "text/plain": [
       "14:27:39.132 | \u001b[36mINFO\u001b[0m    | Flow run\u001b[35m 'burrowing-bull'\u001b[0m - Executing 'train-8' immediately...\n"
      ]
     },
     "metadata": {},
     "output_type": "display_data"
    },
    {
     "data": {
      "text/html": [
       "<pre style=\"white-space:pre;overflow-x:auto;line-height:normal;font-family:Menlo,'DejaVu Sans Mono',consolas,'Courier New',monospace\">14:27:40.285 | <span style=\"color: #008080; text-decoration-color: #008080\">INFO</span>    | Task run 'train-8' - Finished in state <span style=\"color: #008000; text-decoration-color: #008000\">Completed</span>()\n",
       "</pre>\n"
      ],
      "text/plain": [
       "14:27:40.285 | \u001b[36mINFO\u001b[0m    | Task run 'train-8' - Finished in state \u001b[32mCompleted\u001b[0m()\n"
      ]
     },
     "metadata": {},
     "output_type": "display_data"
    },
    {
     "name": "stderr",
     "output_type": "stream",
     "text": [
      "[I 2023-08-13 14:27:40,288] Trial 8 finished with value: 2745.139150245264 and parameters: {'n_estimators': 434, 'max_depth': 2, 'learning_rate': 0.2459552329346282, 'subsample': 0.7627574763143208, 'colsample_bytree': 0.5558560068712299, 'min_child_weight': 1, 'alpha': 0.0008108589755327118, 'gamma': 3.12578143648321, 'lambda': 3.1040701304110825}. Best is trial 5 with value: 2334.7238233677267.\n"
     ]
    },
    {
     "data": {
      "text/html": [
       "<pre style=\"white-space:pre;overflow-x:auto;line-height:normal;font-family:Menlo,'DejaVu Sans Mono',consolas,'Courier New',monospace\">14:27:40.318 | <span style=\"color: #008080; text-decoration-color: #008080\">INFO</span>    | Flow run<span style=\"color: #800080; text-decoration-color: #800080\"> 'burrowing-bull'</span> - Created task run 'train-9' for task 'train'\n",
       "</pre>\n"
      ],
      "text/plain": [
       "14:27:40.318 | \u001b[36mINFO\u001b[0m    | Flow run\u001b[35m 'burrowing-bull'\u001b[0m - Created task run 'train-9' for task 'train'\n"
      ]
     },
     "metadata": {},
     "output_type": "display_data"
    },
    {
     "data": {
      "text/html": [
       "<pre style=\"white-space:pre;overflow-x:auto;line-height:normal;font-family:Menlo,'DejaVu Sans Mono',consolas,'Courier New',monospace\">14:27:40.320 | <span style=\"color: #008080; text-decoration-color: #008080\">INFO</span>    | Flow run<span style=\"color: #800080; text-decoration-color: #800080\"> 'burrowing-bull'</span> - Executing 'train-9' immediately...\n",
       "</pre>\n"
      ],
      "text/plain": [
       "14:27:40.320 | \u001b[36mINFO\u001b[0m    | Flow run\u001b[35m 'burrowing-bull'\u001b[0m - Executing 'train-9' immediately...\n"
      ]
     },
     "metadata": {},
     "output_type": "display_data"
    },
    {
     "data": {
      "text/html": [
       "<pre style=\"white-space:pre;overflow-x:auto;line-height:normal;font-family:Menlo,'DejaVu Sans Mono',consolas,'Courier New',monospace\">14:27:44.218 | <span style=\"color: #008080; text-decoration-color: #008080\">INFO</span>    | Task run 'train-9' - Finished in state <span style=\"color: #008000; text-decoration-color: #008000\">Completed</span>()\n",
       "</pre>\n"
      ],
      "text/plain": [
       "14:27:44.218 | \u001b[36mINFO\u001b[0m    | Task run 'train-9' - Finished in state \u001b[32mCompleted\u001b[0m()\n"
      ]
     },
     "metadata": {},
     "output_type": "display_data"
    },
    {
     "name": "stderr",
     "output_type": "stream",
     "text": [
      "[I 2023-08-13 14:27:44,221] Trial 9 finished with value: 2637.8566781546006 and parameters: {'n_estimators': 820, 'max_depth': 6, 'learning_rate': 0.018274010675328654, 'subsample': 0.808543217601521, 'colsample_bytree': 0.5454763512456684, 'min_child_weight': 5, 'alpha': 0.0011731681112554003, 'gamma': 0.00419748381389896, 'lambda': 8.794253086708794e-05}. Best is trial 5 with value: 2334.7238233677267.\n"
     ]
    },
    {
     "data": {
      "text/html": [
       "<pre style=\"white-space:pre;overflow-x:auto;line-height:normal;font-family:Menlo,'DejaVu Sans Mono',consolas,'Courier New',monospace\">14:27:44.295 | <span style=\"color: #008080; text-decoration-color: #008080\">INFO</span>    | Flow run<span style=\"color: #800080; text-decoration-color: #800080\"> 'burrowing-bull'</span> - Created task run 'train-10' for task 'train'\n",
       "</pre>\n"
      ],
      "text/plain": [
       "14:27:44.295 | \u001b[36mINFO\u001b[0m    | Flow run\u001b[35m 'burrowing-bull'\u001b[0m - Created task run 'train-10' for task 'train'\n"
      ]
     },
     "metadata": {},
     "output_type": "display_data"
    },
    {
     "data": {
      "text/html": [
       "<pre style=\"white-space:pre;overflow-x:auto;line-height:normal;font-family:Menlo,'DejaVu Sans Mono',consolas,'Courier New',monospace\">14:27:44.297 | <span style=\"color: #008080; text-decoration-color: #008080\">INFO</span>    | Flow run<span style=\"color: #800080; text-decoration-color: #800080\"> 'burrowing-bull'</span> - Executing 'train-10' immediately...\n",
       "</pre>\n"
      ],
      "text/plain": [
       "14:27:44.297 | \u001b[36mINFO\u001b[0m    | Flow run\u001b[35m 'burrowing-bull'\u001b[0m - Executing 'train-10' immediately...\n"
      ]
     },
     "metadata": {},
     "output_type": "display_data"
    },
    {
     "data": {
      "text/html": [
       "<pre style=\"white-space:pre;overflow-x:auto;line-height:normal;font-family:Menlo,'DejaVu Sans Mono',consolas,'Courier New',monospace\">14:27:45.680 | <span style=\"color: #008080; text-decoration-color: #008080\">INFO</span>    | Task run 'train-10' - Finished in state <span style=\"color: #008000; text-decoration-color: #008000\">Completed</span>()\n",
       "</pre>\n"
      ],
      "text/plain": [
       "14:27:45.680 | \u001b[36mINFO\u001b[0m    | Task run 'train-10' - Finished in state \u001b[32mCompleted\u001b[0m()\n"
      ]
     },
     "metadata": {},
     "output_type": "display_data"
    },
    {
     "name": "stderr",
     "output_type": "stream",
     "text": [
      "[I 2023-08-13 14:27:45,683] Trial 10 finished with value: 2366.626113201962 and parameters: {'n_estimators': 956, 'max_depth': 15, 'learning_rate': 0.10702816320421593, 'subsample': 0.5111917657371595, 'colsample_bytree': 0.9855922574844158, 'min_child_weight': 10, 'alpha': 5.722477588398364, 'gamma': 2.257060089115039e-05, 'lambda': 5.372521273348821}. Best is trial 5 with value: 2334.7238233677267.\n"
     ]
    },
    {
     "data": {
      "text/html": [
       "<pre style=\"white-space:pre;overflow-x:auto;line-height:normal;font-family:Menlo,'DejaVu Sans Mono',consolas,'Courier New',monospace\">14:27:45.752 | <span style=\"color: #008080; text-decoration-color: #008080\">INFO</span>    | Flow run<span style=\"color: #800080; text-decoration-color: #800080\"> 'burrowing-bull'</span> - Created task run 'train-11' for task 'train'\n",
       "</pre>\n"
      ],
      "text/plain": [
       "14:27:45.752 | \u001b[36mINFO\u001b[0m    | Flow run\u001b[35m 'burrowing-bull'\u001b[0m - Created task run 'train-11' for task 'train'\n"
      ]
     },
     "metadata": {},
     "output_type": "display_data"
    },
    {
     "data": {
      "text/html": [
       "<pre style=\"white-space:pre;overflow-x:auto;line-height:normal;font-family:Menlo,'DejaVu Sans Mono',consolas,'Courier New',monospace\">14:27:45.754 | <span style=\"color: #008080; text-decoration-color: #008080\">INFO</span>    | Flow run<span style=\"color: #800080; text-decoration-color: #800080\"> 'burrowing-bull'</span> - Executing 'train-11' immediately...\n",
       "</pre>\n"
      ],
      "text/plain": [
       "14:27:45.754 | \u001b[36mINFO\u001b[0m    | Flow run\u001b[35m 'burrowing-bull'\u001b[0m - Executing 'train-11' immediately...\n"
      ]
     },
     "metadata": {},
     "output_type": "display_data"
    },
    {
     "data": {
      "text/html": [
       "<pre style=\"white-space:pre;overflow-x:auto;line-height:normal;font-family:Menlo,'DejaVu Sans Mono',consolas,'Courier New',monospace\">14:27:47.262 | <span style=\"color: #008080; text-decoration-color: #008080\">INFO</span>    | Task run 'train-11' - Finished in state <span style=\"color: #008000; text-decoration-color: #008000\">Completed</span>()\n",
       "</pre>\n"
      ],
      "text/plain": [
       "14:27:47.262 | \u001b[36mINFO\u001b[0m    | Task run 'train-11' - Finished in state \u001b[32mCompleted\u001b[0m()\n"
      ]
     },
     "metadata": {},
     "output_type": "display_data"
    },
    {
     "name": "stderr",
     "output_type": "stream",
     "text": [
      "[I 2023-08-13 14:27:47,265] Trial 11 finished with value: 2336.736124619418 and parameters: {'n_estimators': 986, 'max_depth': 15, 'learning_rate': 0.11234942379983753, 'subsample': 0.5240628178924315, 'colsample_bytree': 0.9847909061091057, 'min_child_weight': 10, 'alpha': 6.9299644009372345, 'gamma': 1.068351886491835e-05, 'lambda': 5.618168686895996}. Best is trial 5 with value: 2334.7238233677267.\n"
     ]
    },
    {
     "data": {
      "text/html": [
       "<pre style=\"white-space:pre;overflow-x:auto;line-height:normal;font-family:Menlo,'DejaVu Sans Mono',consolas,'Courier New',monospace\">14:27:47.333 | <span style=\"color: #008080; text-decoration-color: #008080\">INFO</span>    | Flow run<span style=\"color: #800080; text-decoration-color: #800080\"> 'burrowing-bull'</span> - Created task run 'train-12' for task 'train'\n",
       "</pre>\n"
      ],
      "text/plain": [
       "14:27:47.333 | \u001b[36mINFO\u001b[0m    | Flow run\u001b[35m 'burrowing-bull'\u001b[0m - Created task run 'train-12' for task 'train'\n"
      ]
     },
     "metadata": {},
     "output_type": "display_data"
    },
    {
     "data": {
      "text/html": [
       "<pre style=\"white-space:pre;overflow-x:auto;line-height:normal;font-family:Menlo,'DejaVu Sans Mono',consolas,'Courier New',monospace\">14:27:47.335 | <span style=\"color: #008080; text-decoration-color: #008080\">INFO</span>    | Flow run<span style=\"color: #800080; text-decoration-color: #800080\"> 'burrowing-bull'</span> - Executing 'train-12' immediately...\n",
       "</pre>\n"
      ],
      "text/plain": [
       "14:27:47.335 | \u001b[36mINFO\u001b[0m    | Flow run\u001b[35m 'burrowing-bull'\u001b[0m - Executing 'train-12' immediately...\n"
      ]
     },
     "metadata": {},
     "output_type": "display_data"
    },
    {
     "data": {
      "text/html": [
       "<pre style=\"white-space:pre;overflow-x:auto;line-height:normal;font-family:Menlo,'DejaVu Sans Mono',consolas,'Courier New',monospace\">14:27:48.832 | <span style=\"color: #008080; text-decoration-color: #008080\">INFO</span>    | Task run 'train-12' - Finished in state <span style=\"color: #008000; text-decoration-color: #008000\">Completed</span>()\n",
       "</pre>\n"
      ],
      "text/plain": [
       "14:27:48.832 | \u001b[36mINFO\u001b[0m    | Task run 'train-12' - Finished in state \u001b[32mCompleted\u001b[0m()\n"
      ]
     },
     "metadata": {},
     "output_type": "display_data"
    },
    {
     "name": "stderr",
     "output_type": "stream",
     "text": [
      "[I 2023-08-13 14:27:48,834] Trial 12 finished with value: 2293.932232112652 and parameters: {'n_estimators': 992, 'max_depth': 15, 'learning_rate': 0.11521677535333703, 'subsample': 0.5123251710968458, 'colsample_bytree': 0.9553364292617297, 'min_child_weight': 8, 'alpha': 4.291489891932871, 'gamma': 1.987336448457248e-05, 'lambda': 8.593103369869155}. Best is trial 12 with value: 2293.932232112652.\n"
     ]
    },
    {
     "data": {
      "text/html": [
       "<pre style=\"white-space:pre;overflow-x:auto;line-height:normal;font-family:Menlo,'DejaVu Sans Mono',consolas,'Courier New',monospace\">14:27:48.906 | <span style=\"color: #008080; text-decoration-color: #008080\">INFO</span>    | Flow run<span style=\"color: #800080; text-decoration-color: #800080\"> 'burrowing-bull'</span> - Created task run 'train-13' for task 'train'\n",
       "</pre>\n"
      ],
      "text/plain": [
       "14:27:48.906 | \u001b[36mINFO\u001b[0m    | Flow run\u001b[35m 'burrowing-bull'\u001b[0m - Created task run 'train-13' for task 'train'\n"
      ]
     },
     "metadata": {},
     "output_type": "display_data"
    },
    {
     "data": {
      "text/html": [
       "<pre style=\"white-space:pre;overflow-x:auto;line-height:normal;font-family:Menlo,'DejaVu Sans Mono',consolas,'Courier New',monospace\">14:27:48.908 | <span style=\"color: #008080; text-decoration-color: #008080\">INFO</span>    | Flow run<span style=\"color: #800080; text-decoration-color: #800080\"> 'burrowing-bull'</span> - Executing 'train-13' immediately...\n",
       "</pre>\n"
      ],
      "text/plain": [
       "14:27:48.908 | \u001b[36mINFO\u001b[0m    | Flow run\u001b[35m 'burrowing-bull'\u001b[0m - Executing 'train-13' immediately...\n"
      ]
     },
     "metadata": {},
     "output_type": "display_data"
    },
    {
     "data": {
      "text/html": [
       "<pre style=\"white-space:pre;overflow-x:auto;line-height:normal;font-family:Menlo,'DejaVu Sans Mono',consolas,'Courier New',monospace\">14:27:52.366 | <span style=\"color: #008080; text-decoration-color: #008080\">INFO</span>    | Task run 'train-13' - Finished in state <span style=\"color: #008000; text-decoration-color: #008000\">Completed</span>()\n",
       "</pre>\n"
      ],
      "text/plain": [
       "14:27:52.366 | \u001b[36mINFO\u001b[0m    | Task run 'train-13' - Finished in state \u001b[32mCompleted\u001b[0m()\n"
      ]
     },
     "metadata": {},
     "output_type": "display_data"
    },
    {
     "name": "stderr",
     "output_type": "stream",
     "text": [
      "[I 2023-08-13 14:27:52,369] Trial 13 finished with value: 38927.78767549053 and parameters: {'n_estimators': 780, 'max_depth': 12, 'learning_rate': 0.0015673128456624094, 'subsample': 0.6753479643149074, 'colsample_bytree': 0.8933795099905819, 'min_child_weight': 7, 'alpha': 0.7251428656200051, 'gamma': 0.00012426945370675477, 'lambda': 9.765925107535127}. Best is trial 12 with value: 2293.932232112652.\n"
     ]
    },
    {
     "data": {
      "text/html": [
       "<pre style=\"white-space:pre;overflow-x:auto;line-height:normal;font-family:Menlo,'DejaVu Sans Mono',consolas,'Courier New',monospace\">14:27:52.475 | <span style=\"color: #008080; text-decoration-color: #008080\">INFO</span>    | Flow run<span style=\"color: #800080; text-decoration-color: #800080\"> 'burrowing-bull'</span> - Created task run 'train-14' for task 'train'\n",
       "</pre>\n"
      ],
      "text/plain": [
       "14:27:52.475 | \u001b[36mINFO\u001b[0m    | Flow run\u001b[35m 'burrowing-bull'\u001b[0m - Created task run 'train-14' for task 'train'\n"
      ]
     },
     "metadata": {},
     "output_type": "display_data"
    },
    {
     "data": {
      "text/html": [
       "<pre style=\"white-space:pre;overflow-x:auto;line-height:normal;font-family:Menlo,'DejaVu Sans Mono',consolas,'Courier New',monospace\">14:27:52.478 | <span style=\"color: #008080; text-decoration-color: #008080\">INFO</span>    | Flow run<span style=\"color: #800080; text-decoration-color: #800080\"> 'burrowing-bull'</span> - Executing 'train-14' immediately...\n",
       "</pre>\n"
      ],
      "text/plain": [
       "14:27:52.478 | \u001b[36mINFO\u001b[0m    | Flow run\u001b[35m 'burrowing-bull'\u001b[0m - Executing 'train-14' immediately...\n"
      ]
     },
     "metadata": {},
     "output_type": "display_data"
    },
    {
     "data": {
      "text/html": [
       "<pre style=\"white-space:pre;overflow-x:auto;line-height:normal;font-family:Menlo,'DejaVu Sans Mono',consolas,'Courier New',monospace\">14:27:54.976 | <span style=\"color: #008080; text-decoration-color: #008080\">INFO</span>    | Task run 'train-14' - Finished in state <span style=\"color: #008000; text-decoration-color: #008000\">Completed</span>()\n",
       "</pre>\n"
      ],
      "text/plain": [
       "14:27:54.976 | \u001b[36mINFO\u001b[0m    | Task run 'train-14' - Finished in state \u001b[32mCompleted\u001b[0m()\n"
      ]
     },
     "metadata": {},
     "output_type": "display_data"
    },
    {
     "name": "stderr",
     "output_type": "stream",
     "text": [
      "[I 2023-08-13 14:27:54,982] Trial 14 finished with value: 2349.5865622885653 and parameters: {'n_estimators': 801, 'max_depth': 13, 'learning_rate': 0.14789480757548068, 'subsample': 0.5784399135626659, 'colsample_bytree': 0.9157200887535051, 'min_child_weight': 8, 'alpha': 9.391257592420954, 'gamma': 0.00030936995188267743, 'lambda': 1.0341372195978114}. Best is trial 12 with value: 2293.932232112652.\n"
     ]
    },
    {
     "data": {
      "text/html": [
       "<pre style=\"white-space:pre;overflow-x:auto;line-height:normal;font-family:Menlo,'DejaVu Sans Mono',consolas,'Courier New',monospace\">14:27:55.058 | <span style=\"color: #008080; text-decoration-color: #008080\">INFO</span>    | Flow run<span style=\"color: #800080; text-decoration-color: #800080\"> 'burrowing-bull'</span> - Created task run 'train-15' for task 'train'\n",
       "</pre>\n"
      ],
      "text/plain": [
       "14:27:55.058 | \u001b[36mINFO\u001b[0m    | Flow run\u001b[35m 'burrowing-bull'\u001b[0m - Created task run 'train-15' for task 'train'\n"
      ]
     },
     "metadata": {},
     "output_type": "display_data"
    },
    {
     "data": {
      "text/html": [
       "<pre style=\"white-space:pre;overflow-x:auto;line-height:normal;font-family:Menlo,'DejaVu Sans Mono',consolas,'Courier New',monospace\">14:27:55.060 | <span style=\"color: #008080; text-decoration-color: #008080\">INFO</span>    | Flow run<span style=\"color: #800080; text-decoration-color: #800080\"> 'burrowing-bull'</span> - Executing 'train-15' immediately...\n",
       "</pre>\n"
      ],
      "text/plain": [
       "14:27:55.060 | \u001b[36mINFO\u001b[0m    | Flow run\u001b[35m 'burrowing-bull'\u001b[0m - Executing 'train-15' immediately...\n"
      ]
     },
     "metadata": {},
     "output_type": "display_data"
    },
    {
     "data": {
      "text/html": [
       "<pre style=\"white-space:pre;overflow-x:auto;line-height:normal;font-family:Menlo,'DejaVu Sans Mono',consolas,'Courier New',monospace\">14:27:56.510 | <span style=\"color: #008080; text-decoration-color: #008080\">INFO</span>    | Task run 'train-15' - Finished in state <span style=\"color: #008000; text-decoration-color: #008000\">Completed</span>()\n",
       "</pre>\n"
      ],
      "text/plain": [
       "14:27:56.510 | \u001b[36mINFO\u001b[0m    | Task run 'train-15' - Finished in state \u001b[32mCompleted\u001b[0m()\n"
      ]
     },
     "metadata": {},
     "output_type": "display_data"
    },
    {
     "name": "stderr",
     "output_type": "stream",
     "text": [
      "[I 2023-08-13 14:27:56,512] Trial 15 finished with value: 2473.3350029600815 and parameters: {'n_estimators': 997, 'max_depth': 3, 'learning_rate': 0.09023415982745338, 'subsample': 0.5079075368202192, 'colsample_bytree': 0.853857332253426, 'min_child_weight': 8, 'alpha': 0.7119009178590746, 'gamma': 9.746092420010125e-05, 'lambda': 0.8587788028306478}. Best is trial 12 with value: 2293.932232112652.\n"
     ]
    },
    {
     "data": {
      "text/html": [
       "<pre style=\"white-space:pre;overflow-x:auto;line-height:normal;font-family:Menlo,'DejaVu Sans Mono',consolas,'Courier New',monospace\">14:27:56.593 | <span style=\"color: #008080; text-decoration-color: #008080\">INFO</span>    | Flow run<span style=\"color: #800080; text-decoration-color: #800080\"> 'burrowing-bull'</span> - Created task run 'train-16' for task 'train'\n",
       "</pre>\n"
      ],
      "text/plain": [
       "14:27:56.593 | \u001b[36mINFO\u001b[0m    | Flow run\u001b[35m 'burrowing-bull'\u001b[0m - Created task run 'train-16' for task 'train'\n"
      ]
     },
     "metadata": {},
     "output_type": "display_data"
    },
    {
     "data": {
      "text/html": [
       "<pre style=\"white-space:pre;overflow-x:auto;line-height:normal;font-family:Menlo,'DejaVu Sans Mono',consolas,'Courier New',monospace\">14:27:56.595 | <span style=\"color: #008080; text-decoration-color: #008080\">INFO</span>    | Flow run<span style=\"color: #800080; text-decoration-color: #800080\"> 'burrowing-bull'</span> - Executing 'train-16' immediately...\n",
       "</pre>\n"
      ],
      "text/plain": [
       "14:27:56.595 | \u001b[36mINFO\u001b[0m    | Flow run\u001b[35m 'burrowing-bull'\u001b[0m - Executing 'train-16' immediately...\n"
      ]
     },
     "metadata": {},
     "output_type": "display_data"
    },
    {
     "data": {
      "text/html": [
       "<pre style=\"white-space:pre;overflow-x:auto;line-height:normal;font-family:Menlo,'DejaVu Sans Mono',consolas,'Courier New',monospace\">14:27:58.094 | <span style=\"color: #008080; text-decoration-color: #008080\">INFO</span>    | Task run 'train-16' - Finished in state <span style=\"color: #008000; text-decoration-color: #008000\">Completed</span>()\n",
       "</pre>\n"
      ],
      "text/plain": [
       "14:27:58.094 | \u001b[36mINFO\u001b[0m    | Task run 'train-16' - Finished in state \u001b[32mCompleted\u001b[0m()\n"
      ]
     },
     "metadata": {},
     "output_type": "display_data"
    },
    {
     "name": "stderr",
     "output_type": "stream",
     "text": [
      "[I 2023-08-13 14:27:58,098] Trial 16 finished with value: 2625.187578230717 and parameters: {'n_estimators': 685, 'max_depth': 12, 'learning_rate': 0.12184710809962018, 'subsample': 0.5867259186053052, 'colsample_bytree': 0.6909554064393386, 'min_child_weight': 7, 'alpha': 0.10335377422728381, 'gamma': 0.04244210563250396, 'lambda': 0.018163310173430203}. Best is trial 12 with value: 2293.932232112652.\n"
     ]
    },
    {
     "data": {
      "text/html": [
       "<pre style=\"white-space:pre;overflow-x:auto;line-height:normal;font-family:Menlo,'DejaVu Sans Mono',consolas,'Courier New',monospace\">14:27:58.179 | <span style=\"color: #008080; text-decoration-color: #008080\">INFO</span>    | Flow run<span style=\"color: #800080; text-decoration-color: #800080\"> 'burrowing-bull'</span> - Created task run 'train-17' for task 'train'\n",
       "</pre>\n"
      ],
      "text/plain": [
       "14:27:58.179 | \u001b[36mINFO\u001b[0m    | Flow run\u001b[35m 'burrowing-bull'\u001b[0m - Created task run 'train-17' for task 'train'\n"
      ]
     },
     "metadata": {},
     "output_type": "display_data"
    },
    {
     "data": {
      "text/html": [
       "<pre style=\"white-space:pre;overflow-x:auto;line-height:normal;font-family:Menlo,'DejaVu Sans Mono',consolas,'Courier New',monospace\">14:27:58.181 | <span style=\"color: #008080; text-decoration-color: #008080\">INFO</span>    | Flow run<span style=\"color: #800080; text-decoration-color: #800080\"> 'burrowing-bull'</span> - Executing 'train-17' immediately...\n",
       "</pre>\n"
      ],
      "text/plain": [
       "14:27:58.181 | \u001b[36mINFO\u001b[0m    | Flow run\u001b[35m 'burrowing-bull'\u001b[0m - Executing 'train-17' immediately...\n"
      ]
     },
     "metadata": {},
     "output_type": "display_data"
    },
    {
     "data": {
      "text/html": [
       "<pre style=\"white-space:pre;overflow-x:auto;line-height:normal;font-family:Menlo,'DejaVu Sans Mono',consolas,'Courier New',monospace\">14:28:00.390 | <span style=\"color: #008080; text-decoration-color: #008080\">INFO</span>    | Task run 'train-17' - Finished in state <span style=\"color: #008000; text-decoration-color: #008000\">Completed</span>()\n",
       "</pre>\n"
      ],
      "text/plain": [
       "14:28:00.390 | \u001b[36mINFO\u001b[0m    | Task run 'train-17' - Finished in state \u001b[32mCompleted\u001b[0m()\n"
      ]
     },
     "metadata": {},
     "output_type": "display_data"
    },
    {
     "name": "stderr",
     "output_type": "stream",
     "text": [
      "[I 2023-08-13 14:28:00,393] Trial 17 finished with value: 2398.4017496194183 and parameters: {'n_estimators': 855, 'max_depth': 4, 'learning_rate': 0.05806278297459602, 'subsample': 0.6784097018488723, 'colsample_bytree': 0.8407563991866882, 'min_child_weight': 8, 'alpha': 1.983585385579171, 'gamma': 0.0009536679533422987, 'lambda': 1.8087875927016144}. Best is trial 12 with value: 2293.932232112652.\n"
     ]
    },
    {
     "data": {
      "text/html": [
       "<pre style=\"white-space:pre;overflow-x:auto;line-height:normal;font-family:Menlo,'DejaVu Sans Mono',consolas,'Courier New',monospace\">14:28:00.482 | <span style=\"color: #008080; text-decoration-color: #008080\">INFO</span>    | Flow run<span style=\"color: #800080; text-decoration-color: #800080\"> 'burrowing-bull'</span> - Created task run 'train-18' for task 'train'\n",
       "</pre>\n"
      ],
      "text/plain": [
       "14:28:00.482 | \u001b[36mINFO\u001b[0m    | Flow run\u001b[35m 'burrowing-bull'\u001b[0m - Created task run 'train-18' for task 'train'\n"
      ]
     },
     "metadata": {},
     "output_type": "display_data"
    },
    {
     "data": {
      "text/html": [
       "<pre style=\"white-space:pre;overflow-x:auto;line-height:normal;font-family:Menlo,'DejaVu Sans Mono',consolas,'Courier New',monospace\">14:28:00.484 | <span style=\"color: #008080; text-decoration-color: #008080\">INFO</span>    | Flow run<span style=\"color: #800080; text-decoration-color: #800080\"> 'burrowing-bull'</span> - Executing 'train-18' immediately...\n",
       "</pre>\n"
      ],
      "text/plain": [
       "14:28:00.484 | \u001b[36mINFO\u001b[0m    | Flow run\u001b[35m 'burrowing-bull'\u001b[0m - Executing 'train-18' immediately...\n"
      ]
     },
     "metadata": {},
     "output_type": "display_data"
    },
    {
     "data": {
      "text/html": [
       "<pre style=\"white-space:pre;overflow-x:auto;line-height:normal;font-family:Menlo,'DejaVu Sans Mono',consolas,'Courier New',monospace\">14:28:01.649 | <span style=\"color: #008080; text-decoration-color: #008080\">INFO</span>    | Task run 'train-18' - Finished in state <span style=\"color: #008000; text-decoration-color: #008000\">Completed</span>()\n",
       "</pre>\n"
      ],
      "text/plain": [
       "14:28:01.649 | \u001b[36mINFO\u001b[0m    | Task run 'train-18' - Finished in state \u001b[32mCompleted\u001b[0m()\n"
      ]
     },
     "metadata": {},
     "output_type": "display_data"
    },
    {
     "name": "stderr",
     "output_type": "stream",
     "text": [
      "[I 2023-08-13 14:28:01,652] Trial 18 finished with value: 2412.748225008457 and parameters: {'n_estimators': 659, 'max_depth': 7, 'learning_rate': 0.18006275815001527, 'subsample': 0.5689750568714076, 'colsample_bytree': 0.9113363001578334, 'min_child_weight': 6, 'alpha': 1.2699796125433822, 'gamma': 4.0363960741617866e-05, 'lambda': 0.5677690604316782}. Best is trial 12 with value: 2293.932232112652.\n"
     ]
    },
    {
     "data": {
      "text/html": [
       "<pre style=\"white-space:pre;overflow-x:auto;line-height:normal;font-family:Menlo,'DejaVu Sans Mono',consolas,'Courier New',monospace\">14:28:01.731 | <span style=\"color: #008080; text-decoration-color: #008080\">INFO</span>    | Flow run<span style=\"color: #800080; text-decoration-color: #800080\"> 'burrowing-bull'</span> - Created task run 'train-19' for task 'train'\n",
       "</pre>\n"
      ],
      "text/plain": [
       "14:28:01.731 | \u001b[36mINFO\u001b[0m    | Flow run\u001b[35m 'burrowing-bull'\u001b[0m - Created task run 'train-19' for task 'train'\n"
      ]
     },
     "metadata": {},
     "output_type": "display_data"
    },
    {
     "data": {
      "text/html": [
       "<pre style=\"white-space:pre;overflow-x:auto;line-height:normal;font-family:Menlo,'DejaVu Sans Mono',consolas,'Courier New',monospace\">14:28:01.733 | <span style=\"color: #008080; text-decoration-color: #008080\">INFO</span>    | Flow run<span style=\"color: #800080; text-decoration-color: #800080\"> 'burrowing-bull'</span> - Executing 'train-19' immediately...\n",
       "</pre>\n"
      ],
      "text/plain": [
       "14:28:01.733 | \u001b[36mINFO\u001b[0m    | Flow run\u001b[35m 'burrowing-bull'\u001b[0m - Executing 'train-19' immediately...\n"
      ]
     },
     "metadata": {},
     "output_type": "display_data"
    },
    {
     "data": {
      "text/html": [
       "<pre style=\"white-space:pre;overflow-x:auto;line-height:normal;font-family:Menlo,'DejaVu Sans Mono',consolas,'Courier New',monospace\">14:28:03.531 | <span style=\"color: #008080; text-decoration-color: #008080\">INFO</span>    | Task run 'train-19' - Finished in state <span style=\"color: #008000; text-decoration-color: #008000\">Completed</span>()\n",
       "</pre>\n"
      ],
      "text/plain": [
       "14:28:03.531 | \u001b[36mINFO\u001b[0m    | Task run 'train-19' - Finished in state \u001b[32mCompleted\u001b[0m()\n"
      ]
     },
     "metadata": {},
     "output_type": "display_data"
    },
    {
     "name": "stderr",
     "output_type": "stream",
     "text": [
      "[I 2023-08-13 14:28:03,533] Trial 19 finished with value: 2438.093872631935 and parameters: {'n_estimators': 907, 'max_depth': 13, 'learning_rate': 0.08737942159960632, 'subsample': 0.5039120460270899, 'colsample_bytree': 0.6762793155198205, 'min_child_weight': 9, 'alpha': 9.56370244522221, 'gamma': 0.11911682385155764, 'lambda': 7.846215836415702}. Best is trial 12 with value: 2293.932232112652.\n"
     ]
    },
    {
     "data": {
      "text/html": [
       "<pre style=\"white-space:pre;overflow-x:auto;line-height:normal;font-family:Menlo,'DejaVu Sans Mono',consolas,'Courier New',monospace\">14:28:03.664 | <span style=\"color: #008080; text-decoration-color: #008080\">INFO</span>    | Flow run<span style=\"color: #800080; text-decoration-color: #800080\"> 'burrowing-bull'</span> - Created task run 'train-20' for task 'train'\n",
       "</pre>\n"
      ],
      "text/plain": [
       "14:28:03.664 | \u001b[36mINFO\u001b[0m    | Flow run\u001b[35m 'burrowing-bull'\u001b[0m - Created task run 'train-20' for task 'train'\n"
      ]
     },
     "metadata": {},
     "output_type": "display_data"
    },
    {
     "data": {
      "text/html": [
       "<pre style=\"white-space:pre;overflow-x:auto;line-height:normal;font-family:Menlo,'DejaVu Sans Mono',consolas,'Courier New',monospace\">14:28:03.666 | <span style=\"color: #008080; text-decoration-color: #008080\">INFO</span>    | Flow run<span style=\"color: #800080; text-decoration-color: #800080\"> 'burrowing-bull'</span> - Executing 'train-20' immediately...\n",
       "</pre>\n"
      ],
      "text/plain": [
       "14:28:03.666 | \u001b[36mINFO\u001b[0m    | Flow run\u001b[35m 'burrowing-bull'\u001b[0m - Executing 'train-20' immediately...\n"
      ]
     },
     "metadata": {},
     "output_type": "display_data"
    },
    {
     "data": {
      "text/html": [
       "<pre style=\"white-space:pre;overflow-x:auto;line-height:normal;font-family:Menlo,'DejaVu Sans Mono',consolas,'Courier New',monospace\">14:28:07.897 | <span style=\"color: #008080; text-decoration-color: #008080\">INFO</span>    | Task run 'train-20' - Finished in state <span style=\"color: #008000; text-decoration-color: #008000\">Completed</span>()\n",
       "</pre>\n"
      ],
      "text/plain": [
       "14:28:07.897 | \u001b[36mINFO\u001b[0m    | Task run 'train-20' - Finished in state \u001b[32mCompleted\u001b[0m()\n"
      ]
     },
     "metadata": {},
     "output_type": "display_data"
    },
    {
     "name": "stderr",
     "output_type": "stream",
     "text": [
      "[I 2023-08-13 14:28:07,900] Trial 20 finished with value: 2231.7658322056836 and parameters: {'n_estimators': 711, 'max_depth': 11, 'learning_rate': 0.027815299012118253, 'subsample': 0.6282765892582243, 'colsample_bytree': 0.9943230792266559, 'min_child_weight': 5, 'alpha': 0.03529713576634752, 'gamma': 0.007491169336704896, 'lambda': 0.050212858389240944}. Best is trial 20 with value: 2231.7658322056836.\n"
     ]
    },
    {
     "data": {
      "text/html": [
       "<pre style=\"white-space:pre;overflow-x:auto;line-height:normal;font-family:Menlo,'DejaVu Sans Mono',consolas,'Courier New',monospace\">14:28:07.977 | <span style=\"color: #008080; text-decoration-color: #008080\">INFO</span>    | Flow run<span style=\"color: #800080; text-decoration-color: #800080\"> 'burrowing-bull'</span> - Created task run 'train-21' for task 'train'\n",
       "</pre>\n"
      ],
      "text/plain": [
       "14:28:07.977 | \u001b[36mINFO\u001b[0m    | Flow run\u001b[35m 'burrowing-bull'\u001b[0m - Created task run 'train-21' for task 'train'\n"
      ]
     },
     "metadata": {},
     "output_type": "display_data"
    },
    {
     "data": {
      "text/html": [
       "<pre style=\"white-space:pre;overflow-x:auto;line-height:normal;font-family:Menlo,'DejaVu Sans Mono',consolas,'Courier New',monospace\">14:28:07.980 | <span style=\"color: #008080; text-decoration-color: #008080\">INFO</span>    | Flow run<span style=\"color: #800080; text-decoration-color: #800080\"> 'burrowing-bull'</span> - Executing 'train-21' immediately...\n",
       "</pre>\n"
      ],
      "text/plain": [
       "14:28:07.980 | \u001b[36mINFO\u001b[0m    | Flow run\u001b[35m 'burrowing-bull'\u001b[0m - Executing 'train-21' immediately...\n"
      ]
     },
     "metadata": {},
     "output_type": "display_data"
    },
    {
     "data": {
      "text/html": [
       "<pre style=\"white-space:pre;overflow-x:auto;line-height:normal;font-family:Menlo,'DejaVu Sans Mono',consolas,'Courier New',monospace\">14:28:11.420 | <span style=\"color: #008080; text-decoration-color: #008080\">INFO</span>    | Task run 'train-21' - Finished in state <span style=\"color: #008000; text-decoration-color: #008000\">Completed</span>()\n",
       "</pre>\n"
      ],
      "text/plain": [
       "14:28:11.420 | \u001b[36mINFO\u001b[0m    | Task run 'train-21' - Finished in state \u001b[32mCompleted\u001b[0m()\n"
      ]
     },
     "metadata": {},
     "output_type": "display_data"
    },
    {
     "name": "stderr",
     "output_type": "stream",
     "text": [
      "[I 2023-08-13 14:28:11,424] Trial 21 finished with value: 2233.4152782476317 and parameters: {'n_estimators': 724, 'max_depth': 11, 'learning_rate': 0.03866121510443982, 'subsample': 0.6132023302745443, 'colsample_bytree': 0.9992050068407896, 'min_child_weight': 5, 'alpha': 0.030522113228812604, 'gamma': 0.01256468166224628, 'lambda': 1.8499365137678692}. Best is trial 20 with value: 2231.7658322056836.\n"
     ]
    },
    {
     "data": {
      "text/html": [
       "<pre style=\"white-space:pre;overflow-x:auto;line-height:normal;font-family:Menlo,'DejaVu Sans Mono',consolas,'Courier New',monospace\">14:28:11.504 | <span style=\"color: #008080; text-decoration-color: #008080\">INFO</span>    | Flow run<span style=\"color: #800080; text-decoration-color: #800080\"> 'burrowing-bull'</span> - Created task run 'train-22' for task 'train'\n",
       "</pre>\n"
      ],
      "text/plain": [
       "14:28:11.504 | \u001b[36mINFO\u001b[0m    | Flow run\u001b[35m 'burrowing-bull'\u001b[0m - Created task run 'train-22' for task 'train'\n"
      ]
     },
     "metadata": {},
     "output_type": "display_data"
    },
    {
     "data": {
      "text/html": [
       "<pre style=\"white-space:pre;overflow-x:auto;line-height:normal;font-family:Menlo,'DejaVu Sans Mono',consolas,'Courier New',monospace\">14:28:11.506 | <span style=\"color: #008080; text-decoration-color: #008080\">INFO</span>    | Flow run<span style=\"color: #800080; text-decoration-color: #800080\"> 'burrowing-bull'</span> - Executing 'train-22' immediately...\n",
       "</pre>\n"
      ],
      "text/plain": [
       "14:28:11.506 | \u001b[36mINFO\u001b[0m    | Flow run\u001b[35m 'burrowing-bull'\u001b[0m - Executing 'train-22' immediately...\n"
      ]
     },
     "metadata": {},
     "output_type": "display_data"
    },
    {
     "data": {
      "text/html": [
       "<pre style=\"white-space:pre;overflow-x:auto;line-height:normal;font-family:Menlo,'DejaVu Sans Mono',consolas,'Courier New',monospace\">14:28:15.693 | <span style=\"color: #008080; text-decoration-color: #008080\">INFO</span>    | Task run 'train-22' - Finished in state <span style=\"color: #008000; text-decoration-color: #008000\">Completed</span>()\n",
       "</pre>\n"
      ],
      "text/plain": [
       "14:28:15.693 | \u001b[36mINFO\u001b[0m    | Task run 'train-22' - Finished in state \u001b[32mCompleted\u001b[0m()\n"
      ]
     },
     "metadata": {},
     "output_type": "display_data"
    },
    {
     "name": "stderr",
     "output_type": "stream",
     "text": [
      "[I 2023-08-13 14:28:15,697] Trial 22 finished with value: 2247.8671187838295 and parameters: {'n_estimators': 719, 'max_depth': 11, 'learning_rate': 0.03421687079458252, 'subsample': 0.6179609620615583, 'colsample_bytree': 0.9602787188567817, 'min_child_weight': 5, 'alpha': 0.017357476090539448, 'gamma': 0.009876136054997951, 'lambda': 0.04520002578093281}. Best is trial 20 with value: 2231.7658322056836.\n"
     ]
    },
    {
     "data": {
      "text/html": [
       "<pre style=\"white-space:pre;overflow-x:auto;line-height:normal;font-family:Menlo,'DejaVu Sans Mono',consolas,'Courier New',monospace\">14:28:15.785 | <span style=\"color: #008080; text-decoration-color: #008080\">INFO</span>    | Flow run<span style=\"color: #800080; text-decoration-color: #800080\"> 'burrowing-bull'</span> - Created task run 'train-23' for task 'train'\n",
       "</pre>\n"
      ],
      "text/plain": [
       "14:28:15.785 | \u001b[36mINFO\u001b[0m    | Flow run\u001b[35m 'burrowing-bull'\u001b[0m - Created task run 'train-23' for task 'train'\n"
      ]
     },
     "metadata": {},
     "output_type": "display_data"
    },
    {
     "data": {
      "text/html": [
       "<pre style=\"white-space:pre;overflow-x:auto;line-height:normal;font-family:Menlo,'DejaVu Sans Mono',consolas,'Courier New',monospace\">14:28:15.787 | <span style=\"color: #008080; text-decoration-color: #008080\">INFO</span>    | Flow run<span style=\"color: #800080; text-decoration-color: #800080\"> 'burrowing-bull'</span> - Executing 'train-23' immediately...\n",
       "</pre>\n"
      ],
      "text/plain": [
       "14:28:15.787 | \u001b[36mINFO\u001b[0m    | Flow run\u001b[35m 'burrowing-bull'\u001b[0m - Executing 'train-23' immediately...\n"
      ]
     },
     "metadata": {},
     "output_type": "display_data"
    },
    {
     "data": {
      "text/html": [
       "<pre style=\"white-space:pre;overflow-x:auto;line-height:normal;font-family:Menlo,'DejaVu Sans Mono',consolas,'Courier New',monospace\">14:28:27.573 | <span style=\"color: #008080; text-decoration-color: #008080\">INFO</span>    | Task run 'train-23' - Finished in state <span style=\"color: #008000; text-decoration-color: #008000\">Completed</span>()\n",
       "</pre>\n"
      ],
      "text/plain": [
       "14:28:27.573 | \u001b[36mINFO\u001b[0m    | Task run 'train-23' - Finished in state \u001b[32mCompleted\u001b[0m()\n"
      ]
     },
     "metadata": {},
     "output_type": "display_data"
    },
    {
     "name": "stderr",
     "output_type": "stream",
     "text": [
      "[I 2023-08-13 14:28:27,576] Trial 23 finished with value: 2654.5583527148174 and parameters: {'n_estimators': 720, 'max_depth': 11, 'learning_rate': 0.006242015424297576, 'subsample': 0.610622182922318, 'colsample_bytree': 0.9965283132897165, 'min_child_weight': 4, 'alpha': 0.02113834629936376, 'gamma': 0.008238289612662443, 'lambda': 0.02046016866544584}. Best is trial 20 with value: 2231.7658322056836.\n"
     ]
    },
    {
     "data": {
      "text/html": [
       "<pre style=\"white-space:pre;overflow-x:auto;line-height:normal;font-family:Menlo,'DejaVu Sans Mono',consolas,'Courier New',monospace\">14:28:27.703 | <span style=\"color: #008080; text-decoration-color: #008080\">INFO</span>    | Flow run<span style=\"color: #800080; text-decoration-color: #800080\"> 'burrowing-bull'</span> - Created task run 'train-24' for task 'train'\n",
       "</pre>\n"
      ],
      "text/plain": [
       "14:28:27.703 | \u001b[36mINFO\u001b[0m    | Flow run\u001b[35m 'burrowing-bull'\u001b[0m - Created task run 'train-24' for task 'train'\n"
      ]
     },
     "metadata": {},
     "output_type": "display_data"
    },
    {
     "data": {
      "text/html": [
       "<pre style=\"white-space:pre;overflow-x:auto;line-height:normal;font-family:Menlo,'DejaVu Sans Mono',consolas,'Courier New',monospace\">14:28:27.705 | <span style=\"color: #008080; text-decoration-color: #008080\">INFO</span>    | Flow run<span style=\"color: #800080; text-decoration-color: #800080\"> 'burrowing-bull'</span> - Executing 'train-24' immediately...\n",
       "</pre>\n"
      ],
      "text/plain": [
       "14:28:27.705 | \u001b[36mINFO\u001b[0m    | Flow run\u001b[35m 'burrowing-bull'\u001b[0m - Executing 'train-24' immediately...\n"
      ]
     },
     "metadata": {},
     "output_type": "display_data"
    },
    {
     "data": {
      "text/html": [
       "<pre style=\"white-space:pre;overflow-x:auto;line-height:normal;font-family:Menlo,'DejaVu Sans Mono',consolas,'Courier New',monospace\">14:28:31.591 | <span style=\"color: #008080; text-decoration-color: #008080\">INFO</span>    | Task run 'train-24' - Finished in state <span style=\"color: #008000; text-decoration-color: #008000\">Completed</span>()\n",
       "</pre>\n"
      ],
      "text/plain": [
       "14:28:31.591 | \u001b[36mINFO\u001b[0m    | Task run 'train-24' - Finished in state \u001b[32mCompleted\u001b[0m()\n"
      ]
     },
     "metadata": {},
     "output_type": "display_data"
    },
    {
     "name": "stderr",
     "output_type": "stream",
     "text": [
      "[I 2023-08-13 14:28:31,594] Trial 24 finished with value: 2224.106038565629 and parameters: {'n_estimators': 593, 'max_depth': 13, 'learning_rate': 0.03631665194214814, 'subsample': 0.6263124895780721, 'colsample_bytree': 0.9504755913141838, 'min_child_weight': 5, 'alpha': 0.02492919480705378, 'gamma': 0.010721140172040684, 'lambda': 0.05658083753127381}. Best is trial 24 with value: 2224.106038565629.\n"
     ]
    },
    {
     "data": {
      "text/html": [
       "<pre style=\"white-space:pre;overflow-x:auto;line-height:normal;font-family:Menlo,'DejaVu Sans Mono',consolas,'Courier New',monospace\">14:28:31.692 | <span style=\"color: #008080; text-decoration-color: #008080\">INFO</span>    | Flow run<span style=\"color: #800080; text-decoration-color: #800080\"> 'burrowing-bull'</span> - Created task run 'train-25' for task 'train'\n",
       "</pre>\n"
      ],
      "text/plain": [
       "14:28:31.692 | \u001b[36mINFO\u001b[0m    | Flow run\u001b[35m 'burrowing-bull'\u001b[0m - Created task run 'train-25' for task 'train'\n"
      ]
     },
     "metadata": {},
     "output_type": "display_data"
    },
    {
     "data": {
      "text/html": [
       "<pre style=\"white-space:pre;overflow-x:auto;line-height:normal;font-family:Menlo,'DejaVu Sans Mono',consolas,'Courier New',monospace\">14:28:31.694 | <span style=\"color: #008080; text-decoration-color: #008080\">INFO</span>    | Flow run<span style=\"color: #800080; text-decoration-color: #800080\"> 'burrowing-bull'</span> - Executing 'train-25' immediately...\n",
       "</pre>\n"
      ],
      "text/plain": [
       "14:28:31.694 | \u001b[36mINFO\u001b[0m    | Flow run\u001b[35m 'burrowing-bull'\u001b[0m - Executing 'train-25' immediately...\n"
      ]
     },
     "metadata": {},
     "output_type": "display_data"
    },
    {
     "data": {
      "text/html": [
       "<pre style=\"white-space:pre;overflow-x:auto;line-height:normal;font-family:Menlo,'DejaVu Sans Mono',consolas,'Courier New',monospace\">14:28:36.744 | <span style=\"color: #008080; text-decoration-color: #008080\">INFO</span>    | Task run 'train-25' - Finished in state <span style=\"color: #008000; text-decoration-color: #008000\">Completed</span>()\n",
       "</pre>\n"
      ],
      "text/plain": [
       "14:28:36.744 | \u001b[36mINFO\u001b[0m    | Task run 'train-25' - Finished in state \u001b[32mCompleted\u001b[0m()\n"
      ]
     },
     "metadata": {},
     "output_type": "display_data"
    },
    {
     "name": "stderr",
     "output_type": "stream",
     "text": [
      "[I 2023-08-13 14:28:36,746] Trial 25 finished with value: 2275.4407952046686 and parameters: {'n_estimators': 582, 'max_depth': 13, 'learning_rate': 0.03491182588804354, 'subsample': 0.6803240876036178, 'colsample_bytree': 0.9352812012706151, 'min_child_weight': 4, 'alpha': 0.057127187244500215, 'gamma': 0.001616432854302475, 'lambda': 0.004624666573501909}. Best is trial 24 with value: 2224.106038565629.\n"
     ]
    },
    {
     "data": {
      "text/html": [
       "<pre style=\"white-space:pre;overflow-x:auto;line-height:normal;font-family:Menlo,'DejaVu Sans Mono',consolas,'Courier New',monospace\">14:28:36.822 | <span style=\"color: #008080; text-decoration-color: #008080\">INFO</span>    | Flow run<span style=\"color: #800080; text-decoration-color: #800080\"> 'burrowing-bull'</span> - Created task run 'train-26' for task 'train'\n",
       "</pre>\n"
      ],
      "text/plain": [
       "14:28:36.822 | \u001b[36mINFO\u001b[0m    | Flow run\u001b[35m 'burrowing-bull'\u001b[0m - Created task run 'train-26' for task 'train'\n"
      ]
     },
     "metadata": {},
     "output_type": "display_data"
    },
    {
     "data": {
      "text/html": [
       "<pre style=\"white-space:pre;overflow-x:auto;line-height:normal;font-family:Menlo,'DejaVu Sans Mono',consolas,'Courier New',monospace\">14:28:36.823 | <span style=\"color: #008080; text-decoration-color: #008080\">INFO</span>    | Flow run<span style=\"color: #800080; text-decoration-color: #800080\"> 'burrowing-bull'</span> - Executing 'train-26' immediately...\n",
       "</pre>\n"
      ],
      "text/plain": [
       "14:28:36.823 | \u001b[36mINFO\u001b[0m    | Flow run\u001b[35m 'burrowing-bull'\u001b[0m - Executing 'train-26' immediately...\n"
      ]
     },
     "metadata": {},
     "output_type": "display_data"
    },
    {
     "data": {
      "text/html": [
       "<pre style=\"white-space:pre;overflow-x:auto;line-height:normal;font-family:Menlo,'DejaVu Sans Mono',consolas,'Courier New',monospace\">14:28:41.382 | <span style=\"color: #008080; text-decoration-color: #008080\">INFO</span>    | Task run 'train-26' - Finished in state <span style=\"color: #008000; text-decoration-color: #008000\">Completed</span>()\n",
       "</pre>\n"
      ],
      "text/plain": [
       "14:28:41.382 | \u001b[36mINFO\u001b[0m    | Task run 'train-26' - Finished in state \u001b[32mCompleted\u001b[0m()\n"
      ]
     },
     "metadata": {},
     "output_type": "display_data"
    },
    {
     "name": "stderr",
     "output_type": "stream",
     "text": [
      "[I 2023-08-13 14:28:41,386] Trial 26 finished with value: 42769.624690248645 and parameters: {'n_estimators': 594, 'max_depth': 12, 'learning_rate': 0.0018946694178581247, 'subsample': 0.5577099549330187, 'colsample_bytree': 0.9505041619648157, 'min_child_weight': 5, 'alpha': 0.00601490987408661, 'gamma': 0.011354838201019834, 'lambda': 0.24811591478392675}. Best is trial 24 with value: 2224.106038565629.\n"
     ]
    },
    {
     "data": {
      "text/html": [
       "<pre style=\"white-space:pre;overflow-x:auto;line-height:normal;font-family:Menlo,'DejaVu Sans Mono',consolas,'Courier New',monospace\">14:28:41.465 | <span style=\"color: #008080; text-decoration-color: #008080\">INFO</span>    | Flow run<span style=\"color: #800080; text-decoration-color: #800080\"> 'burrowing-bull'</span> - Created task run 'train-27' for task 'train'\n",
       "</pre>\n"
      ],
      "text/plain": [
       "14:28:41.465 | \u001b[36mINFO\u001b[0m    | Flow run\u001b[35m 'burrowing-bull'\u001b[0m - Created task run 'train-27' for task 'train'\n"
      ]
     },
     "metadata": {},
     "output_type": "display_data"
    },
    {
     "data": {
      "text/html": [
       "<pre style=\"white-space:pre;overflow-x:auto;line-height:normal;font-family:Menlo,'DejaVu Sans Mono',consolas,'Courier New',monospace\">14:28:41.467 | <span style=\"color: #008080; text-decoration-color: #008080\">INFO</span>    | Flow run<span style=\"color: #800080; text-decoration-color: #800080\"> 'burrowing-bull'</span> - Executing 'train-27' immediately...\n",
       "</pre>\n"
      ],
      "text/plain": [
       "14:28:41.467 | \u001b[36mINFO\u001b[0m    | Flow run\u001b[35m 'burrowing-bull'\u001b[0m - Executing 'train-27' immediately...\n"
      ]
     },
     "metadata": {},
     "output_type": "display_data"
    },
    {
     "data": {
      "text/html": [
       "<pre style=\"white-space:pre;overflow-x:auto;line-height:normal;font-family:Menlo,'DejaVu Sans Mono',consolas,'Courier New',monospace\">14:28:49.610 | <span style=\"color: #008080; text-decoration-color: #008080\">INFO</span>    | Task run 'train-27' - Finished in state <span style=\"color: #008000; text-decoration-color: #008000\">Completed</span>()\n",
       "</pre>\n"
      ],
      "text/plain": [
       "14:28:49.610 | \u001b[36mINFO\u001b[0m    | Task run 'train-27' - Finished in state \u001b[32mCompleted\u001b[0m()\n"
      ]
     },
     "metadata": {},
     "output_type": "display_data"
    },
    {
     "name": "stderr",
     "output_type": "stream",
     "text": [
      "[I 2023-08-13 14:28:49,614] Trial 27 finished with value: 2281.87507400203 and parameters: {'n_estimators': 602, 'max_depth': 14, 'learning_rate': 0.034138609905933176, 'subsample': 0.7055318121806691, 'colsample_bytree': 0.9924143020005772, 'min_child_weight': 3, 'alpha': 0.04473289753204213, 'gamma': 0.09113371795392079, 'lambda': 0.0022972508430953993}. Best is trial 24 with value: 2224.106038565629.\n"
     ]
    },
    {
     "data": {
      "text/html": [
       "<pre style=\"white-space:pre;overflow-x:auto;line-height:normal;font-family:Menlo,'DejaVu Sans Mono',consolas,'Courier New',monospace\">14:28:49.717 | <span style=\"color: #008080; text-decoration-color: #008080\">INFO</span>    | Flow run<span style=\"color: #800080; text-decoration-color: #800080\"> 'burrowing-bull'</span> - Created task run 'train-28' for task 'train'\n",
       "</pre>\n"
      ],
      "text/plain": [
       "14:28:49.717 | \u001b[36mINFO\u001b[0m    | Flow run\u001b[35m 'burrowing-bull'\u001b[0m - Created task run 'train-28' for task 'train'\n"
      ]
     },
     "metadata": {},
     "output_type": "display_data"
    },
    {
     "data": {
      "text/html": [
       "<pre style=\"white-space:pre;overflow-x:auto;line-height:normal;font-family:Menlo,'DejaVu Sans Mono',consolas,'Courier New',monospace\">14:28:49.719 | <span style=\"color: #008080; text-decoration-color: #008080\">INFO</span>    | Flow run<span style=\"color: #800080; text-decoration-color: #800080\"> 'burrowing-bull'</span> - Executing 'train-28' immediately...\n",
       "</pre>\n"
      ],
      "text/plain": [
       "14:28:49.719 | \u001b[36mINFO\u001b[0m    | Flow run\u001b[35m 'burrowing-bull'\u001b[0m - Executing 'train-28' immediately...\n"
      ]
     },
     "metadata": {},
     "output_type": "display_data"
    },
    {
     "data": {
      "text/html": [
       "<pre style=\"white-space:pre;overflow-x:auto;line-height:normal;font-family:Menlo,'DejaVu Sans Mono',consolas,'Courier New',monospace\">14:28:51.807 | <span style=\"color: #008080; text-decoration-color: #008080\">INFO</span>    | Task run 'train-28' - Finished in state <span style=\"color: #008000; text-decoration-color: #008000\">Completed</span>()\n",
       "</pre>\n"
      ],
      "text/plain": [
       "14:28:51.807 | \u001b[36mINFO\u001b[0m    | Task run 'train-28' - Finished in state \u001b[32mCompleted\u001b[0m()\n"
      ]
     },
     "metadata": {},
     "output_type": "display_data"
    },
    {
     "name": "stderr",
     "output_type": "stream",
     "text": [
      "[I 2023-08-13 14:28:51,810] Trial 28 finished with value: 2307.5975336180645 and parameters: {'n_estimators': 309, 'max_depth': 10, 'learning_rate': 0.07233428502889788, 'subsample': 0.6381064009688058, 'colsample_bytree': 0.876010267389422, 'min_child_weight': 6, 'alpha': 0.310951383261075, 'gamma': 0.014217575648226533, 'lambda': 0.04990990833035595}. Best is trial 24 with value: 2224.106038565629.\n"
     ]
    },
    {
     "data": {
      "text/html": [
       "<pre style=\"white-space:pre;overflow-x:auto;line-height:normal;font-family:Menlo,'DejaVu Sans Mono',consolas,'Courier New',monospace\">14:28:51.921 | <span style=\"color: #008080; text-decoration-color: #008080\">INFO</span>    | Flow run<span style=\"color: #800080; text-decoration-color: #800080\"> 'burrowing-bull'</span> - Created task run 'train-29' for task 'train'\n",
       "</pre>\n"
      ],
      "text/plain": [
       "14:28:51.921 | \u001b[36mINFO\u001b[0m    | Flow run\u001b[35m 'burrowing-bull'\u001b[0m - Created task run 'train-29' for task 'train'\n"
      ]
     },
     "metadata": {},
     "output_type": "display_data"
    },
    {
     "data": {
      "text/html": [
       "<pre style=\"white-space:pre;overflow-x:auto;line-height:normal;font-family:Menlo,'DejaVu Sans Mono',consolas,'Courier New',monospace\">14:28:51.926 | <span style=\"color: #008080; text-decoration-color: #008080\">INFO</span>    | Flow run<span style=\"color: #800080; text-decoration-color: #800080\"> 'burrowing-bull'</span> - Executing 'train-29' immediately...\n",
       "</pre>\n"
      ],
      "text/plain": [
       "14:28:51.926 | \u001b[36mINFO\u001b[0m    | Flow run\u001b[35m 'burrowing-bull'\u001b[0m - Executing 'train-29' immediately...\n"
      ]
     },
     "metadata": {},
     "output_type": "display_data"
    },
    {
     "data": {
      "text/html": [
       "<pre style=\"white-space:pre;overflow-x:auto;line-height:normal;font-family:Menlo,'DejaVu Sans Mono',consolas,'Courier New',monospace\">14:28:54.799 | <span style=\"color: #008080; text-decoration-color: #008080\">INFO</span>    | Task run 'train-29' - Finished in state <span style=\"color: #008000; text-decoration-color: #008000\">Completed</span>()\n",
       "</pre>\n"
      ],
      "text/plain": [
       "14:28:54.799 | \u001b[36mINFO\u001b[0m    | Task run 'train-29' - Finished in state \u001b[32mCompleted\u001b[0m()\n"
      ]
     },
     "metadata": {},
     "output_type": "display_data"
    },
    {
     "name": "stderr",
     "output_type": "stream",
     "text": [
      "[I 2023-08-13 14:28:54,801] Trial 29 finished with value: 2236.647266153586 and parameters: {'n_estimators': 521, 'max_depth': 11, 'learning_rate': 0.05001323700702337, 'subsample': 0.6363742175630613, 'colsample_bytree': 0.9259002112833293, 'min_child_weight': 3, 'alpha': 0.003935149851981393, 'gamma': 0.002235007309508585, 'lambda': 0.4495460558389726}. Best is trial 24 with value: 2224.106038565629.\n"
     ]
    },
    {
     "data": {
      "text/html": [
       "<pre style=\"white-space:pre;overflow-x:auto;line-height:normal;font-family:Menlo,'DejaVu Sans Mono',consolas,'Courier New',monospace\">14:28:54.878 | <span style=\"color: #008080; text-decoration-color: #008080\">INFO</span>    | Flow run<span style=\"color: #800080; text-decoration-color: #800080\"> 'burrowing-bull'</span> - Created task run 'train-30' for task 'train'\n",
       "</pre>\n"
      ],
      "text/plain": [
       "14:28:54.878 | \u001b[36mINFO\u001b[0m    | Flow run\u001b[35m 'burrowing-bull'\u001b[0m - Created task run 'train-30' for task 'train'\n"
      ]
     },
     "metadata": {},
     "output_type": "display_data"
    },
    {
     "data": {
      "text/html": [
       "<pre style=\"white-space:pre;overflow-x:auto;line-height:normal;font-family:Menlo,'DejaVu Sans Mono',consolas,'Courier New',monospace\">14:28:54.880 | <span style=\"color: #008080; text-decoration-color: #008080\">INFO</span>    | Flow run<span style=\"color: #800080; text-decoration-color: #800080\"> 'burrowing-bull'</span> - Executing 'train-30' immediately...\n",
       "</pre>\n"
      ],
      "text/plain": [
       "14:28:54.880 | \u001b[36mINFO\u001b[0m    | Flow run\u001b[35m 'burrowing-bull'\u001b[0m - Executing 'train-30' immediately...\n"
      ]
     },
     "metadata": {},
     "output_type": "display_data"
    },
    {
     "data": {
      "text/html": [
       "<pre style=\"white-space:pre;overflow-x:auto;line-height:normal;font-family:Menlo,'DejaVu Sans Mono',consolas,'Courier New',monospace\">14:28:57.663 | <span style=\"color: #008080; text-decoration-color: #008080\">INFO</span>    | Task run 'train-30' - Finished in state <span style=\"color: #008000; text-decoration-color: #008000\">Completed</span>()\n",
       "</pre>\n"
      ],
      "text/plain": [
       "14:28:57.663 | \u001b[36mINFO\u001b[0m    | Task run 'train-30' - Finished in state \u001b[32mCompleted\u001b[0m()\n"
      ]
     },
     "metadata": {},
     "output_type": "display_data"
    },
    {
     "name": "stderr",
     "output_type": "stream",
     "text": [
      "[I 2023-08-13 14:28:57,666] Trial 30 finished with value: 2282.170668766915 and parameters: {'n_estimators': 458, 'max_depth': 14, 'learning_rate': 0.06836947766676713, 'subsample': 0.6027209511130935, 'colsample_bytree': 0.9593169816691305, 'min_child_weight': 4, 'alpha': 0.0308211040755817, 'gamma': 0.00480120606358317, 'lambda': 1.212563470861666}. Best is trial 24 with value: 2224.106038565629.\n"
     ]
    },
    {
     "data": {
      "text/html": [
       "<pre style=\"white-space:pre;overflow-x:auto;line-height:normal;font-family:Menlo,'DejaVu Sans Mono',consolas,'Courier New',monospace\">14:28:57.760 | <span style=\"color: #008080; text-decoration-color: #008080\">INFO</span>    | Flow run<span style=\"color: #800080; text-decoration-color: #800080\"> 'burrowing-bull'</span> - Created task run 'train-31' for task 'train'\n",
       "</pre>\n"
      ],
      "text/plain": [
       "14:28:57.760 | \u001b[36mINFO\u001b[0m    | Flow run\u001b[35m 'burrowing-bull'\u001b[0m - Created task run 'train-31' for task 'train'\n"
      ]
     },
     "metadata": {},
     "output_type": "display_data"
    },
    {
     "data": {
      "text/html": [
       "<pre style=\"white-space:pre;overflow-x:auto;line-height:normal;font-family:Menlo,'DejaVu Sans Mono',consolas,'Courier New',monospace\">14:28:57.762 | <span style=\"color: #008080; text-decoration-color: #008080\">INFO</span>    | Flow run<span style=\"color: #800080; text-decoration-color: #800080\"> 'burrowing-bull'</span> - Executing 'train-31' immediately...\n",
       "</pre>\n"
      ],
      "text/plain": [
       "14:28:57.762 | \u001b[36mINFO\u001b[0m    | Flow run\u001b[35m 'burrowing-bull'\u001b[0m - Executing 'train-31' immediately...\n"
      ]
     },
     "metadata": {},
     "output_type": "display_data"
    },
    {
     "data": {
      "text/html": [
       "<pre style=\"white-space:pre;overflow-x:auto;line-height:normal;font-family:Menlo,'DejaVu Sans Mono',consolas,'Courier New',monospace\">14:29:01.018 | <span style=\"color: #008080; text-decoration-color: #008080\">INFO</span>    | Task run 'train-31' - Finished in state <span style=\"color: #008000; text-decoration-color: #008000\">Completed</span>()\n",
       "</pre>\n"
      ],
      "text/plain": [
       "14:29:01.018 | \u001b[36mINFO\u001b[0m    | Task run 'train-31' - Finished in state \u001b[32mCompleted\u001b[0m()\n"
      ]
     },
     "metadata": {},
     "output_type": "display_data"
    },
    {
     "name": "stderr",
     "output_type": "stream",
     "text": [
      "[I 2023-08-13 14:29:01,021] Trial 31 finished with value: 2274.0734850727335 and parameters: {'n_estimators': 550, 'max_depth': 11, 'learning_rate': 0.047822321229686354, 'subsample': 0.6393234163145394, 'colsample_bytree': 0.9184662506216933, 'min_child_weight': 3, 'alpha': 0.004016016898946718, 'gamma': 0.0019494648964246534, 'lambda': 0.45070057742723085}. Best is trial 24 with value: 2224.106038565629.\n"
     ]
    },
    {
     "data": {
      "text/html": [
       "<pre style=\"white-space:pre;overflow-x:auto;line-height:normal;font-family:Menlo,'DejaVu Sans Mono',consolas,'Courier New',monospace\">14:29:01.103 | <span style=\"color: #008080; text-decoration-color: #008080\">INFO</span>    | Flow run<span style=\"color: #800080; text-decoration-color: #800080\"> 'burrowing-bull'</span> - Created task run 'train-32' for task 'train'\n",
       "</pre>\n"
      ],
      "text/plain": [
       "14:29:01.103 | \u001b[36mINFO\u001b[0m    | Flow run\u001b[35m 'burrowing-bull'\u001b[0m - Created task run 'train-32' for task 'train'\n"
      ]
     },
     "metadata": {},
     "output_type": "display_data"
    },
    {
     "data": {
      "text/html": [
       "<pre style=\"white-space:pre;overflow-x:auto;line-height:normal;font-family:Menlo,'DejaVu Sans Mono',consolas,'Courier New',monospace\">14:29:01.105 | <span style=\"color: #008080; text-decoration-color: #008080\">INFO</span>    | Flow run<span style=\"color: #800080; text-decoration-color: #800080\"> 'burrowing-bull'</span> - Executing 'train-32' immediately...\n",
       "</pre>\n"
      ],
      "text/plain": [
       "14:29:01.105 | \u001b[36mINFO\u001b[0m    | Flow run\u001b[35m 'burrowing-bull'\u001b[0m - Executing 'train-32' immediately...\n"
      ]
     },
     "metadata": {},
     "output_type": "display_data"
    },
    {
     "data": {
      "text/html": [
       "<pre style=\"white-space:pre;overflow-x:auto;line-height:normal;font-family:Menlo,'DejaVu Sans Mono',consolas,'Courier New',monospace\">14:29:06.084 | <span style=\"color: #008080; text-decoration-color: #008080\">INFO</span>    | Task run 'train-32' - Finished in state <span style=\"color: #008000; text-decoration-color: #008000\">Completed</span>()\n",
       "</pre>\n"
      ],
      "text/plain": [
       "14:29:06.084 | \u001b[36mINFO\u001b[0m    | Task run 'train-32' - Finished in state \u001b[32mCompleted\u001b[0m()\n"
      ]
     },
     "metadata": {},
     "output_type": "display_data"
    },
    {
     "name": "stderr",
     "output_type": "stream",
     "text": [
      "[I 2023-08-13 14:29:06,087] Trial 32 finished with value: 2216.619772285183 and parameters: {'n_estimators': 760, 'max_depth': 9, 'learning_rate': 0.02118454339392236, 'subsample': 0.5503054746588303, 'colsample_bytree': 0.9313637110771015, 'min_child_weight': 2, 'alpha': 0.01487201355467864, 'gamma': 0.0028781008103253574, 'lambda': 0.1375226979410012}. Best is trial 32 with value: 2216.619772285183.\n"
     ]
    },
    {
     "data": {
      "text/html": [
       "<pre style=\"white-space:pre;overflow-x:auto;line-height:normal;font-family:Menlo,'DejaVu Sans Mono',consolas,'Courier New',monospace\">14:29:06.165 | <span style=\"color: #008080; text-decoration-color: #008080\">INFO</span>    | Flow run<span style=\"color: #800080; text-decoration-color: #800080\"> 'burrowing-bull'</span> - Created task run 'train-33' for task 'train'\n",
       "</pre>\n"
      ],
      "text/plain": [
       "14:29:06.165 | \u001b[36mINFO\u001b[0m    | Flow run\u001b[35m 'burrowing-bull'\u001b[0m - Created task run 'train-33' for task 'train'\n"
      ]
     },
     "metadata": {},
     "output_type": "display_data"
    },
    {
     "data": {
      "text/html": [
       "<pre style=\"white-space:pre;overflow-x:auto;line-height:normal;font-family:Menlo,'DejaVu Sans Mono',consolas,'Courier New',monospace\">14:29:06.167 | <span style=\"color: #008080; text-decoration-color: #008080\">INFO</span>    | Flow run<span style=\"color: #800080; text-decoration-color: #800080\"> 'burrowing-bull'</span> - Executing 'train-33' immediately...\n",
       "</pre>\n"
      ],
      "text/plain": [
       "14:29:06.167 | \u001b[36mINFO\u001b[0m    | Flow run\u001b[35m 'burrowing-bull'\u001b[0m - Executing 'train-33' immediately...\n"
      ]
     },
     "metadata": {},
     "output_type": "display_data"
    },
    {
     "data": {
      "text/html": [
       "<pre style=\"white-space:pre;overflow-x:auto;line-height:normal;font-family:Menlo,'DejaVu Sans Mono',consolas,'Courier New',monospace\">14:29:11.948 | <span style=\"color: #008080; text-decoration-color: #008080\">INFO</span>    | Task run 'train-33' - Finished in state <span style=\"color: #008000; text-decoration-color: #008000\">Completed</span>()\n",
       "</pre>\n"
      ],
      "text/plain": [
       "14:29:11.948 | \u001b[36mINFO\u001b[0m    | Task run 'train-33' - Finished in state \u001b[32mCompleted\u001b[0m()\n"
      ]
     },
     "metadata": {},
     "output_type": "display_data"
    },
    {
     "name": "stderr",
     "output_type": "stream",
     "text": [
      "[I 2023-08-13 14:29:11,952] Trial 33 finished with value: 2260.087231478349 and parameters: {'n_estimators': 747, 'max_depth': 9, 'learning_rate': 0.015381275047581154, 'subsample': 0.553998532091964, 'colsample_bytree': 0.879448867528233, 'min_child_weight': 2, 'alpha': 0.017692750044887115, 'gamma': 0.0006257291323743644, 'lambda': 0.09047801652694058}. Best is trial 32 with value: 2216.619772285183.\n"
     ]
    },
    {
     "data": {
      "text/html": [
       "<pre style=\"white-space:pre;overflow-x:auto;line-height:normal;font-family:Menlo,'DejaVu Sans Mono',consolas,'Courier New',monospace\">14:29:12.034 | <span style=\"color: #008080; text-decoration-color: #008080\">INFO</span>    | Flow run<span style=\"color: #800080; text-decoration-color: #800080\"> 'burrowing-bull'</span> - Created task run 'train-34' for task 'train'\n",
       "</pre>\n"
      ],
      "text/plain": [
       "14:29:12.034 | \u001b[36mINFO\u001b[0m    | Flow run\u001b[35m 'burrowing-bull'\u001b[0m - Created task run 'train-34' for task 'train'\n"
      ]
     },
     "metadata": {},
     "output_type": "display_data"
    },
    {
     "data": {
      "text/html": [
       "<pre style=\"white-space:pre;overflow-x:auto;line-height:normal;font-family:Menlo,'DejaVu Sans Mono',consolas,'Courier New',monospace\">14:29:12.036 | <span style=\"color: #008080; text-decoration-color: #008080\">INFO</span>    | Flow run<span style=\"color: #800080; text-decoration-color: #800080\"> 'burrowing-bull'</span> - Executing 'train-34' immediately...\n",
       "</pre>\n"
      ],
      "text/plain": [
       "14:29:12.036 | \u001b[36mINFO\u001b[0m    | Flow run\u001b[35m 'burrowing-bull'\u001b[0m - Executing 'train-34' immediately...\n"
      ]
     },
     "metadata": {},
     "output_type": "display_data"
    },
    {
     "data": {
      "text/html": [
       "<pre style=\"white-space:pre;overflow-x:auto;line-height:normal;font-family:Menlo,'DejaVu Sans Mono',consolas,'Courier New',monospace\">14:29:15.506 | <span style=\"color: #008080; text-decoration-color: #008080\">INFO</span>    | Task run 'train-34' - Finished in state <span style=\"color: #008000; text-decoration-color: #008000\">Completed</span>()\n",
       "</pre>\n"
      ],
      "text/plain": [
       "14:29:15.506 | \u001b[36mINFO\u001b[0m    | Task run 'train-34' - Finished in state \u001b[32mCompleted\u001b[0m()\n"
      ]
     },
     "metadata": {},
     "output_type": "display_data"
    },
    {
     "name": "stderr",
     "output_type": "stream",
     "text": [
      "[I 2023-08-13 14:29:15,509] Trial 34 finished with value: 2240.7675987398516 and parameters: {'n_estimators': 871, 'max_depth': 9, 'learning_rate': 0.028491330992845933, 'subsample': 0.5505609580708466, 'colsample_bytree': 0.9674961477138795, 'min_child_weight': 5, 'alpha': 0.10718022389362307, 'gamma': 0.005568692757337653, 'lambda': 0.1678024153983351}. Best is trial 32 with value: 2216.619772285183.\n"
     ]
    },
    {
     "data": {
      "text/html": [
       "<pre style=\"white-space:pre;overflow-x:auto;line-height:normal;font-family:Menlo,'DejaVu Sans Mono',consolas,'Courier New',monospace\">14:29:15.600 | <span style=\"color: #008080; text-decoration-color: #008080\">INFO</span>    | Flow run<span style=\"color: #800080; text-decoration-color: #800080\"> 'burrowing-bull'</span> - Created task run 'train-35' for task 'train'\n",
       "</pre>\n"
      ],
      "text/plain": [
       "14:29:15.600 | \u001b[36mINFO\u001b[0m    | Flow run\u001b[35m 'burrowing-bull'\u001b[0m - Created task run 'train-35' for task 'train'\n"
      ]
     },
     "metadata": {},
     "output_type": "display_data"
    },
    {
     "data": {
      "text/html": [
       "<pre style=\"white-space:pre;overflow-x:auto;line-height:normal;font-family:Menlo,'DejaVu Sans Mono',consolas,'Courier New',monospace\">14:29:15.601 | <span style=\"color: #008080; text-decoration-color: #008080\">INFO</span>    | Flow run<span style=\"color: #800080; text-decoration-color: #800080\"> 'burrowing-bull'</span> - Executing 'train-35' immediately...\n",
       "</pre>\n"
      ],
      "text/plain": [
       "14:29:15.601 | \u001b[36mINFO\u001b[0m    | Flow run\u001b[35m 'burrowing-bull'\u001b[0m - Executing 'train-35' immediately...\n"
      ]
     },
     "metadata": {},
     "output_type": "display_data"
    },
    {
     "data": {
      "text/html": [
       "<pre style=\"white-space:pre;overflow-x:auto;line-height:normal;font-family:Menlo,'DejaVu Sans Mono',consolas,'Courier New',monospace\">14:29:17.660 | <span style=\"color: #008080; text-decoration-color: #008080\">INFO</span>    | Task run 'train-35' - Finished in state <span style=\"color: #008000; text-decoration-color: #008000\">Completed</span>()\n",
       "</pre>\n"
      ],
      "text/plain": [
       "14:29:17.660 | \u001b[36mINFO\u001b[0m    | Task run 'train-35' - Finished in state \u001b[32mCompleted\u001b[0m()\n"
      ]
     },
     "metadata": {},
     "output_type": "display_data"
    },
    {
     "name": "stderr",
     "output_type": "stream",
     "text": [
      "[I 2023-08-13 14:29:17,663] Trial 35 finished with value: 2278.2945915087957 and parameters: {'n_estimators': 632, 'max_depth': 8, 'learning_rate': 0.07066204718052341, 'subsample': 0.5930618080805425, 'colsample_bytree': 0.9964450519838423, 'min_child_weight': 2, 'alpha': 0.05536568921721773, 'gamma': 0.02099727516451449, 'lambda': 0.061871199421582514}. Best is trial 32 with value: 2216.619772285183.\n"
     ]
    },
    {
     "data": {
      "text/html": [
       "<pre style=\"white-space:pre;overflow-x:auto;line-height:normal;font-family:Menlo,'DejaVu Sans Mono',consolas,'Courier New',monospace\">14:29:17.748 | <span style=\"color: #008080; text-decoration-color: #008080\">INFO</span>    | Flow run<span style=\"color: #800080; text-decoration-color: #800080\"> 'burrowing-bull'</span> - Created task run 'train-36' for task 'train'\n",
       "</pre>\n"
      ],
      "text/plain": [
       "14:29:17.748 | \u001b[36mINFO\u001b[0m    | Flow run\u001b[35m 'burrowing-bull'\u001b[0m - Created task run 'train-36' for task 'train'\n"
      ]
     },
     "metadata": {},
     "output_type": "display_data"
    },
    {
     "data": {
      "text/html": [
       "<pre style=\"white-space:pre;overflow-x:auto;line-height:normal;font-family:Menlo,'DejaVu Sans Mono',consolas,'Courier New',monospace\">14:29:17.750 | <span style=\"color: #008080; text-decoration-color: #008080\">INFO</span>    | Flow run<span style=\"color: #800080; text-decoration-color: #800080\"> 'burrowing-bull'</span> - Executing 'train-36' immediately...\n",
       "</pre>\n"
      ],
      "text/plain": [
       "14:29:17.750 | \u001b[36mINFO\u001b[0m    | Flow run\u001b[35m 'burrowing-bull'\u001b[0m - Executing 'train-36' immediately...\n"
      ]
     },
     "metadata": {},
     "output_type": "display_data"
    },
    {
     "data": {
      "text/html": [
       "<pre style=\"white-space:pre;overflow-x:auto;line-height:normal;font-family:Menlo,'DejaVu Sans Mono',consolas,'Courier New',monospace\">14:29:22.853 | <span style=\"color: #008080; text-decoration-color: #008080\">INFO</span>    | Task run 'train-36' - Finished in state <span style=\"color: #008000; text-decoration-color: #008000\">Completed</span>()\n",
       "</pre>\n"
      ],
      "text/plain": [
       "14:29:22.853 | \u001b[36mINFO\u001b[0m    | Task run 'train-36' - Finished in state \u001b[32mCompleted\u001b[0m()\n"
      ]
     },
     "metadata": {},
     "output_type": "display_data"
    },
    {
     "name": "stderr",
     "output_type": "stream",
     "text": [
      "[I 2023-08-13 14:29:22,856] Trial 36 finished with value: 2230.893859945873 and parameters: {'n_estimators': 742, 'max_depth': 10, 'learning_rate': 0.017627947340614587, 'subsample': 0.5729633454970807, 'colsample_bytree': 0.9392209725658506, 'min_child_weight': 7, 'alpha': 0.014873966789962471, 'gamma': 0.0030917043508052267, 'lambda': 0.17585470628889538}. Best is trial 32 with value: 2216.619772285183.\n"
     ]
    },
    {
     "data": {
      "text/html": [
       "<pre style=\"white-space:pre;overflow-x:auto;line-height:normal;font-family:Menlo,'DejaVu Sans Mono',consolas,'Courier New',monospace\">14:29:22.955 | <span style=\"color: #008080; text-decoration-color: #008080\">INFO</span>    | Flow run<span style=\"color: #800080; text-decoration-color: #800080\"> 'burrowing-bull'</span> - Created task run 'train-37' for task 'train'\n",
       "</pre>\n"
      ],
      "text/plain": [
       "14:29:22.955 | \u001b[36mINFO\u001b[0m    | Flow run\u001b[35m 'burrowing-bull'\u001b[0m - Created task run 'train-37' for task 'train'\n"
      ]
     },
     "metadata": {},
     "output_type": "display_data"
    },
    {
     "data": {
      "text/html": [
       "<pre style=\"white-space:pre;overflow-x:auto;line-height:normal;font-family:Menlo,'DejaVu Sans Mono',consolas,'Courier New',monospace\">14:29:22.957 | <span style=\"color: #008080; text-decoration-color: #008080\">INFO</span>    | Flow run<span style=\"color: #800080; text-decoration-color: #800080\"> 'burrowing-bull'</span> - Executing 'train-37' immediately...\n",
       "</pre>\n"
      ],
      "text/plain": [
       "14:29:22.957 | \u001b[36mINFO\u001b[0m    | Flow run\u001b[35m 'burrowing-bull'\u001b[0m - Executing 'train-37' immediately...\n"
      ]
     },
     "metadata": {},
     "output_type": "display_data"
    },
    {
     "data": {
      "text/html": [
       "<pre style=\"white-space:pre;overflow-x:auto;line-height:normal;font-family:Menlo,'DejaVu Sans Mono',consolas,'Courier New',monospace\">14:29:28.010 | <span style=\"color: #008080; text-decoration-color: #008080\">INFO</span>    | Task run 'train-37' - Finished in state <span style=\"color: #008000; text-decoration-color: #008000\">Completed</span>()\n",
       "</pre>\n"
      ],
      "text/plain": [
       "14:29:28.010 | \u001b[36mINFO\u001b[0m    | Task run 'train-37' - Finished in state \u001b[32mCompleted\u001b[0m()\n"
      ]
     },
     "metadata": {},
     "output_type": "display_data"
    },
    {
     "name": "stderr",
     "output_type": "stream",
     "text": [
      "[I 2023-08-13 14:29:28,012] Trial 37 finished with value: 2230.9300152232745 and parameters: {'n_estimators': 899, 'max_depth': 8, 'learning_rate': 0.013169929267526907, 'subsample': 0.5393098871385034, 'colsample_bytree': 0.9332958567664854, 'min_child_weight': 7, 'alpha': 0.008965036652743853, 'gamma': 0.0029060524401507194, 'lambda': 0.1897998458610879}. Best is trial 32 with value: 2216.619772285183.\n"
     ]
    },
    {
     "data": {
      "text/html": [
       "<pre style=\"white-space:pre;overflow-x:auto;line-height:normal;font-family:Menlo,'DejaVu Sans Mono',consolas,'Courier New',monospace\">14:29:28.098 | <span style=\"color: #008080; text-decoration-color: #008080\">INFO</span>    | Flow run<span style=\"color: #800080; text-decoration-color: #800080\"> 'burrowing-bull'</span> - Created task run 'train-38' for task 'train'\n",
       "</pre>\n"
      ],
      "text/plain": [
       "14:29:28.098 | \u001b[36mINFO\u001b[0m    | Flow run\u001b[35m 'burrowing-bull'\u001b[0m - Created task run 'train-38' for task 'train'\n"
      ]
     },
     "metadata": {},
     "output_type": "display_data"
    },
    {
     "data": {
      "text/html": [
       "<pre style=\"white-space:pre;overflow-x:auto;line-height:normal;font-family:Menlo,'DejaVu Sans Mono',consolas,'Courier New',monospace\">14:29:28.100 | <span style=\"color: #008080; text-decoration-color: #008080\">INFO</span>    | Flow run<span style=\"color: #800080; text-decoration-color: #800080\"> 'burrowing-bull'</span> - Executing 'train-38' immediately...\n",
       "</pre>\n"
      ],
      "text/plain": [
       "14:29:28.100 | \u001b[36mINFO\u001b[0m    | Flow run\u001b[35m 'burrowing-bull'\u001b[0m - Executing 'train-38' immediately...\n"
      ]
     },
     "metadata": {},
     "output_type": "display_data"
    },
    {
     "data": {
      "text/html": [
       "<pre style=\"white-space:pre;overflow-x:auto;line-height:normal;font-family:Menlo,'DejaVu Sans Mono',consolas,'Courier New',monospace\">14:29:32.627 | <span style=\"color: #008080; text-decoration-color: #008080\">INFO</span>    | Task run 'train-38' - Finished in state <span style=\"color: #008000; text-decoration-color: #008000\">Completed</span>()\n",
       "</pre>\n"
      ],
      "text/plain": [
       "14:29:32.627 | \u001b[36mINFO\u001b[0m    | Task run 'train-38' - Finished in state \u001b[32mCompleted\u001b[0m()\n"
      ]
     },
     "metadata": {},
     "output_type": "display_data"
    },
    {
     "name": "stderr",
     "output_type": "stream",
     "text": [
      "[I 2023-08-13 14:29:32,633] Trial 38 finished with value: 2213.655720356901 and parameters: {'n_estimators': 897, 'max_depth': 8, 'learning_rate': 0.015101226681541043, 'subsample': 0.537988067914157, 'colsample_bytree': 0.9357779019478429, 'min_child_weight': 7, 'alpha': 0.009588825816502495, 'gamma': 0.001201702667559544, 'lambda': 0.14336605056993063}. Best is trial 38 with value: 2213.655720356901.\n"
     ]
    },
    {
     "data": {
      "text/html": [
       "<pre style=\"white-space:pre;overflow-x:auto;line-height:normal;font-family:Menlo,'DejaVu Sans Mono',consolas,'Courier New',monospace\">14:29:32.769 | <span style=\"color: #008080; text-decoration-color: #008080\">INFO</span>    | Flow run<span style=\"color: #800080; text-decoration-color: #800080\"> 'burrowing-bull'</span> - Created task run 'train-39' for task 'train'\n",
       "</pre>\n"
      ],
      "text/plain": [
       "14:29:32.769 | \u001b[36mINFO\u001b[0m    | Flow run\u001b[35m 'burrowing-bull'\u001b[0m - Created task run 'train-39' for task 'train'\n"
      ]
     },
     "metadata": {},
     "output_type": "display_data"
    },
    {
     "data": {
      "text/html": [
       "<pre style=\"white-space:pre;overflow-x:auto;line-height:normal;font-family:Menlo,'DejaVu Sans Mono',consolas,'Courier New',monospace\">14:29:32.771 | <span style=\"color: #008080; text-decoration-color: #008080\">INFO</span>    | Flow run<span style=\"color: #800080; text-decoration-color: #800080\"> 'burrowing-bull'</span> - Executing 'train-39' immediately...\n",
       "</pre>\n"
      ],
      "text/plain": [
       "14:29:32.771 | \u001b[36mINFO\u001b[0m    | Flow run\u001b[35m 'burrowing-bull'\u001b[0m - Executing 'train-39' immediately...\n"
      ]
     },
     "metadata": {},
     "output_type": "display_data"
    },
    {
     "data": {
      "text/html": [
       "<pre style=\"white-space:pre;overflow-x:auto;line-height:normal;font-family:Menlo,'DejaVu Sans Mono',consolas,'Courier New',monospace\">14:29:34.669 | <span style=\"color: #008080; text-decoration-color: #008080\">INFO</span>    | Task run 'train-39' - Finished in state <span style=\"color: #008000; text-decoration-color: #008000\">Completed</span>()\n",
       "</pre>\n"
      ],
      "text/plain": [
       "14:29:34.669 | \u001b[36mINFO\u001b[0m    | Task run 'train-39' - Finished in state \u001b[32mCompleted\u001b[0m()\n"
      ]
     },
     "metadata": {},
     "output_type": "display_data"
    },
    {
     "name": "stderr",
     "output_type": "stream",
     "text": [
      "[I 2023-08-13 14:29:34,672] Trial 39 finished with value: 2293.532970018606 and parameters: {'n_estimators': 355, 'max_depth': 7, 'learning_rate': 0.05632987349239827, 'subsample': 0.5375977311761887, 'colsample_bytree': 0.8963945769519969, 'min_child_weight': 7, 'alpha': 0.0023714437795596694, 'gamma': 0.0011118381857008952, 'lambda': 0.12896686665016457}. Best is trial 38 with value: 2213.655720356901.\n"
     ]
    },
    {
     "data": {
      "text/html": [
       "<pre style=\"white-space:pre;overflow-x:auto;line-height:normal;font-family:Menlo,'DejaVu Sans Mono',consolas,'Courier New',monospace\">14:29:34.773 | <span style=\"color: #008080; text-decoration-color: #008080\">INFO</span>    | Flow run<span style=\"color: #800080; text-decoration-color: #800080\"> 'burrowing-bull'</span> - Created task run 'train-40' for task 'train'\n",
       "</pre>\n"
      ],
      "text/plain": [
       "14:29:34.773 | \u001b[36mINFO\u001b[0m    | Flow run\u001b[35m 'burrowing-bull'\u001b[0m - Created task run 'train-40' for task 'train'\n"
      ]
     },
     "metadata": {},
     "output_type": "display_data"
    },
    {
     "data": {
      "text/html": [
       "<pre style=\"white-space:pre;overflow-x:auto;line-height:normal;font-family:Menlo,'DejaVu Sans Mono',consolas,'Courier New',monospace\">14:29:34.775 | <span style=\"color: #008080; text-decoration-color: #008080\">INFO</span>    | Flow run<span style=\"color: #800080; text-decoration-color: #800080\"> 'burrowing-bull'</span> - Executing 'train-40' immediately...\n",
       "</pre>\n"
      ],
      "text/plain": [
       "14:29:34.775 | \u001b[36mINFO\u001b[0m    | Flow run\u001b[35m 'burrowing-bull'\u001b[0m - Executing 'train-40' immediately...\n"
      ]
     },
     "metadata": {},
     "output_type": "display_data"
    },
    {
     "data": {
      "text/html": [
       "<pre style=\"white-space:pre;overflow-x:auto;line-height:normal;font-family:Menlo,'DejaVu Sans Mono',consolas,'Courier New',monospace\">14:29:38.553 | <span style=\"color: #008080; text-decoration-color: #008080\">INFO</span>    | Task run 'train-40' - Finished in state <span style=\"color: #008000; text-decoration-color: #008000\">Completed</span>()\n",
       "</pre>\n"
      ],
      "text/plain": [
       "14:29:38.553 | \u001b[36mINFO\u001b[0m    | Task run 'train-40' - Finished in state \u001b[32mCompleted\u001b[0m()\n"
      ]
     },
     "metadata": {},
     "output_type": "display_data"
    },
    {
     "name": "stderr",
     "output_type": "stream",
     "text": [
      "[I 2023-08-13 14:29:38,556] Trial 40 finished with value: 2290.6346065206358 and parameters: {'n_estimators': 772, 'max_depth': 6, 'learning_rate': 0.021039557559427813, 'subsample': 0.5652436809427777, 'colsample_bytree': 0.8528412746085205, 'min_child_weight': 1, 'alpha': 0.013017481521041402, 'gamma': 0.0004933042887572088, 'lambda': 0.02640373613645018}. Best is trial 38 with value: 2213.655720356901.\n"
     ]
    },
    {
     "data": {
      "text/html": [
       "<pre style=\"white-space:pre;overflow-x:auto;line-height:normal;font-family:Menlo,'DejaVu Sans Mono',consolas,'Courier New',monospace\">14:29:38.658 | <span style=\"color: #008080; text-decoration-color: #008080\">INFO</span>    | Flow run<span style=\"color: #800080; text-decoration-color: #800080\"> 'burrowing-bull'</span> - Created task run 'train-41' for task 'train'\n",
       "</pre>\n"
      ],
      "text/plain": [
       "14:29:38.658 | \u001b[36mINFO\u001b[0m    | Flow run\u001b[35m 'burrowing-bull'\u001b[0m - Created task run 'train-41' for task 'train'\n"
      ]
     },
     "metadata": {},
     "output_type": "display_data"
    },
    {
     "data": {
      "text/html": [
       "<pre style=\"white-space:pre;overflow-x:auto;line-height:normal;font-family:Menlo,'DejaVu Sans Mono',consolas,'Courier New',monospace\">14:29:38.660 | <span style=\"color: #008080; text-decoration-color: #008080\">INFO</span>    | Flow run<span style=\"color: #800080; text-decoration-color: #800080\"> 'burrowing-bull'</span> - Executing 'train-41' immediately...\n",
       "</pre>\n"
      ],
      "text/plain": [
       "14:29:38.660 | \u001b[36mINFO\u001b[0m    | Flow run\u001b[35m 'burrowing-bull'\u001b[0m - Executing 'train-41' immediately...\n"
      ]
     },
     "metadata": {},
     "output_type": "display_data"
    },
    {
     "data": {
      "text/html": [
       "<pre style=\"white-space:pre;overflow-x:auto;line-height:normal;font-family:Menlo,'DejaVu Sans Mono',consolas,'Courier New',monospace\">14:29:43.874 | <span style=\"color: #008080; text-decoration-color: #008080\">INFO</span>    | Task run 'train-41' - Finished in state <span style=\"color: #008000; text-decoration-color: #008000\">Completed</span>()\n",
       "</pre>\n"
      ],
      "text/plain": [
       "14:29:43.874 | \u001b[36mINFO\u001b[0m    | Task run 'train-41' - Finished in state \u001b[32mCompleted\u001b[0m()\n"
      ]
     },
     "metadata": {},
     "output_type": "display_data"
    },
    {
     "name": "stderr",
     "output_type": "stream",
     "text": [
      "[I 2023-08-13 14:29:43,877] Trial 41 finished with value: 2229.5600061315968 and parameters: {'n_estimators': 928, 'max_depth': 8, 'learning_rate': 0.016199532961207755, 'subsample': 0.5376730332286098, 'colsample_bytree': 0.9356845947888258, 'min_child_weight': 7, 'alpha': 0.008791773836292783, 'gamma': 0.0025857381614810618, 'lambda': 0.17774063368173648}. Best is trial 38 with value: 2213.655720356901.\n"
     ]
    },
    {
     "data": {
      "text/html": [
       "<pre style=\"white-space:pre;overflow-x:auto;line-height:normal;font-family:Menlo,'DejaVu Sans Mono',consolas,'Courier New',monospace\">14:29:43.960 | <span style=\"color: #008080; text-decoration-color: #008080\">INFO</span>    | Flow run<span style=\"color: #800080; text-decoration-color: #800080\"> 'burrowing-bull'</span> - Created task run 'train-42' for task 'train'\n",
       "</pre>\n"
      ],
      "text/plain": [
       "14:29:43.960 | \u001b[36mINFO\u001b[0m    | Flow run\u001b[35m 'burrowing-bull'\u001b[0m - Created task run 'train-42' for task 'train'\n"
      ]
     },
     "metadata": {},
     "output_type": "display_data"
    },
    {
     "data": {
      "text/html": [
       "<pre style=\"white-space:pre;overflow-x:auto;line-height:normal;font-family:Menlo,'DejaVu Sans Mono',consolas,'Courier New',monospace\">14:29:43.962 | <span style=\"color: #008080; text-decoration-color: #008080\">INFO</span>    | Flow run<span style=\"color: #800080; text-decoration-color: #800080\"> 'burrowing-bull'</span> - Executing 'train-42' immediately...\n",
       "</pre>\n"
      ],
      "text/plain": [
       "14:29:43.962 | \u001b[36mINFO\u001b[0m    | Flow run\u001b[35m 'burrowing-bull'\u001b[0m - Executing 'train-42' immediately...\n"
      ]
     },
     "metadata": {},
     "output_type": "display_data"
    },
    {
     "data": {
      "text/html": [
       "<pre style=\"white-space:pre;overflow-x:auto;line-height:normal;font-family:Menlo,'DejaVu Sans Mono',consolas,'Courier New',monospace\">14:29:49.257 | <span style=\"color: #008080; text-decoration-color: #008080\">INFO</span>    | Task run 'train-42' - Finished in state <span style=\"color: #008000; text-decoration-color: #008000\">Completed</span>()\n",
       "</pre>\n"
      ],
      "text/plain": [
       "14:29:49.257 | \u001b[36mINFO\u001b[0m    | Task run 'train-42' - Finished in state \u001b[32mCompleted\u001b[0m()\n"
      ]
     },
     "metadata": {},
     "output_type": "display_data"
    },
    {
     "name": "stderr",
     "output_type": "stream",
     "text": [
      "[I 2023-08-13 14:29:49,260] Trial 42 finished with value: 2205.1704287889033 and parameters: {'n_estimators': 937, 'max_depth': 9, 'learning_rate': 0.01504021859502641, 'subsample': 0.5350326883903606, 'colsample_bytree': 0.9401553334893118, 'min_child_weight': 6, 'alpha': 0.012566212412734461, 'gamma': 0.0033753669870950575, 'lambda': 0.1018050991104427}. Best is trial 42 with value: 2205.1704287889033.\n"
     ]
    },
    {
     "data": {
      "text/html": [
       "<pre style=\"white-space:pre;overflow-x:auto;line-height:normal;font-family:Menlo,'DejaVu Sans Mono',consolas,'Courier New',monospace\">14:29:49.345 | <span style=\"color: #008080; text-decoration-color: #008080\">INFO</span>    | Flow run<span style=\"color: #800080; text-decoration-color: #800080\"> 'burrowing-bull'</span> - Created task run 'train-43' for task 'train'\n",
       "</pre>\n"
      ],
      "text/plain": [
       "14:29:49.345 | \u001b[36mINFO\u001b[0m    | Flow run\u001b[35m 'burrowing-bull'\u001b[0m - Created task run 'train-43' for task 'train'\n"
      ]
     },
     "metadata": {},
     "output_type": "display_data"
    },
    {
     "data": {
      "text/html": [
       "<pre style=\"white-space:pre;overflow-x:auto;line-height:normal;font-family:Menlo,'DejaVu Sans Mono',consolas,'Courier New',monospace\">14:29:49.347 | <span style=\"color: #008080; text-decoration-color: #008080\">INFO</span>    | Flow run<span style=\"color: #800080; text-decoration-color: #800080\"> 'burrowing-bull'</span> - Executing 'train-43' immediately...\n",
       "</pre>\n"
      ],
      "text/plain": [
       "14:29:49.347 | \u001b[36mINFO\u001b[0m    | Flow run\u001b[35m 'burrowing-bull'\u001b[0m - Executing 'train-43' immediately...\n"
      ]
     },
     "metadata": {},
     "output_type": "display_data"
    },
    {
     "data": {
      "text/html": [
       "<pre style=\"white-space:pre;overflow-x:auto;line-height:normal;font-family:Menlo,'DejaVu Sans Mono',consolas,'Courier New',monospace\">14:29:56.647 | <span style=\"color: #008080; text-decoration-color: #008080\">INFO</span>    | Task run 'train-43' - Finished in state <span style=\"color: #008000; text-decoration-color: #008000\">Completed</span>()\n",
       "</pre>\n"
      ],
      "text/plain": [
       "14:29:56.647 | \u001b[36mINFO\u001b[0m    | Task run 'train-43' - Finished in state \u001b[32mCompleted\u001b[0m()\n"
      ]
     },
     "metadata": {},
     "output_type": "display_data"
    },
    {
     "name": "stderr",
     "output_type": "stream",
     "text": [
      "[I 2023-08-13 14:29:56,650] Trial 43 finished with value: 18388.02669041779 and parameters: {'n_estimators': 932, 'max_depth': 6, 'learning_rate': 0.002103454637345561, 'subsample': 0.5355387797474667, 'colsample_bytree': 0.9676700687976457, 'min_child_weight': 6, 'alpha': 0.009742045155476638, 'gamma': 0.001400912697391801, 'lambda': 0.11049458307274009}. Best is trial 42 with value: 2205.1704287889033.\n"
     ]
    },
    {
     "data": {
      "text/html": [
       "<pre style=\"white-space:pre;overflow-x:auto;line-height:normal;font-family:Menlo,'DejaVu Sans Mono',consolas,'Courier New',monospace\">14:29:56.735 | <span style=\"color: #008080; text-decoration-color: #008080\">INFO</span>    | Flow run<span style=\"color: #800080; text-decoration-color: #800080\"> 'burrowing-bull'</span> - Created task run 'train-44' for task 'train'\n",
       "</pre>\n"
      ],
      "text/plain": [
       "14:29:56.735 | \u001b[36mINFO\u001b[0m    | Flow run\u001b[35m 'burrowing-bull'\u001b[0m - Created task run 'train-44' for task 'train'\n"
      ]
     },
     "metadata": {},
     "output_type": "display_data"
    },
    {
     "data": {
      "text/html": [
       "<pre style=\"white-space:pre;overflow-x:auto;line-height:normal;font-family:Menlo,'DejaVu Sans Mono',consolas,'Courier New',monospace\">14:29:56.737 | <span style=\"color: #008080; text-decoration-color: #008080\">INFO</span>    | Flow run<span style=\"color: #800080; text-decoration-color: #800080\"> 'burrowing-bull'</span> - Executing 'train-44' immediately...\n",
       "</pre>\n"
      ],
      "text/plain": [
       "14:29:56.737 | \u001b[36mINFO\u001b[0m    | Flow run\u001b[35m 'burrowing-bull'\u001b[0m - Executing 'train-44' immediately...\n"
      ]
     },
     "metadata": {},
     "output_type": "display_data"
    },
    {
     "data": {
      "text/html": [
       "<pre style=\"white-space:pre;overflow-x:auto;line-height:normal;font-family:Menlo,'DejaVu Sans Mono',consolas,'Courier New',monospace\">14:29:58.953 | <span style=\"color: #008080; text-decoration-color: #008080\">INFO</span>    | Task run 'train-44' - Finished in state <span style=\"color: #008000; text-decoration-color: #008000\">Completed</span>()\n",
       "</pre>\n"
      ],
      "text/plain": [
       "14:29:58.953 | \u001b[36mINFO\u001b[0m    | Task run 'train-44' - Finished in state \u001b[32mCompleted\u001b[0m()\n"
      ]
     },
     "metadata": {},
     "output_type": "display_data"
    },
    {
     "name": "stderr",
     "output_type": "stream",
     "text": [
      "[I 2023-08-13 14:29:58,956] Trial 44 finished with value: 2318.595828399865 and parameters: {'n_estimators': 844, 'max_depth': 9, 'learning_rate': 0.0401801574252664, 'subsample': 0.5302039957029673, 'colsample_bytree': 0.9140391205169054, 'min_child_weight': 9, 'alpha': 0.001799360422983465, 'gamma': 0.0036889177118745384, 'lambda': 0.23769721049199272}. Best is trial 42 with value: 2205.1704287889033.\n"
     ]
    },
    {
     "data": {
      "text/html": [
       "<pre style=\"white-space:pre;overflow-x:auto;line-height:normal;font-family:Menlo,'DejaVu Sans Mono',consolas,'Courier New',monospace\">14:29:59.037 | <span style=\"color: #008080; text-decoration-color: #008080\">INFO</span>    | Flow run<span style=\"color: #800080; text-decoration-color: #800080\"> 'burrowing-bull'</span> - Created task run 'train-45' for task 'train'\n",
       "</pre>\n"
      ],
      "text/plain": [
       "14:29:59.037 | \u001b[36mINFO\u001b[0m    | Flow run\u001b[35m 'burrowing-bull'\u001b[0m - Created task run 'train-45' for task 'train'\n"
      ]
     },
     "metadata": {},
     "output_type": "display_data"
    },
    {
     "data": {
      "text/html": [
       "<pre style=\"white-space:pre;overflow-x:auto;line-height:normal;font-family:Menlo,'DejaVu Sans Mono',consolas,'Courier New',monospace\">14:29:59.039 | <span style=\"color: #008080; text-decoration-color: #008080\">INFO</span>    | Flow run<span style=\"color: #800080; text-decoration-color: #800080\"> 'burrowing-bull'</span> - Executing 'train-45' immediately...\n",
       "</pre>\n"
      ],
      "text/plain": [
       "14:29:59.039 | \u001b[36mINFO\u001b[0m    | Flow run\u001b[35m 'burrowing-bull'\u001b[0m - Executing 'train-45' immediately...\n"
      ]
     },
     "metadata": {},
     "output_type": "display_data"
    },
    {
     "data": {
      "text/html": [
       "<pre style=\"white-space:pre;overflow-x:auto;line-height:normal;font-family:Menlo,'DejaVu Sans Mono',consolas,'Courier New',monospace\">14:30:02.264 | <span style=\"color: #008080; text-decoration-color: #008080\">INFO</span>    | Task run 'train-45' - Finished in state <span style=\"color: #008000; text-decoration-color: #008000\">Completed</span>()\n",
       "</pre>\n"
      ],
      "text/plain": [
       "14:30:02.264 | \u001b[36mINFO\u001b[0m    | Task run 'train-45' - Finished in state \u001b[32mCompleted\u001b[0m()\n"
      ]
     },
     "metadata": {},
     "output_type": "display_data"
    },
    {
     "name": "stderr",
     "output_type": "stream",
     "text": [
      "[I 2023-08-13 14:30:02,267] Trial 45 finished with value: 2255.8348782138028 and parameters: {'n_estimators': 905, 'max_depth': 7, 'learning_rate': 0.018772420924769093, 'subsample': 0.5885444882674169, 'colsample_bytree': 0.9399073520442153, 'min_child_weight': 6, 'alpha': 0.006722637881667141, 'gamma': 0.0016391273197908823, 'lambda': 0.37457698474966666}. Best is trial 42 with value: 2205.1704287889033.\n"
     ]
    },
    {
     "data": {
      "text/html": [
       "<pre style=\"white-space:pre;overflow-x:auto;line-height:normal;font-family:Menlo,'DejaVu Sans Mono',consolas,'Courier New',monospace\">14:30:02.345 | <span style=\"color: #008080; text-decoration-color: #008080\">INFO</span>    | Flow run<span style=\"color: #800080; text-decoration-color: #800080\"> 'burrowing-bull'</span> - Created task run 'train-46' for task 'train'\n",
       "</pre>\n"
      ],
      "text/plain": [
       "14:30:02.345 | \u001b[36mINFO\u001b[0m    | Flow run\u001b[35m 'burrowing-bull'\u001b[0m - Created task run 'train-46' for task 'train'\n"
      ]
     },
     "metadata": {},
     "output_type": "display_data"
    },
    {
     "data": {
      "text/html": [
       "<pre style=\"white-space:pre;overflow-x:auto;line-height:normal;font-family:Menlo,'DejaVu Sans Mono',consolas,'Courier New',monospace\">14:30:02.346 | <span style=\"color: #008080; text-decoration-color: #008080\">INFO</span>    | Flow run<span style=\"color: #800080; text-decoration-color: #800080\"> 'burrowing-bull'</span> - Executing 'train-46' immediately...\n",
       "</pre>\n"
      ],
      "text/plain": [
       "14:30:02.346 | \u001b[36mINFO\u001b[0m    | Flow run\u001b[35m 'burrowing-bull'\u001b[0m - Executing 'train-46' immediately...\n"
      ]
     },
     "metadata": {},
     "output_type": "display_data"
    },
    {
     "data": {
      "text/html": [
       "<pre style=\"white-space:pre;overflow-x:auto;line-height:normal;font-family:Menlo,'DejaVu Sans Mono',consolas,'Courier New',monospace\">14:30:04.111 | <span style=\"color: #008080; text-decoration-color: #008080\">INFO</span>    | Task run 'train-46' - Finished in state <span style=\"color: #008000; text-decoration-color: #008000\">Completed</span>()\n",
       "</pre>\n"
      ],
      "text/plain": [
       "14:30:04.111 | \u001b[36mINFO\u001b[0m    | Task run 'train-46' - Finished in state \u001b[32mCompleted\u001b[0m()\n"
      ]
     },
     "metadata": {},
     "output_type": "display_data"
    },
    {
     "name": "stderr",
     "output_type": "stream",
     "text": [
      "[I 2023-08-13 14:30:04,113] Trial 46 finished with value: 2377.114814149188 and parameters: {'n_estimators': 829, 'max_depth': 5, 'learning_rate': 0.04465613974234626, 'subsample': 0.5280667586083361, 'colsample_bytree': 0.8177144411457105, 'min_child_weight': 6, 'alpha': 0.000628715371452436, 'gamma': 0.000384389871419945, 'lambda': 0.0856402346609806}. Best is trial 42 with value: 2205.1704287889033.\n"
     ]
    },
    {
     "data": {
      "text/html": [
       "<pre style=\"white-space:pre;overflow-x:auto;line-height:normal;font-family:Menlo,'DejaVu Sans Mono',consolas,'Courier New',monospace\">14:30:04.191 | <span style=\"color: #008080; text-decoration-color: #008080\">INFO</span>    | Flow run<span style=\"color: #800080; text-decoration-color: #800080\"> 'burrowing-bull'</span> - Created task run 'train-47' for task 'train'\n",
       "</pre>\n"
      ],
      "text/plain": [
       "14:30:04.191 | \u001b[36mINFO\u001b[0m    | Flow run\u001b[35m 'burrowing-bull'\u001b[0m - Created task run 'train-47' for task 'train'\n"
      ]
     },
     "metadata": {},
     "output_type": "display_data"
    },
    {
     "data": {
      "text/html": [
       "<pre style=\"white-space:pre;overflow-x:auto;line-height:normal;font-family:Menlo,'DejaVu Sans Mono',consolas,'Courier New',monospace\">14:30:04.193 | <span style=\"color: #008080; text-decoration-color: #008080\">INFO</span>    | Flow run<span style=\"color: #800080; text-decoration-color: #800080\"> 'burrowing-bull'</span> - Executing 'train-47' immediately...\n",
       "</pre>\n"
      ],
      "text/plain": [
       "14:30:04.193 | \u001b[36mINFO\u001b[0m    | Flow run\u001b[35m 'burrowing-bull'\u001b[0m - Executing 'train-47' immediately...\n"
      ]
     },
     "metadata": {},
     "output_type": "display_data"
    },
    {
     "data": {
      "text/html": [
       "<pre style=\"white-space:pre;overflow-x:auto;line-height:normal;font-family:Menlo,'DejaVu Sans Mono',consolas,'Courier New',monospace\">14:30:05.741 | <span style=\"color: #008080; text-decoration-color: #008080\">INFO</span>    | Task run 'train-47' - Finished in state <span style=\"color: #008000; text-decoration-color: #008000\">Completed</span>()\n",
       "</pre>\n"
      ],
      "text/plain": [
       "14:30:05.741 | \u001b[36mINFO\u001b[0m    | Task run 'train-47' - Finished in state \u001b[32mCompleted\u001b[0m()\n"
      ]
     },
     "metadata": {},
     "output_type": "display_data"
    },
    {
     "name": "stderr",
     "output_type": "stream",
     "text": [
      "[I 2023-08-13 14:30:05,743] Trial 47 finished with value: 2486.7245496447904 and parameters: {'n_estimators': 964, 'max_depth': 1, 'learning_rate': 0.06277757082364527, 'subsample': 0.5505262520238386, 'colsample_bytree': 0.8908926399021161, 'min_child_weight': 7, 'alpha': 0.004683129804363222, 'gamma': 0.0006690423137766584, 'lambda': 0.03234911483026158}. Best is trial 42 with value: 2205.1704287889033.\n"
     ]
    },
    {
     "data": {
      "text/html": [
       "<pre style=\"white-space:pre;overflow-x:auto;line-height:normal;font-family:Menlo,'DejaVu Sans Mono',consolas,'Courier New',monospace\">14:30:05.844 | <span style=\"color: #008080; text-decoration-color: #008080\">INFO</span>    | Flow run<span style=\"color: #800080; text-decoration-color: #800080\"> 'burrowing-bull'</span> - Created task run 'train-48' for task 'train'\n",
       "</pre>\n"
      ],
      "text/plain": [
       "14:30:05.844 | \u001b[36mINFO\u001b[0m    | Flow run\u001b[35m 'burrowing-bull'\u001b[0m - Created task run 'train-48' for task 'train'\n"
      ]
     },
     "metadata": {},
     "output_type": "display_data"
    },
    {
     "data": {
      "text/html": [
       "<pre style=\"white-space:pre;overflow-x:auto;line-height:normal;font-family:Menlo,'DejaVu Sans Mono',consolas,'Courier New',monospace\">14:30:05.846 | <span style=\"color: #008080; text-decoration-color: #008080\">INFO</span>    | Flow run<span style=\"color: #800080; text-decoration-color: #800080\"> 'burrowing-bull'</span> - Executing 'train-48' immediately...\n",
       "</pre>\n"
      ],
      "text/plain": [
       "14:30:05.846 | \u001b[36mINFO\u001b[0m    | Flow run\u001b[35m 'burrowing-bull'\u001b[0m - Executing 'train-48' immediately...\n"
      ]
     },
     "metadata": {},
     "output_type": "display_data"
    },
    {
     "data": {
      "text/html": [
       "<pre style=\"white-space:pre;overflow-x:auto;line-height:normal;font-family:Menlo,'DejaVu Sans Mono',consolas,'Courier New',monospace\">14:30:08.943 | <span style=\"color: #008080; text-decoration-color: #008080\">INFO</span>    | Task run 'train-48' - Finished in state <span style=\"color: #008000; text-decoration-color: #008000\">Completed</span>()\n",
       "</pre>\n"
      ],
      "text/plain": [
       "14:30:08.943 | \u001b[36mINFO\u001b[0m    | Task run 'train-48' - Finished in state \u001b[32mCompleted\u001b[0m()\n"
      ]
     },
     "metadata": {},
     "output_type": "display_data"
    },
    {
     "name": "stderr",
     "output_type": "stream",
     "text": [
      "[I 2023-08-13 14:30:08,946] Trial 48 finished with value: 2237.7533258626527 and parameters: {'n_estimators': 931, 'max_depth': 8, 'learning_rate': 0.024322385446583716, 'subsample': 0.5132521188163247, 'colsample_bytree': 0.9719994685913058, 'min_child_weight': 2, 'alpha': 0.008671158898781553, 'gamma': 0.006508629324308156, 'lambda': 0.09349632162215114}. Best is trial 42 with value: 2205.1704287889033.\n"
     ]
    },
    {
     "data": {
      "text/html": [
       "<pre style=\"white-space:pre;overflow-x:auto;line-height:normal;font-family:Menlo,'DejaVu Sans Mono',consolas,'Courier New',monospace\">14:30:09.026 | <span style=\"color: #008080; text-decoration-color: #008080\">INFO</span>    | Flow run<span style=\"color: #800080; text-decoration-color: #800080\"> 'burrowing-bull'</span> - Created task run 'train-49' for task 'train'\n",
       "</pre>\n"
      ],
      "text/plain": [
       "14:30:09.026 | \u001b[36mINFO\u001b[0m    | Flow run\u001b[35m 'burrowing-bull'\u001b[0m - Created task run 'train-49' for task 'train'\n"
      ]
     },
     "metadata": {},
     "output_type": "display_data"
    },
    {
     "data": {
      "text/html": [
       "<pre style=\"white-space:pre;overflow-x:auto;line-height:normal;font-family:Menlo,'DejaVu Sans Mono',consolas,'Courier New',monospace\">14:30:09.028 | <span style=\"color: #008080; text-decoration-color: #008080\">INFO</span>    | Flow run<span style=\"color: #800080; text-decoration-color: #800080\"> 'burrowing-bull'</span> - Executing 'train-49' immediately...\n",
       "</pre>\n"
      ],
      "text/plain": [
       "14:30:09.028 | \u001b[36mINFO\u001b[0m    | Flow run\u001b[35m 'burrowing-bull'\u001b[0m - Executing 'train-49' immediately...\n"
      ]
     },
     "metadata": {},
     "output_type": "display_data"
    },
    {
     "data": {
      "text/html": [
       "<pre style=\"white-space:pre;overflow-x:auto;line-height:normal;font-family:Menlo,'DejaVu Sans Mono',consolas,'Courier New',monospace\">14:30:11.130 | <span style=\"color: #008080; text-decoration-color: #008080\">INFO</span>    | Task run 'train-49' - Finished in state <span style=\"color: #008000; text-decoration-color: #008000\">Completed</span>()\n",
       "</pre>\n"
      ],
      "text/plain": [
       "14:30:11.130 | \u001b[36mINFO\u001b[0m    | Task run 'train-49' - Finished in state \u001b[32mCompleted\u001b[0m()\n"
      ]
     },
     "metadata": {},
     "output_type": "display_data"
    },
    {
     "name": "stderr",
     "output_type": "stream",
     "text": [
      "[I 2023-08-13 14:30:11,133] Trial 49 finished with value: 2312.8313388024358 and parameters: {'n_estimators': 872, 'max_depth': 9, 'learning_rate': 0.048688600570368785, 'subsample': 0.570573331741126, 'colsample_bytree': 0.8640022107963005, 'min_child_weight': 8, 'alpha': 0.002692440651169016, 'gamma': 0.0009923907867409043, 'lambda': 0.013049963208164189}. Best is trial 42 with value: 2205.1704287889033.\n"
     ]
    },
    {
     "data": {
      "text/html": [
       "<pre style=\"white-space:pre;overflow-x:auto;line-height:normal;font-family:Menlo,'DejaVu Sans Mono',consolas,'Courier New',monospace\">14:30:11.227 | <span style=\"color: #008080; text-decoration-color: #008080\">INFO</span>    | Flow run<span style=\"color: #800080; text-decoration-color: #800080\"> 'burrowing-bull'</span> - Created task run 'train-50' for task 'train'\n",
       "</pre>\n"
      ],
      "text/plain": [
       "14:30:11.227 | \u001b[36mINFO\u001b[0m    | Flow run\u001b[35m 'burrowing-bull'\u001b[0m - Created task run 'train-50' for task 'train'\n"
      ]
     },
     "metadata": {},
     "output_type": "display_data"
    },
    {
     "data": {
      "text/html": [
       "<pre style=\"white-space:pre;overflow-x:auto;line-height:normal;font-family:Menlo,'DejaVu Sans Mono',consolas,'Courier New',monospace\">14:30:11.228 | <span style=\"color: #008080; text-decoration-color: #008080\">INFO</span>    | Flow run<span style=\"color: #800080; text-decoration-color: #800080\"> 'burrowing-bull'</span> - Executing 'train-50' immediately...\n",
       "</pre>\n"
      ],
      "text/plain": [
       "14:30:11.228 | \u001b[36mINFO\u001b[0m    | Flow run\u001b[35m 'burrowing-bull'\u001b[0m - Executing 'train-50' immediately...\n"
      ]
     },
     "metadata": {},
     "output_type": "display_data"
    },
    {
     "data": {
      "text/html": [
       "<pre style=\"white-space:pre;overflow-x:auto;line-height:normal;font-family:Menlo,'DejaVu Sans Mono',consolas,'Courier New',monospace\">14:30:16.347 | <span style=\"color: #008080; text-decoration-color: #008080\">INFO</span>    | Task run 'train-50' - Finished in state <span style=\"color: #008000; text-decoration-color: #008000\">Completed</span>()\n",
       "</pre>\n"
      ],
      "text/plain": [
       "14:30:16.347 | \u001b[36mINFO\u001b[0m    | Task run 'train-50' - Finished in state \u001b[32mCompleted\u001b[0m()\n"
      ]
     },
     "metadata": {},
     "output_type": "display_data"
    },
    {
     "name": "stderr",
     "output_type": "stream",
     "text": [
      "[I 2023-08-13 14:30:16,349] Trial 50 finished with value: 2266.229623012517 and parameters: {'n_estimators': 792, 'max_depth': 6, 'learning_rate': 0.013223939233435442, 'subsample': 0.5073777828945116, 'colsample_bytree': 0.9499805485285635, 'min_child_weight': 7, 'alpha': 0.0802485829197019, 'gamma': 0.0027789215594696695, 'lambda': 0.5989817547423595}. Best is trial 42 with value: 2205.1704287889033.\n"
     ]
    },
    {
     "data": {
      "text/html": [
       "<pre style=\"white-space:pre;overflow-x:auto;line-height:normal;font-family:Menlo,'DejaVu Sans Mono',consolas,'Courier New',monospace\">14:30:16.446 | <span style=\"color: #008080; text-decoration-color: #008080\">INFO</span>    | Flow run<span style=\"color: #800080; text-decoration-color: #800080\"> 'burrowing-bull'</span> - Created task run 'train-51' for task 'train'\n",
       "</pre>\n"
      ],
      "text/plain": [
       "14:30:16.446 | \u001b[36mINFO\u001b[0m    | Flow run\u001b[35m 'burrowing-bull'\u001b[0m - Created task run 'train-51' for task 'train'\n"
      ]
     },
     "metadata": {},
     "output_type": "display_data"
    },
    {
     "data": {
      "text/html": [
       "<pre style=\"white-space:pre;overflow-x:auto;line-height:normal;font-family:Menlo,'DejaVu Sans Mono',consolas,'Courier New',monospace\">14:30:16.448 | <span style=\"color: #008080; text-decoration-color: #008080\">INFO</span>    | Flow run<span style=\"color: #800080; text-decoration-color: #800080\"> 'burrowing-bull'</span> - Executing 'train-51' immediately...\n",
       "</pre>\n"
      ],
      "text/plain": [
       "14:30:16.448 | \u001b[36mINFO\u001b[0m    | Flow run\u001b[35m 'burrowing-bull'\u001b[0m - Executing 'train-51' immediately...\n"
      ]
     },
     "metadata": {},
     "output_type": "display_data"
    },
    {
     "data": {
      "text/html": [
       "<pre style=\"white-space:pre;overflow-x:auto;line-height:normal;font-family:Menlo,'DejaVu Sans Mono',consolas,'Courier New',monospace\">14:30:17.604 | <span style=\"color: #008080; text-decoration-color: #008080\">INFO</span>    | Task run 'train-51' - Finished in state <span style=\"color: #008000; text-decoration-color: #008000\">Completed</span>()\n",
       "</pre>\n"
      ],
      "text/plain": [
       "14:30:17.604 | \u001b[36mINFO\u001b[0m    | Task run 'train-51' - Finished in state \u001b[32mCompleted\u001b[0m()\n"
      ]
     },
     "metadata": {},
     "output_type": "display_data"
    },
    {
     "name": "stderr",
     "output_type": "stream",
     "text": [
      "[I 2023-08-13 14:30:17,607] Trial 51 finished with value: 25282.156425490528 and parameters: {'n_estimators': 127, 'max_depth': 10, 'learning_rate': 0.012873075916577178, 'subsample': 0.5809145084713634, 'colsample_bytree': 0.9055149433484727, 'min_child_weight': 7, 'alpha': 0.01423500750190633, 'gamma': 0.0036319297346431322, 'lambda': 0.26752034670537284}. Best is trial 42 with value: 2205.1704287889033.\n"
     ]
    },
    {
     "data": {
      "text/html": [
       "<pre style=\"white-space:pre;overflow-x:auto;line-height:normal;font-family:Menlo,'DejaVu Sans Mono',consolas,'Courier New',monospace\">14:30:17.701 | <span style=\"color: #008080; text-decoration-color: #008080\">INFO</span>    | Flow run<span style=\"color: #800080; text-decoration-color: #800080\"> 'burrowing-bull'</span> - Created task run 'train-52' for task 'train'\n",
       "</pre>\n"
      ],
      "text/plain": [
       "14:30:17.701 | \u001b[36mINFO\u001b[0m    | Flow run\u001b[35m 'burrowing-bull'\u001b[0m - Created task run 'train-52' for task 'train'\n"
      ]
     },
     "metadata": {},
     "output_type": "display_data"
    },
    {
     "data": {
      "text/html": [
       "<pre style=\"white-space:pre;overflow-x:auto;line-height:normal;font-family:Menlo,'DejaVu Sans Mono',consolas,'Courier New',monospace\">14:30:17.703 | <span style=\"color: #008080; text-decoration-color: #008080\">INFO</span>    | Flow run<span style=\"color: #800080; text-decoration-color: #800080\"> 'burrowing-bull'</span> - Executing 'train-52' immediately...\n",
       "</pre>\n"
      ],
      "text/plain": [
       "14:30:17.703 | \u001b[36mINFO\u001b[0m    | Flow run\u001b[35m 'burrowing-bull'\u001b[0m - Executing 'train-52' immediately...\n"
      ]
     },
     "metadata": {},
     "output_type": "display_data"
    },
    {
     "data": {
      "text/html": [
       "<pre style=\"white-space:pre;overflow-x:auto;line-height:normal;font-family:Menlo,'DejaVu Sans Mono',consolas,'Courier New',monospace\">14:30:21.401 | <span style=\"color: #008080; text-decoration-color: #008080\">INFO</span>    | Task run 'train-52' - Finished in state <span style=\"color: #008000; text-decoration-color: #008000\">Completed</span>()\n",
       "</pre>\n"
      ],
      "text/plain": [
       "14:30:21.401 | \u001b[36mINFO\u001b[0m    | Task run 'train-52' - Finished in state \u001b[32mCompleted\u001b[0m()\n"
      ]
     },
     "metadata": {},
     "output_type": "display_data"
    },
    {
     "name": "stderr",
     "output_type": "stream",
     "text": [
      "[I 2023-08-13 14:30:21,404] Trial 52 finished with value: 2218.4950534928957 and parameters: {'n_estimators': 814, 'max_depth': 10, 'learning_rate': 0.02605225141150271, 'subsample': 0.5756599209150752, 'colsample_bytree': 0.9407661471469921, 'min_child_weight': 6, 'alpha': 0.02284083025593737, 'gamma': 0.0021608389751711916, 'lambda': 0.1619183770922881}. Best is trial 42 with value: 2205.1704287889033.\n"
     ]
    },
    {
     "data": {
      "text/html": [
       "<pre style=\"white-space:pre;overflow-x:auto;line-height:normal;font-family:Menlo,'DejaVu Sans Mono',consolas,'Courier New',monospace\">14:30:21.497 | <span style=\"color: #008080; text-decoration-color: #008080\">INFO</span>    | Flow run<span style=\"color: #800080; text-decoration-color: #800080\"> 'burrowing-bull'</span> - Created task run 'train-53' for task 'train'\n",
       "</pre>\n"
      ],
      "text/plain": [
       "14:30:21.497 | \u001b[36mINFO\u001b[0m    | Flow run\u001b[35m 'burrowing-bull'\u001b[0m - Created task run 'train-53' for task 'train'\n"
      ]
     },
     "metadata": {},
     "output_type": "display_data"
    },
    {
     "data": {
      "text/html": [
       "<pre style=\"white-space:pre;overflow-x:auto;line-height:normal;font-family:Menlo,'DejaVu Sans Mono',consolas,'Courier New',monospace\">14:30:21.499 | <span style=\"color: #008080; text-decoration-color: #008080\">INFO</span>    | Flow run<span style=\"color: #800080; text-decoration-color: #800080\"> 'burrowing-bull'</span> - Executing 'train-53' immediately...\n",
       "</pre>\n"
      ],
      "text/plain": [
       "14:30:21.499 | \u001b[36mINFO\u001b[0m    | Flow run\u001b[35m 'burrowing-bull'\u001b[0m - Executing 'train-53' immediately...\n"
      ]
     },
     "metadata": {},
     "output_type": "display_data"
    },
    {
     "data": {
      "text/html": [
       "<pre style=\"white-space:pre;overflow-x:auto;line-height:normal;font-family:Menlo,'DejaVu Sans Mono',consolas,'Courier New',monospace\">14:30:24.333 | <span style=\"color: #008080; text-decoration-color: #008080\">INFO</span>    | Task run 'train-53' - Finished in state <span style=\"color: #008000; text-decoration-color: #008000\">Completed</span>()\n",
       "</pre>\n"
      ],
      "text/plain": [
       "14:30:24.333 | \u001b[36mINFO\u001b[0m    | Task run 'train-53' - Finished in state \u001b[32mCompleted\u001b[0m()\n"
      ]
     },
     "metadata": {},
     "output_type": "display_data"
    },
    {
     "name": "stderr",
     "output_type": "stream",
     "text": [
      "[I 2023-08-13 14:30:24,336] Trial 53 finished with value: 2280.1474035859273 and parameters: {'n_estimators': 945, 'max_depth': 8, 'learning_rate': 0.03274825094928894, 'subsample': 0.5510300473303286, 'colsample_bytree': 0.8969364388047747, 'min_child_weight': 6, 'alpha': 0.029390284472958453, 'gamma': 0.00028742199662113577, 'lambda': 0.033805344715888495}. Best is trial 42 with value: 2205.1704287889033.\n"
     ]
    },
    {
     "data": {
      "text/html": [
       "<pre style=\"white-space:pre;overflow-x:auto;line-height:normal;font-family:Menlo,'DejaVu Sans Mono',consolas,'Courier New',monospace\">14:30:24.422 | <span style=\"color: #008080; text-decoration-color: #008080\">INFO</span>    | Flow run<span style=\"color: #800080; text-decoration-color: #800080\"> 'burrowing-bull'</span> - Created task run 'train-54' for task 'train'\n",
       "</pre>\n"
      ],
      "text/plain": [
       "14:30:24.422 | \u001b[36mINFO\u001b[0m    | Flow run\u001b[35m 'burrowing-bull'\u001b[0m - Created task run 'train-54' for task 'train'\n"
      ]
     },
     "metadata": {},
     "output_type": "display_data"
    },
    {
     "data": {
      "text/html": [
       "<pre style=\"white-space:pre;overflow-x:auto;line-height:normal;font-family:Menlo,'DejaVu Sans Mono',consolas,'Courier New',monospace\">14:30:24.424 | <span style=\"color: #008080; text-decoration-color: #008080\">INFO</span>    | Flow run<span style=\"color: #800080; text-decoration-color: #800080\"> 'burrowing-bull'</span> - Executing 'train-54' immediately...\n",
       "</pre>\n"
      ],
      "text/plain": [
       "14:30:24.424 | \u001b[36mINFO\u001b[0m    | Flow run\u001b[35m 'burrowing-bull'\u001b[0m - Executing 'train-54' immediately...\n"
      ]
     },
     "metadata": {},
     "output_type": "display_data"
    },
    {
     "data": {
      "text/html": [
       "<pre style=\"white-space:pre;overflow-x:auto;line-height:normal;font-family:Menlo,'DejaVu Sans Mono',consolas,'Courier New',monospace\">14:30:26.580 | <span style=\"color: #008080; text-decoration-color: #008080\">INFO</span>    | Task run 'train-54' - Finished in state <span style=\"color: #008000; text-decoration-color: #008000\">Completed</span>()\n",
       "</pre>\n"
      ],
      "text/plain": [
       "14:30:26.580 | \u001b[36mINFO\u001b[0m    | Task run 'train-54' - Finished in state \u001b[32mCompleted\u001b[0m()\n"
      ]
     },
     "metadata": {},
     "output_type": "display_data"
    },
    {
     "name": "stderr",
     "output_type": "stream",
     "text": [
      "[I 2023-08-13 14:30:26,583] Trial 54 finished with value: 2233.9881617895808 and parameters: {'n_estimators': 820, 'max_depth': 10, 'learning_rate': 0.053919701266703465, 'subsample': 0.5963852775916223, 'colsample_bytree': 0.9248087366967647, 'min_child_weight': 9, 'alpha': 0.022349480679918175, 'gamma': 0.005248462939925894, 'lambda': 0.06798236377661493}. Best is trial 42 with value: 2205.1704287889033.\n"
     ]
    },
    {
     "data": {
      "text/html": [
       "<pre style=\"white-space:pre;overflow-x:auto;line-height:normal;font-family:Menlo,'DejaVu Sans Mono',consolas,'Courier New',monospace\">14:30:26.670 | <span style=\"color: #008080; text-decoration-color: #008080\">INFO</span>    | Flow run<span style=\"color: #800080; text-decoration-color: #800080\"> 'burrowing-bull'</span> - Created task run 'train-55' for task 'train'\n",
       "</pre>\n"
      ],
      "text/plain": [
       "14:30:26.670 | \u001b[36mINFO\u001b[0m    | Flow run\u001b[35m 'burrowing-bull'\u001b[0m - Created task run 'train-55' for task 'train'\n"
      ]
     },
     "metadata": {},
     "output_type": "display_data"
    },
    {
     "data": {
      "text/html": [
       "<pre style=\"white-space:pre;overflow-x:auto;line-height:normal;font-family:Menlo,'DejaVu Sans Mono',consolas,'Courier New',monospace\">14:30:26.672 | <span style=\"color: #008080; text-decoration-color: #008080\">INFO</span>    | Flow run<span style=\"color: #800080; text-decoration-color: #800080\"> 'burrowing-bull'</span> - Executing 'train-55' immediately...\n",
       "</pre>\n"
      ],
      "text/plain": [
       "14:30:26.672 | \u001b[36mINFO\u001b[0m    | Flow run\u001b[35m 'burrowing-bull'\u001b[0m - Executing 'train-55' immediately...\n"
      ]
     },
     "metadata": {},
     "output_type": "display_data"
    },
    {
     "data": {
      "text/html": [
       "<pre style=\"white-space:pre;overflow-x:auto;line-height:normal;font-family:Menlo,'DejaVu Sans Mono',consolas,'Courier New',monospace\">14:30:27.903 | <span style=\"color: #008080; text-decoration-color: #008080\">INFO</span>    | Task run 'train-55' - Finished in state <span style=\"color: #008000; text-decoration-color: #008000\">Completed</span>()\n",
       "</pre>\n"
      ],
      "text/plain": [
       "14:30:27.903 | \u001b[36mINFO\u001b[0m    | Task run 'train-55' - Finished in state \u001b[32mCompleted\u001b[0m()\n"
      ]
     },
     "metadata": {},
     "output_type": "display_data"
    },
    {
     "name": "stderr",
     "output_type": "stream",
     "text": [
      "[I 2023-08-13 14:30:27,907] Trial 55 finished with value: 2299.2460599205006 and parameters: {'n_estimators': 876, 'max_depth': 7, 'learning_rate': 0.08487154489816186, 'subsample': 0.5007841903764787, 'colsample_bytree': 0.9776350814492363, 'min_child_weight': 6, 'alpha': 0.01192618705831216, 'gamma': 0.0018794283602859754, 'lambda': 0.723009848631599}. Best is trial 42 with value: 2205.1704287889033.\n"
     ]
    },
    {
     "data": {
      "text/html": [
       "<pre style=\"white-space:pre;overflow-x:auto;line-height:normal;font-family:Menlo,'DejaVu Sans Mono',consolas,'Courier New',monospace\">14:30:27.993 | <span style=\"color: #008080; text-decoration-color: #008080\">INFO</span>    | Flow run<span style=\"color: #800080; text-decoration-color: #800080\"> 'burrowing-bull'</span> - Created task run 'train-56' for task 'train'\n",
       "</pre>\n"
      ],
      "text/plain": [
       "14:30:27.993 | \u001b[36mINFO\u001b[0m    | Flow run\u001b[35m 'burrowing-bull'\u001b[0m - Created task run 'train-56' for task 'train'\n"
      ]
     },
     "metadata": {},
     "output_type": "display_data"
    },
    {
     "data": {
      "text/html": [
       "<pre style=\"white-space:pre;overflow-x:auto;line-height:normal;font-family:Menlo,'DejaVu Sans Mono',consolas,'Courier New',monospace\">14:30:27.995 | <span style=\"color: #008080; text-decoration-color: #008080\">INFO</span>    | Flow run<span style=\"color: #800080; text-decoration-color: #800080\"> 'burrowing-bull'</span> - Executing 'train-56' immediately...\n",
       "</pre>\n"
      ],
      "text/plain": [
       "14:30:27.995 | \u001b[36mINFO\u001b[0m    | Flow run\u001b[35m 'burrowing-bull'\u001b[0m - Executing 'train-56' immediately...\n"
      ]
     },
     "metadata": {},
     "output_type": "display_data"
    },
    {
     "data": {
      "text/html": [
       "<pre style=\"white-space:pre;overflow-x:auto;line-height:normal;font-family:Menlo,'DejaVu Sans Mono',consolas,'Courier New',monospace\">14:30:31.266 | <span style=\"color: #008080; text-decoration-color: #008080\">INFO</span>    | Task run 'train-56' - Finished in state <span style=\"color: #008000; text-decoration-color: #008000\">Completed</span>()\n",
       "</pre>\n"
      ],
      "text/plain": [
       "14:30:31.266 | \u001b[36mINFO\u001b[0m    | Task run 'train-56' - Finished in state \u001b[32mCompleted\u001b[0m()\n"
      ]
     },
     "metadata": {},
     "output_type": "display_data"
    },
    {
     "name": "stderr",
     "output_type": "stream",
     "text": [
      "[I 2023-08-13 14:30:31,268] Trial 56 finished with value: 2256.0355304888367 and parameters: {'n_estimators': 483, 'max_depth': 9, 'learning_rate': 0.02680601690947225, 'subsample': 0.5230810682157625, 'colsample_bytree': 0.9506409563586994, 'min_child_weight': 4, 'alpha': 0.006513678719559815, 'gamma': 0.0008942576992967299, 'lambda': 0.3064694224785543}. Best is trial 42 with value: 2205.1704287889033.\n"
     ]
    },
    {
     "data": {
      "text/html": [
       "<pre style=\"white-space:pre;overflow-x:auto;line-height:normal;font-family:Menlo,'DejaVu Sans Mono',consolas,'Courier New',monospace\">14:30:31.355 | <span style=\"color: #008080; text-decoration-color: #008080\">INFO</span>    | Flow run<span style=\"color: #800080; text-decoration-color: #800080\"> 'burrowing-bull'</span> - Created task run 'train-57' for task 'train'\n",
       "</pre>\n"
      ],
      "text/plain": [
       "14:30:31.355 | \u001b[36mINFO\u001b[0m    | Flow run\u001b[35m 'burrowing-bull'\u001b[0m - Created task run 'train-57' for task 'train'\n"
      ]
     },
     "metadata": {},
     "output_type": "display_data"
    },
    {
     "data": {
      "text/html": [
       "<pre style=\"white-space:pre;overflow-x:auto;line-height:normal;font-family:Menlo,'DejaVu Sans Mono',consolas,'Courier New',monospace\">14:30:31.357 | <span style=\"color: #008080; text-decoration-color: #008080\">INFO</span>    | Flow run<span style=\"color: #800080; text-decoration-color: #800080\"> 'burrowing-bull'</span> - Executing 'train-57' immediately...\n",
       "</pre>\n"
      ],
      "text/plain": [
       "14:30:31.357 | \u001b[36mINFO\u001b[0m    | Flow run\u001b[35m 'burrowing-bull'\u001b[0m - Executing 'train-57' immediately...\n"
      ]
     },
     "metadata": {},
     "output_type": "display_data"
    },
    {
     "data": {
      "text/html": [
       "<pre style=\"white-space:pre;overflow-x:auto;line-height:normal;font-family:Menlo,'DejaVu Sans Mono',consolas,'Courier New',monospace\">14:30:40.007 | <span style=\"color: #008080; text-decoration-color: #008080\">INFO</span>    | Task run 'train-57' - Finished in state <span style=\"color: #008000; text-decoration-color: #008000\">Completed</span>()\n",
       "</pre>\n"
      ],
      "text/plain": [
       "14:30:40.007 | \u001b[36mINFO\u001b[0m    | Task run 'train-57' - Finished in state \u001b[32mCompleted\u001b[0m()\n"
      ]
     },
     "metadata": {},
     "output_type": "display_data"
    },
    {
     "name": "stderr",
     "output_type": "stream",
     "text": [
      "[I 2023-08-13 14:30:40,010] Trial 57 finished with value: 23077.229676928284 and parameters: {'n_estimators': 998, 'max_depth': 9, 'learning_rate': 0.0017396126346275742, 'subsample': 0.5669457316300742, 'colsample_bytree': 0.97291857725891, 'min_child_weight': 8, 'alpha': 0.07553431313759712, 'gamma': 0.016476694454963622, 'lambda': 0.15045458133573691}. Best is trial 42 with value: 2205.1704287889033.\n"
     ]
    },
    {
     "data": {
      "text/html": [
       "<pre style=\"white-space:pre;overflow-x:auto;line-height:normal;font-family:Menlo,'DejaVu Sans Mono',consolas,'Courier New',monospace\">14:30:40.106 | <span style=\"color: #008080; text-decoration-color: #008080\">INFO</span>    | Flow run<span style=\"color: #800080; text-decoration-color: #800080\"> 'burrowing-bull'</span> - Created task run 'train-58' for task 'train'\n",
       "</pre>\n"
      ],
      "text/plain": [
       "14:30:40.106 | \u001b[36mINFO\u001b[0m    | Flow run\u001b[35m 'burrowing-bull'\u001b[0m - Created task run 'train-58' for task 'train'\n"
      ]
     },
     "metadata": {},
     "output_type": "display_data"
    },
    {
     "data": {
      "text/html": [
       "<pre style=\"white-space:pre;overflow-x:auto;line-height:normal;font-family:Menlo,'DejaVu Sans Mono',consolas,'Courier New',monospace\">14:30:40.108 | <span style=\"color: #008080; text-decoration-color: #008080\">INFO</span>    | Flow run<span style=\"color: #800080; text-decoration-color: #800080\"> 'burrowing-bull'</span> - Executing 'train-58' immediately...\n",
       "</pre>\n"
      ],
      "text/plain": [
       "14:30:40.108 | \u001b[36mINFO\u001b[0m    | Flow run\u001b[35m 'burrowing-bull'\u001b[0m - Executing 'train-58' immediately...\n"
      ]
     },
     "metadata": {},
     "output_type": "display_data"
    },
    {
     "data": {
      "text/html": [
       "<pre style=\"white-space:pre;overflow-x:auto;line-height:normal;font-family:Menlo,'DejaVu Sans Mono',consolas,'Courier New',monospace\">14:30:42.863 | <span style=\"color: #008080; text-decoration-color: #008080\">INFO</span>    | Task run 'train-58' - Finished in state <span style=\"color: #008000; text-decoration-color: #008000\">Completed</span>()\n",
       "</pre>\n"
      ],
      "text/plain": [
       "14:30:42.863 | \u001b[36mINFO\u001b[0m    | Task run 'train-58' - Finished in state \u001b[32mCompleted\u001b[0m()\n"
      ]
     },
     "metadata": {},
     "output_type": "display_data"
    },
    {
     "name": "stderr",
     "output_type": "stream",
     "text": [
      "[I 2023-08-13 14:30:42,866] Trial 58 finished with value: 2265.407178196888 and parameters: {'n_estimators': 685, 'max_depth': 8, 'learning_rate': 0.03963268927707766, 'subsample': 0.6155589342785008, 'colsample_bytree': 0.9124036547836964, 'min_child_weight': 5, 'alpha': 0.039962053520661726, 'gamma': 0.02298143799086817, 'lambda': 0.04079557889995434}. Best is trial 42 with value: 2205.1704287889033.\n"
     ]
    },
    {
     "data": {
      "text/html": [
       "<pre style=\"white-space:pre;overflow-x:auto;line-height:normal;font-family:Menlo,'DejaVu Sans Mono',consolas,'Courier New',monospace\">14:30:42.970 | <span style=\"color: #008080; text-decoration-color: #008080\">INFO</span>    | Flow run<span style=\"color: #800080; text-decoration-color: #800080\"> 'burrowing-bull'</span> - Created task run 'train-59' for task 'train'\n",
       "</pre>\n"
      ],
      "text/plain": [
       "14:30:42.970 | \u001b[36mINFO\u001b[0m    | Flow run\u001b[35m 'burrowing-bull'\u001b[0m - Created task run 'train-59' for task 'train'\n"
      ]
     },
     "metadata": {},
     "output_type": "display_data"
    },
    {
     "data": {
      "text/html": [
       "<pre style=\"white-space:pre;overflow-x:auto;line-height:normal;font-family:Menlo,'DejaVu Sans Mono',consolas,'Courier New',monospace\">14:30:42.972 | <span style=\"color: #008080; text-decoration-color: #008080\">INFO</span>    | Flow run<span style=\"color: #800080; text-decoration-color: #800080\"> 'burrowing-bull'</span> - Executing 'train-59' immediately...\n",
       "</pre>\n"
      ],
      "text/plain": [
       "14:30:42.972 | \u001b[36mINFO\u001b[0m    | Flow run\u001b[35m 'burrowing-bull'\u001b[0m - Executing 'train-59' immediately...\n"
      ]
     },
     "metadata": {},
     "output_type": "display_data"
    },
    {
     "data": {
      "text/html": [
       "<pre style=\"white-space:pre;overflow-x:auto;line-height:normal;font-family:Menlo,'DejaVu Sans Mono',consolas,'Courier New',monospace\">14:30:46.804 | <span style=\"color: #008080; text-decoration-color: #008080\">INFO</span>    | Task run 'train-59' - Finished in state <span style=\"color: #008000; text-decoration-color: #008000\">Completed</span>()\n",
       "</pre>\n"
      ],
      "text/plain": [
       "14:30:46.804 | \u001b[36mINFO\u001b[0m    | Task run 'train-59' - Finished in state \u001b[32mCompleted\u001b[0m()\n"
      ]
     },
     "metadata": {},
     "output_type": "display_data"
    },
    {
     "name": "stderr",
     "output_type": "stream",
     "text": [
      "[I 2023-08-13 14:30:46,808] Trial 59 finished with value: 2338.060317997294 and parameters: {'n_estimators': 773, 'max_depth': 12, 'learning_rate': 0.0633722898880442, 'subsample': 0.5880789055679426, 'colsample_bytree': 0.8845571418252082, 'min_child_weight': 1, 'alpha': 0.019306170109018906, 'gamma': 0.008446914216114609, 'lambda': 0.07528266697964736}. Best is trial 42 with value: 2205.1704287889033.\n"
     ]
    },
    {
     "data": {
      "text/html": [
       "<pre style=\"white-space:pre;overflow-x:auto;line-height:normal;font-family:Menlo,'DejaVu Sans Mono',consolas,'Courier New',monospace\">14:30:46.907 | <span style=\"color: #008080; text-decoration-color: #008080\">INFO</span>    | Flow run<span style=\"color: #800080; text-decoration-color: #800080\"> 'burrowing-bull'</span> - Created task run 'train-60' for task 'train'\n",
       "</pre>\n"
      ],
      "text/plain": [
       "14:30:46.907 | \u001b[36mINFO\u001b[0m    | Flow run\u001b[35m 'burrowing-bull'\u001b[0m - Created task run 'train-60' for task 'train'\n"
      ]
     },
     "metadata": {},
     "output_type": "display_data"
    },
    {
     "data": {
      "text/html": [
       "<pre style=\"white-space:pre;overflow-x:auto;line-height:normal;font-family:Menlo,'DejaVu Sans Mono',consolas,'Courier New',monospace\">14:30:46.909 | <span style=\"color: #008080; text-decoration-color: #008080\">INFO</span>    | Flow run<span style=\"color: #800080; text-decoration-color: #800080\"> 'burrowing-bull'</span> - Executing 'train-60' immediately...\n",
       "</pre>\n"
      ],
      "text/plain": [
       "14:30:46.909 | \u001b[36mINFO\u001b[0m    | Flow run\u001b[35m 'burrowing-bull'\u001b[0m - Executing 'train-60' immediately...\n"
      ]
     },
     "metadata": {},
     "output_type": "display_data"
    },
    {
     "data": {
      "text/html": [
       "<pre style=\"white-space:pre;overflow-x:auto;line-height:normal;font-family:Menlo,'DejaVu Sans Mono',consolas,'Courier New',monospace\">14:30:51.229 | <span style=\"color: #008080; text-decoration-color: #008080\">INFO</span>    | Task run 'train-60' - Finished in state <span style=\"color: #008000; text-decoration-color: #008000\">Completed</span>()\n",
       "</pre>\n"
      ],
      "text/plain": [
       "14:30:51.229 | \u001b[36mINFO\u001b[0m    | Task run 'train-60' - Finished in state \u001b[32mCompleted\u001b[0m()\n"
      ]
     },
     "metadata": {},
     "output_type": "display_data"
    },
    {
     "name": "stderr",
     "output_type": "stream",
     "text": [
      "[I 2023-08-13 14:30:51,231] Trial 60 finished with value: 2252.2883943673887 and parameters: {'n_estimators': 918, 'max_depth': 14, 'learning_rate': 0.022195126027568905, 'subsample': 0.5403375002224415, 'colsample_bytree': 0.9351505537859971, 'min_child_weight': 7, 'alpha': 0.1354799585690002, 'gamma': 0.001257641215189367, 'lambda': 0.7266796304548688}. Best is trial 42 with value: 2205.1704287889033.\n"
     ]
    },
    {
     "data": {
      "text/html": [
       "<pre style=\"white-space:pre;overflow-x:auto;line-height:normal;font-family:Menlo,'DejaVu Sans Mono',consolas,'Courier New',monospace\">14:30:51.327 | <span style=\"color: #008080; text-decoration-color: #008080\">INFO</span>    | Flow run<span style=\"color: #800080; text-decoration-color: #800080\"> 'burrowing-bull'</span> - Created task run 'train-61' for task 'train'\n",
       "</pre>\n"
      ],
      "text/plain": [
       "14:30:51.327 | \u001b[36mINFO\u001b[0m    | Flow run\u001b[35m 'burrowing-bull'\u001b[0m - Created task run 'train-61' for task 'train'\n"
      ]
     },
     "metadata": {},
     "output_type": "display_data"
    },
    {
     "data": {
      "text/html": [
       "<pre style=\"white-space:pre;overflow-x:auto;line-height:normal;font-family:Menlo,'DejaVu Sans Mono',consolas,'Courier New',monospace\">14:30:51.329 | <span style=\"color: #008080; text-decoration-color: #008080\">INFO</span>    | Flow run<span style=\"color: #800080; text-decoration-color: #800080\"> 'burrowing-bull'</span> - Executing 'train-61' immediately...\n",
       "</pre>\n"
      ],
      "text/plain": [
       "14:30:51.329 | \u001b[36mINFO\u001b[0m    | Flow run\u001b[35m 'burrowing-bull'\u001b[0m - Executing 'train-61' immediately...\n"
      ]
     },
     "metadata": {},
     "output_type": "display_data"
    },
    {
     "data": {
      "text/html": [
       "<pre style=\"white-space:pre;overflow-x:auto;line-height:normal;font-family:Menlo,'DejaVu Sans Mono',consolas,'Courier New',monospace\">14:31:02.887 | <span style=\"color: #008080; text-decoration-color: #008080\">INFO</span>    | Task run 'train-61' - Finished in state <span style=\"color: #008000; text-decoration-color: #008000\">Completed</span>()\n",
       "</pre>\n"
      ],
      "text/plain": [
       "14:31:02.887 | \u001b[36mINFO\u001b[0m    | Task run 'train-61' - Finished in state \u001b[32mCompleted\u001b[0m()\n"
      ]
     },
     "metadata": {},
     "output_type": "display_data"
    },
    {
     "name": "stderr",
     "output_type": "stream",
     "text": [
      "[I 2023-08-13 14:31:02,890] Trial 61 finished with value: 2226.660821211096 and parameters: {'n_estimators': 761, 'max_depth': 10, 'learning_rate': 0.00838424796437273, 'subsample': 0.5692556957800542, 'colsample_bytree': 0.9417018350890477, 'min_child_weight': 7, 'alpha': 0.012601088555863935, 'gamma': 0.0025713490871821045, 'lambda': 0.14946251952523373}. Best is trial 42 with value: 2205.1704287889033.\n"
     ]
    },
    {
     "data": {
      "text/html": [
       "<pre style=\"white-space:pre;overflow-x:auto;line-height:normal;font-family:Menlo,'DejaVu Sans Mono',consolas,'Courier New',monospace\">14:31:02.985 | <span style=\"color: #008080; text-decoration-color: #008080\">INFO</span>    | Flow run<span style=\"color: #800080; text-decoration-color: #800080\"> 'burrowing-bull'</span> - Created task run 'train-62' for task 'train'\n",
       "</pre>\n"
      ],
      "text/plain": [
       "14:31:02.985 | \u001b[36mINFO\u001b[0m    | Flow run\u001b[35m 'burrowing-bull'\u001b[0m - Created task run 'train-62' for task 'train'\n"
      ]
     },
     "metadata": {},
     "output_type": "display_data"
    },
    {
     "data": {
      "text/html": [
       "<pre style=\"white-space:pre;overflow-x:auto;line-height:normal;font-family:Menlo,'DejaVu Sans Mono',consolas,'Courier New',monospace\">14:31:02.987 | <span style=\"color: #008080; text-decoration-color: #008080\">INFO</span>    | Flow run<span style=\"color: #800080; text-decoration-color: #800080\"> 'burrowing-bull'</span> - Executing 'train-62' immediately...\n",
       "</pre>\n"
      ],
      "text/plain": [
       "14:31:02.987 | \u001b[36mINFO\u001b[0m    | Flow run\u001b[35m 'burrowing-bull'\u001b[0m - Executing 'train-62' immediately...\n"
      ]
     },
     "metadata": {},
     "output_type": "display_data"
    },
    {
     "data": {
      "text/html": [
       "<pre style=\"white-space:pre;overflow-x:auto;line-height:normal;font-family:Menlo,'DejaVu Sans Mono',consolas,'Courier New',monospace\">14:31:12.469 | <span style=\"color: #008080; text-decoration-color: #008080\">INFO</span>    | Task run 'train-62' - Finished in state <span style=\"color: #008000; text-decoration-color: #008000\">Completed</span>()\n",
       "</pre>\n"
      ],
      "text/plain": [
       "14:31:12.469 | \u001b[36mINFO\u001b[0m    | Task run 'train-62' - Finished in state \u001b[32mCompleted\u001b[0m()\n"
      ]
     },
     "metadata": {},
     "output_type": "display_data"
    },
    {
     "name": "stderr",
     "output_type": "stream",
     "text": [
      "[I 2023-08-13 14:31:12,472] Trial 62 finished with value: 2224.649895339987 and parameters: {'n_estimators': 964, 'max_depth': 10, 'learning_rate': 0.011269469518600306, 'subsample': 0.5232670338758089, 'colsample_bytree': 0.9491882822665706, 'min_child_weight': 8, 'alpha': 0.025778351917639664, 'gamma': 0.002711503045844363, 'lambda': 0.1314764899994382}. Best is trial 42 with value: 2205.1704287889033.\n"
     ]
    },
    {
     "data": {
      "text/html": [
       "<pre style=\"white-space:pre;overflow-x:auto;line-height:normal;font-family:Menlo,'DejaVu Sans Mono',consolas,'Courier New',monospace\">14:31:12.588 | <span style=\"color: #008080; text-decoration-color: #008080\">INFO</span>    | Flow run<span style=\"color: #800080; text-decoration-color: #800080\"> 'burrowing-bull'</span> - Created task run 'train-63' for task 'train'\n",
       "</pre>\n"
      ],
      "text/plain": [
       "14:31:12.588 | \u001b[36mINFO\u001b[0m    | Flow run\u001b[35m 'burrowing-bull'\u001b[0m - Created task run 'train-63' for task 'train'\n"
      ]
     },
     "metadata": {},
     "output_type": "display_data"
    },
    {
     "data": {
      "text/html": [
       "<pre style=\"white-space:pre;overflow-x:auto;line-height:normal;font-family:Menlo,'DejaVu Sans Mono',consolas,'Courier New',monospace\">14:31:12.589 | <span style=\"color: #008080; text-decoration-color: #008080\">INFO</span>    | Flow run<span style=\"color: #800080; text-decoration-color: #800080\"> 'burrowing-bull'</span> - Executing 'train-63' immediately...\n",
       "</pre>\n"
      ],
      "text/plain": [
       "14:31:12.589 | \u001b[36mINFO\u001b[0m    | Flow run\u001b[35m 'burrowing-bull'\u001b[0m - Executing 'train-63' immediately...\n"
      ]
     },
     "metadata": {},
     "output_type": "display_data"
    },
    {
     "data": {
      "text/html": [
       "<pre style=\"white-space:pre;overflow-x:auto;line-height:normal;font-family:Menlo,'DejaVu Sans Mono',consolas,'Courier New',monospace\">14:31:21.374 | <span style=\"color: #008080; text-decoration-color: #008080\">INFO</span>    | Task run 'train-63' - Finished in state <span style=\"color: #008000; text-decoration-color: #008000\">Completed</span>()\n",
       "</pre>\n"
      ],
      "text/plain": [
       "14:31:21.374 | \u001b[36mINFO\u001b[0m    | Task run 'train-63' - Finished in state \u001b[32mCompleted\u001b[0m()\n"
      ]
     },
     "metadata": {},
     "output_type": "display_data"
    },
    {
     "name": "stderr",
     "output_type": "stream",
     "text": [
      "[I 2023-08-13 14:31:21,377] Trial 63 finished with value: 2235.6698325439784 and parameters: {'n_estimators': 816, 'max_depth': 10, 'learning_rate': 0.009649507651957939, 'subsample': 0.5227185994366634, 'colsample_bytree': 0.9820086179437539, 'min_child_weight': 8, 'alpha': 0.02803132597039243, 'gamma': 0.00529707270149535, 'lambda': 0.12133801848251664}. Best is trial 42 with value: 2205.1704287889033.\n"
     ]
    },
    {
     "data": {
      "text/html": [
       "<pre style=\"white-space:pre;overflow-x:auto;line-height:normal;font-family:Menlo,'DejaVu Sans Mono',consolas,'Courier New',monospace\">14:31:21.564 | <span style=\"color: #008080; text-decoration-color: #008080\">INFO</span>    | Flow run<span style=\"color: #800080; text-decoration-color: #800080\"> 'burrowing-bull'</span> - Created task run 'train-64' for task 'train'\n",
       "</pre>\n"
      ],
      "text/plain": [
       "14:31:21.564 | \u001b[36mINFO\u001b[0m    | Flow run\u001b[35m 'burrowing-bull'\u001b[0m - Created task run 'train-64' for task 'train'\n"
      ]
     },
     "metadata": {},
     "output_type": "display_data"
    },
    {
     "data": {
      "text/html": [
       "<pre style=\"white-space:pre;overflow-x:auto;line-height:normal;font-family:Menlo,'DejaVu Sans Mono',consolas,'Courier New',monospace\">14:31:21.566 | <span style=\"color: #008080; text-decoration-color: #008080\">INFO</span>    | Flow run<span style=\"color: #800080; text-decoration-color: #800080\"> 'burrowing-bull'</span> - Executing 'train-64' immediately...\n",
       "</pre>\n"
      ],
      "text/plain": [
       "14:31:21.566 | \u001b[36mINFO\u001b[0m    | Flow run\u001b[35m 'burrowing-bull'\u001b[0m - Executing 'train-64' immediately...\n"
      ]
     },
     "metadata": {},
     "output_type": "display_data"
    },
    {
     "data": {
      "text/html": [
       "<pre style=\"white-space:pre;overflow-x:auto;line-height:normal;font-family:Menlo,'DejaVu Sans Mono',consolas,'Courier New',monospace\">14:31:26.666 | <span style=\"color: #008080; text-decoration-color: #008080\">INFO</span>    | Task run 'train-64' - Finished in state <span style=\"color: #008000; text-decoration-color: #008000\">Completed</span>()\n",
       "</pre>\n"
      ],
      "text/plain": [
       "14:31:26.666 | \u001b[36mINFO\u001b[0m    | Task run 'train-64' - Finished in state \u001b[32mCompleted\u001b[0m()\n"
      ]
     },
     "metadata": {},
     "output_type": "display_data"
    },
    {
     "name": "stderr",
     "output_type": "stream",
     "text": [
      "[I 2023-08-13 14:31:26,670] Trial 64 finished with value: 63199.31316390393 and parameters: {'n_estimators': 643, 'max_depth': 10, 'learning_rate': 0.0011489952722684785, 'subsample': 0.5631883321498452, 'colsample_bytree': 0.9527375797449942, 'min_child_weight': 10, 'alpha': 0.04812333857084948, 'gamma': 0.011247212309611029, 'lambda': 0.37740649519796565}. Best is trial 42 with value: 2205.1704287889033.\n"
     ]
    },
    {
     "data": {
      "text/html": [
       "<pre style=\"white-space:pre;overflow-x:auto;line-height:normal;font-family:Menlo,'DejaVu Sans Mono',consolas,'Courier New',monospace\">14:31:26.771 | <span style=\"color: #008080; text-decoration-color: #008080\">INFO</span>    | Flow run<span style=\"color: #800080; text-decoration-color: #800080\"> 'burrowing-bull'</span> - Created task run 'train-65' for task 'train'\n",
       "</pre>\n"
      ],
      "text/plain": [
       "14:31:26.771 | \u001b[36mINFO\u001b[0m    | Flow run\u001b[35m 'burrowing-bull'\u001b[0m - Created task run 'train-65' for task 'train'\n"
      ]
     },
     "metadata": {},
     "output_type": "display_data"
    },
    {
     "data": {
      "text/html": [
       "<pre style=\"white-space:pre;overflow-x:auto;line-height:normal;font-family:Menlo,'DejaVu Sans Mono',consolas,'Courier New',monospace\">14:31:26.773 | <span style=\"color: #008080; text-decoration-color: #008080\">INFO</span>    | Flow run<span style=\"color: #800080; text-decoration-color: #800080\"> 'burrowing-bull'</span> - Executing 'train-65' immediately...\n",
       "</pre>\n"
      ],
      "text/plain": [
       "14:31:26.773 | \u001b[36mINFO\u001b[0m    | Flow run\u001b[35m 'burrowing-bull'\u001b[0m - Executing 'train-65' immediately...\n"
      ]
     },
     "metadata": {},
     "output_type": "display_data"
    },
    {
     "data": {
      "text/html": [
       "<pre style=\"white-space:pre;overflow-x:auto;line-height:normal;font-family:Menlo,'DejaVu Sans Mono',consolas,'Courier New',monospace\">14:31:30.863 | <span style=\"color: #008080; text-decoration-color: #008080\">INFO</span>    | Task run 'train-65' - Finished in state <span style=\"color: #008000; text-decoration-color: #008000\">Completed</span>()\n",
       "</pre>\n"
      ],
      "text/plain": [
       "14:31:30.863 | \u001b[36mINFO\u001b[0m    | Task run 'train-65' - Finished in state \u001b[32mCompleted\u001b[0m()\n"
      ]
     },
     "metadata": {},
     "output_type": "display_data"
    },
    {
     "name": "stderr",
     "output_type": "stream",
     "text": [
      "[I 2023-08-13 14:31:30,865] Trial 65 finished with value: 2304.238666060555 and parameters: {'n_estimators': 687, 'max_depth': 9, 'learning_rate': 0.02960188369845211, 'subsample': 0.605230552159423, 'colsample_bytree': 0.9049147170846287, 'min_child_weight': 9, 'alpha': 0.019529005838629637, 'gamma': 0.001752805528644993, 'lambda': 0.020727047996389834}. Best is trial 42 with value: 2205.1704287889033.\n"
     ]
    },
    {
     "data": {
      "text/html": [
       "<pre style=\"white-space:pre;overflow-x:auto;line-height:normal;font-family:Menlo,'DejaVu Sans Mono',consolas,'Courier New',monospace\">14:31:31.014 | <span style=\"color: #008080; text-decoration-color: #008080\">INFO</span>    | Flow run<span style=\"color: #800080; text-decoration-color: #800080\"> 'burrowing-bull'</span> - Created task run 'train-66' for task 'train'\n",
       "</pre>\n"
      ],
      "text/plain": [
       "14:31:31.014 | \u001b[36mINFO\u001b[0m    | Flow run\u001b[35m 'burrowing-bull'\u001b[0m - Created task run 'train-66' for task 'train'\n"
      ]
     },
     "metadata": {},
     "output_type": "display_data"
    },
    {
     "data": {
      "text/html": [
       "<pre style=\"white-space:pre;overflow-x:auto;line-height:normal;font-family:Menlo,'DejaVu Sans Mono',consolas,'Courier New',monospace\">14:31:31.016 | <span style=\"color: #008080; text-decoration-color: #008080\">INFO</span>    | Flow run<span style=\"color: #800080; text-decoration-color: #800080\"> 'burrowing-bull'</span> - Executing 'train-66' immediately...\n",
       "</pre>\n"
      ],
      "text/plain": [
       "14:31:31.016 | \u001b[36mINFO\u001b[0m    | Flow run\u001b[35m 'burrowing-bull'\u001b[0m - Executing 'train-66' immediately...\n"
      ]
     },
     "metadata": {},
     "output_type": "display_data"
    },
    {
     "data": {
      "text/html": [
       "<pre style=\"white-space:pre;overflow-x:auto;line-height:normal;font-family:Menlo,'DejaVu Sans Mono',consolas,'Courier New',monospace\">14:31:34.549 | <span style=\"color: #008080; text-decoration-color: #008080\">INFO</span>    | Task run 'train-66' - Finished in state <span style=\"color: #008000; text-decoration-color: #008000\">Completed</span>()\n",
       "</pre>\n"
      ],
      "text/plain": [
       "14:31:34.549 | \u001b[36mINFO\u001b[0m    | Task run 'train-66' - Finished in state \u001b[32mCompleted\u001b[0m()\n"
      ]
     },
     "metadata": {},
     "output_type": "display_data"
    },
    {
     "name": "stderr",
     "output_type": "stream",
     "text": [
      "[I 2023-08-13 14:31:34,553] Trial 66 finished with value: 2274.9527793048037 and parameters: {'n_estimators': 976, 'max_depth': 11, 'learning_rate': 0.03809128548775984, 'subsample': 0.5807617845401082, 'colsample_bytree': 0.9228777561801229, 'min_child_weight': 8, 'alpha': 0.005139792709176947, 'gamma': 0.004028233670259796, 'lambda': 0.044544661824324865}. Best is trial 42 with value: 2205.1704287889033.\n"
     ]
    },
    {
     "data": {
      "text/html": [
       "<pre style=\"white-space:pre;overflow-x:auto;line-height:normal;font-family:Menlo,'DejaVu Sans Mono',consolas,'Courier New',monospace\">14:31:34.664 | <span style=\"color: #008080; text-decoration-color: #008080\">INFO</span>    | Flow run<span style=\"color: #800080; text-decoration-color: #800080\"> 'burrowing-bull'</span> - Created task run 'train-67' for task 'train'\n",
       "</pre>\n"
      ],
      "text/plain": [
       "14:31:34.664 | \u001b[36mINFO\u001b[0m    | Flow run\u001b[35m 'burrowing-bull'\u001b[0m - Created task run 'train-67' for task 'train'\n"
      ]
     },
     "metadata": {},
     "output_type": "display_data"
    },
    {
     "data": {
      "text/html": [
       "<pre style=\"white-space:pre;overflow-x:auto;line-height:normal;font-family:Menlo,'DejaVu Sans Mono',consolas,'Courier New',monospace\">14:31:34.666 | <span style=\"color: #008080; text-decoration-color: #008080\">INFO</span>    | Flow run<span style=\"color: #800080; text-decoration-color: #800080\"> 'burrowing-bull'</span> - Executing 'train-67' immediately...\n",
       "</pre>\n"
      ],
      "text/plain": [
       "14:31:34.666 | \u001b[36mINFO\u001b[0m    | Flow run\u001b[35m 'burrowing-bull'\u001b[0m - Executing 'train-67' immediately...\n"
      ]
     },
     "metadata": {},
     "output_type": "display_data"
    },
    {
     "data": {
      "text/html": [
       "<pre style=\"white-space:pre;overflow-x:auto;line-height:normal;font-family:Menlo,'DejaVu Sans Mono',consolas,'Courier New',monospace\">14:31:38.162 | <span style=\"color: #008080; text-decoration-color: #008080\">INFO</span>    | Task run 'train-67' - Finished in state <span style=\"color: #008000; text-decoration-color: #008000\">Completed</span>()\n",
       "</pre>\n"
      ],
      "text/plain": [
       "14:31:38.162 | \u001b[36mINFO\u001b[0m    | Task run 'train-67' - Finished in state \u001b[32mCompleted\u001b[0m()\n"
      ]
     },
     "metadata": {},
     "output_type": "display_data"
    },
    {
     "name": "stderr",
     "output_type": "stream",
     "text": [
      "[I 2023-08-13 14:31:38,165] Trial 67 finished with value: 2287.4457216255078 and parameters: {'n_estimators': 851, 'max_depth': 12, 'learning_rate': 0.044965037935683155, 'subsample': 0.6541571353795903, 'colsample_bytree': 0.9616529242444087, 'min_child_weight': 6, 'alpha': 0.1754453465674592, 'gamma': 0.0070411920518702095, 'lambda': 0.06451650643596726}. Best is trial 42 with value: 2205.1704287889033.\n"
     ]
    },
    {
     "data": {
      "text/html": [
       "<pre style=\"white-space:pre;overflow-x:auto;line-height:normal;font-family:Menlo,'DejaVu Sans Mono',consolas,'Courier New',monospace\">14:31:38.271 | <span style=\"color: #008080; text-decoration-color: #008080\">INFO</span>    | Flow run<span style=\"color: #800080; text-decoration-color: #800080\"> 'burrowing-bull'</span> - Created task run 'train-68' for task 'train'\n",
       "</pre>\n"
      ],
      "text/plain": [
       "14:31:38.271 | \u001b[36mINFO\u001b[0m    | Flow run\u001b[35m 'burrowing-bull'\u001b[0m - Created task run 'train-68' for task 'train'\n"
      ]
     },
     "metadata": {},
     "output_type": "display_data"
    },
    {
     "data": {
      "text/html": [
       "<pre style=\"white-space:pre;overflow-x:auto;line-height:normal;font-family:Menlo,'DejaVu Sans Mono',consolas,'Courier New',monospace\">14:31:38.273 | <span style=\"color: #008080; text-decoration-color: #008080\">INFO</span>    | Flow run<span style=\"color: #800080; text-decoration-color: #800080\"> 'burrowing-bull'</span> - Executing 'train-68' immediately...\n",
       "</pre>\n"
      ],
      "text/plain": [
       "14:31:38.273 | \u001b[36mINFO\u001b[0m    | Flow run\u001b[35m 'burrowing-bull'\u001b[0m - Executing 'train-68' immediately...\n"
      ]
     },
     "metadata": {},
     "output_type": "display_data"
    },
    {
     "data": {
      "text/html": [
       "<pre style=\"white-space:pre;overflow-x:auto;line-height:normal;font-family:Menlo,'DejaVu Sans Mono',consolas,'Courier New',monospace\">14:31:48.494 | <span style=\"color: #008080; text-decoration-color: #008080\">INFO</span>    | Task run 'train-68' - Finished in state <span style=\"color: #008000; text-decoration-color: #008000\">Completed</span>()\n",
       "</pre>\n"
      ],
      "text/plain": [
       "14:31:48.494 | \u001b[36mINFO\u001b[0m    | Task run 'train-68' - Finished in state \u001b[32mCompleted\u001b[0m()\n"
      ]
     },
     "metadata": {},
     "output_type": "display_data"
    },
    {
     "name": "stderr",
     "output_type": "stream",
     "text": [
      "[I 2023-08-13 14:31:48,497] Trial 68 finished with value: 2220.8616014039244 and parameters: {'n_estimators': 893, 'max_depth': 10, 'learning_rate': 0.008302491358572589, 'subsample': 0.555001781856828, 'colsample_bytree': 0.9828576658223683, 'min_child_weight': 6, 'alpha': 0.05669414775702712, 'gamma': 0.002441036436009131, 'lambda': 0.249388327380583}. Best is trial 42 with value: 2205.1704287889033.\n"
     ]
    },
    {
     "data": {
      "text/html": [
       "<pre style=\"white-space:pre;overflow-x:auto;line-height:normal;font-family:Menlo,'DejaVu Sans Mono',consolas,'Courier New',monospace\">14:31:48.585 | <span style=\"color: #008080; text-decoration-color: #008080\">INFO</span>    | Flow run<span style=\"color: #800080; text-decoration-color: #800080\"> 'burrowing-bull'</span> - Created task run 'train-69' for task 'train'\n",
       "</pre>\n"
      ],
      "text/plain": [
       "14:31:48.585 | \u001b[36mINFO\u001b[0m    | Flow run\u001b[35m 'burrowing-bull'\u001b[0m - Created task run 'train-69' for task 'train'\n"
      ]
     },
     "metadata": {},
     "output_type": "display_data"
    },
    {
     "data": {
      "text/html": [
       "<pre style=\"white-space:pre;overflow-x:auto;line-height:normal;font-family:Menlo,'DejaVu Sans Mono',consolas,'Courier New',monospace\">14:31:48.587 | <span style=\"color: #008080; text-decoration-color: #008080\">INFO</span>    | Flow run<span style=\"color: #800080; text-decoration-color: #800080\"> 'burrowing-bull'</span> - Executing 'train-69' immediately...\n",
       "</pre>\n"
      ],
      "text/plain": [
       "14:31:48.587 | \u001b[36mINFO\u001b[0m    | Flow run\u001b[35m 'burrowing-bull'\u001b[0m - Executing 'train-69' immediately...\n"
      ]
     },
     "metadata": {},
     "output_type": "display_data"
    },
    {
     "data": {
      "text/html": [
       "<pre style=\"white-space:pre;overflow-x:auto;line-height:normal;font-family:Menlo,'DejaVu Sans Mono',consolas,'Courier New',monospace\">14:31:52.568 | <span style=\"color: #008080; text-decoration-color: #008080\">INFO</span>    | Task run 'train-69' - Finished in state <span style=\"color: #008000; text-decoration-color: #008000\">Completed</span>()\n",
       "</pre>\n"
      ],
      "text/plain": [
       "14:31:52.568 | \u001b[36mINFO\u001b[0m    | Task run 'train-69' - Finished in state \u001b[32mCompleted\u001b[0m()\n"
      ]
     },
     "metadata": {},
     "output_type": "display_data"
    },
    {
     "name": "stderr",
     "output_type": "stream",
     "text": [
      "[I 2023-08-13 14:31:52,571] Trial 69 finished with value: 2242.648427985453 and parameters: {'n_estimators': 894, 'max_depth': 13, 'learning_rate': 0.025432986867822437, 'subsample': 0.500832316733429, 'colsample_bytree': 0.980253832271761, 'min_child_weight': 5, 'alpha': 0.04813002454855001, 'gamma': 0.0008028988183106514, 'lambda': 0.2569713252409622}. Best is trial 42 with value: 2205.1704287889033.\n"
     ]
    },
    {
     "data": {
      "text/html": [
       "<pre style=\"white-space:pre;overflow-x:auto;line-height:normal;font-family:Menlo,'DejaVu Sans Mono',consolas,'Courier New',monospace\">14:31:52.660 | <span style=\"color: #008080; text-decoration-color: #008080\">INFO</span>    | Flow run<span style=\"color: #800080; text-decoration-color: #800080\"> 'burrowing-bull'</span> - Created task run 'train-70' for task 'train'\n",
       "</pre>\n"
      ],
      "text/plain": [
       "14:31:52.660 | \u001b[36mINFO\u001b[0m    | Flow run\u001b[35m 'burrowing-bull'\u001b[0m - Created task run 'train-70' for task 'train'\n"
      ]
     },
     "metadata": {},
     "output_type": "display_data"
    },
    {
     "data": {
      "text/html": [
       "<pre style=\"white-space:pre;overflow-x:auto;line-height:normal;font-family:Menlo,'DejaVu Sans Mono',consolas,'Courier New',monospace\">14:31:52.661 | <span style=\"color: #008080; text-decoration-color: #008080\">INFO</span>    | Flow run<span style=\"color: #800080; text-decoration-color: #800080\"> 'burrowing-bull'</span> - Executing 'train-70' immediately...\n",
       "</pre>\n"
      ],
      "text/plain": [
       "14:31:52.661 | \u001b[36mINFO\u001b[0m    | Flow run\u001b[35m 'burrowing-bull'\u001b[0m - Executing 'train-70' immediately...\n"
      ]
     },
     "metadata": {},
     "output_type": "display_data"
    },
    {
     "data": {
      "text/html": [
       "<pre style=\"white-space:pre;overflow-x:auto;line-height:normal;font-family:Menlo,'DejaVu Sans Mono',consolas,'Courier New',monospace\">14:31:54.505 | <span style=\"color: #008080; text-decoration-color: #008080\">INFO</span>    | Task run 'train-70' - Finished in state <span style=\"color: #008000; text-decoration-color: #008000\">Completed</span>()\n",
       "</pre>\n"
      ],
      "text/plain": [
       "14:31:54.505 | \u001b[36mINFO\u001b[0m    | Task run 'train-70' - Finished in state \u001b[32mCompleted\u001b[0m()\n"
      ]
     },
     "metadata": {},
     "output_type": "display_data"
    },
    {
     "name": "stderr",
     "output_type": "stream",
     "text": [
      "[I 2023-08-13 14:31:54,508] Trial 70 finished with value: 2263.95449932341 and parameters: {'n_estimators': 966, 'max_depth': 7, 'learning_rate': 0.05466761111385622, 'subsample': 0.520015576151324, 'colsample_bytree': 0.9603535079859308, 'min_child_weight': 6, 'alpha': 0.027993829072677008, 'gamma': 0.009053700723207691, 'lambda': 0.5151647827715188}. Best is trial 42 with value: 2205.1704287889033.\n"
     ]
    },
    {
     "data": {
      "text/html": [
       "<pre style=\"white-space:pre;overflow-x:auto;line-height:normal;font-family:Menlo,'DejaVu Sans Mono',consolas,'Courier New',monospace\">14:31:54.614 | <span style=\"color: #008080; text-decoration-color: #008080\">INFO</span>    | Flow run<span style=\"color: #800080; text-decoration-color: #800080\"> 'burrowing-bull'</span> - Created task run 'train-71' for task 'train'\n",
       "</pre>\n"
      ],
      "text/plain": [
       "14:31:54.614 | \u001b[36mINFO\u001b[0m    | Flow run\u001b[35m 'burrowing-bull'\u001b[0m - Created task run 'train-71' for task 'train'\n"
      ]
     },
     "metadata": {},
     "output_type": "display_data"
    },
    {
     "data": {
      "text/html": [
       "<pre style=\"white-space:pre;overflow-x:auto;line-height:normal;font-family:Menlo,'DejaVu Sans Mono',consolas,'Courier New',monospace\">14:31:54.616 | <span style=\"color: #008080; text-decoration-color: #008080\">INFO</span>    | Flow run<span style=\"color: #800080; text-decoration-color: #800080\"> 'burrowing-bull'</span> - Executing 'train-71' immediately...\n",
       "</pre>\n"
      ],
      "text/plain": [
       "14:31:54.616 | \u001b[36mINFO\u001b[0m    | Flow run\u001b[35m 'burrowing-bull'\u001b[0m - Executing 'train-71' immediately...\n"
      ]
     },
     "metadata": {},
     "output_type": "display_data"
    },
    {
     "data": {
      "text/html": [
       "<pre style=\"white-space:pre;overflow-x:auto;line-height:normal;font-family:Menlo,'DejaVu Sans Mono',consolas,'Courier New',monospace\">14:32:03.529 | <span style=\"color: #008080; text-decoration-color: #008080\">INFO</span>    | Task run 'train-71' - Finished in state <span style=\"color: #008000; text-decoration-color: #008000\">Completed</span>()\n",
       "</pre>\n"
      ],
      "text/plain": [
       "14:32:03.529 | \u001b[36mINFO\u001b[0m    | Task run 'train-71' - Finished in state \u001b[32mCompleted\u001b[0m()\n"
      ]
     },
     "metadata": {},
     "output_type": "display_data"
    },
    {
     "name": "stderr",
     "output_type": "stream",
     "text": [
      "[I 2023-08-13 14:32:03,533] Trial 71 finished with value: 2212.661706063938 and parameters: {'n_estimators': 781, 'max_depth': 10, 'learning_rate': 0.010413566651329014, 'subsample': 0.5510267312833338, 'colsample_bytree': 0.9457708008216857, 'min_child_weight': 6, 'alpha': 0.012979445183140443, 'gamma': 0.0025585907073069447, 'lambda': 0.11238900660401424}. Best is trial 42 with value: 2205.1704287889033.\n"
     ]
    },
    {
     "data": {
      "text/html": [
       "<pre style=\"white-space:pre;overflow-x:auto;line-height:normal;font-family:Menlo,'DejaVu Sans Mono',consolas,'Courier New',monospace\">14:32:03.656 | <span style=\"color: #008080; text-decoration-color: #008080\">INFO</span>    | Flow run<span style=\"color: #800080; text-decoration-color: #800080\"> 'burrowing-bull'</span> - Created task run 'train-72' for task 'train'\n",
       "</pre>\n"
      ],
      "text/plain": [
       "14:32:03.656 | \u001b[36mINFO\u001b[0m    | Flow run\u001b[35m 'burrowing-bull'\u001b[0m - Created task run 'train-72' for task 'train'\n"
      ]
     },
     "metadata": {},
     "output_type": "display_data"
    },
    {
     "data": {
      "text/html": [
       "<pre style=\"white-space:pre;overflow-x:auto;line-height:normal;font-family:Menlo,'DejaVu Sans Mono',consolas,'Courier New',monospace\">14:32:03.658 | <span style=\"color: #008080; text-decoration-color: #008080\">INFO</span>    | Flow run<span style=\"color: #800080; text-decoration-color: #800080\"> 'burrowing-bull'</span> - Executing 'train-72' immediately...\n",
       "</pre>\n"
      ],
      "text/plain": [
       "14:32:03.658 | \u001b[36mINFO\u001b[0m    | Flow run\u001b[35m 'burrowing-bull'\u001b[0m - Executing 'train-72' immediately...\n"
      ]
     },
     "metadata": {},
     "output_type": "display_data"
    },
    {
     "data": {
      "text/html": [
       "<pre style=\"white-space:pre;overflow-x:auto;line-height:normal;font-family:Menlo,'DejaVu Sans Mono',consolas,'Courier New',monospace\">14:32:12.482 | <span style=\"color: #008080; text-decoration-color: #008080\">INFO</span>    | Task run 'train-72' - Finished in state <span style=\"color: #008000; text-decoration-color: #008000\">Completed</span>()\n",
       "</pre>\n"
      ],
      "text/plain": [
       "14:32:12.482 | \u001b[36mINFO\u001b[0m    | Task run 'train-72' - Finished in state \u001b[32mCompleted\u001b[0m()\n"
      ]
     },
     "metadata": {},
     "output_type": "display_data"
    },
    {
     "name": "stderr",
     "output_type": "stream",
     "text": [
      "[I 2023-08-13 14:32:12,485] Trial 72 finished with value: 2206.828814276049 and parameters: {'n_estimators': 804, 'max_depth': 9, 'learning_rate': 0.00896342675976005, 'subsample': 0.5501403077388074, 'colsample_bytree': 0.9798581578071396, 'min_child_weight': 6, 'alpha': 0.06670970235534675, 'gamma': 0.0013650669468725234, 'lambda': 0.09905507633976805}. Best is trial 42 with value: 2205.1704287889033.\n"
     ]
    },
    {
     "data": {
      "text/html": [
       "<pre style=\"white-space:pre;overflow-x:auto;line-height:normal;font-family:Menlo,'DejaVu Sans Mono',consolas,'Courier New',monospace\">14:32:12.585 | <span style=\"color: #008080; text-decoration-color: #008080\">INFO</span>    | Flow run<span style=\"color: #800080; text-decoration-color: #800080\"> 'burrowing-bull'</span> - Created task run 'train-73' for task 'train'\n",
       "</pre>\n"
      ],
      "text/plain": [
       "14:32:12.585 | \u001b[36mINFO\u001b[0m    | Flow run\u001b[35m 'burrowing-bull'\u001b[0m - Created task run 'train-73' for task 'train'\n"
      ]
     },
     "metadata": {},
     "output_type": "display_data"
    },
    {
     "data": {
      "text/html": [
       "<pre style=\"white-space:pre;overflow-x:auto;line-height:normal;font-family:Menlo,'DejaVu Sans Mono',consolas,'Courier New',monospace\">14:32:12.587 | <span style=\"color: #008080; text-decoration-color: #008080\">INFO</span>    | Flow run<span style=\"color: #800080; text-decoration-color: #800080\"> 'burrowing-bull'</span> - Executing 'train-73' immediately...\n",
       "</pre>\n"
      ],
      "text/plain": [
       "14:32:12.587 | \u001b[36mINFO\u001b[0m    | Flow run\u001b[35m 'burrowing-bull'\u001b[0m - Executing 'train-73' immediately...\n"
      ]
     },
     "metadata": {},
     "output_type": "display_data"
    },
    {
     "data": {
      "text/html": [
       "<pre style=\"white-space:pre;overflow-x:auto;line-height:normal;font-family:Menlo,'DejaVu Sans Mono',consolas,'Courier New',monospace\">14:32:18.089 | <span style=\"color: #008080; text-decoration-color: #008080\">INFO</span>    | Task run 'train-73' - Finished in state <span style=\"color: #008000; text-decoration-color: #008000\">Completed</span>()\n",
       "</pre>\n"
      ],
      "text/plain": [
       "14:32:18.089 | \u001b[36mINFO\u001b[0m    | Task run 'train-73' - Finished in state \u001b[32mCompleted\u001b[0m()\n"
      ]
     },
     "metadata": {},
     "output_type": "display_data"
    },
    {
     "name": "stderr",
     "output_type": "stream",
     "text": [
      "[I 2023-08-13 14:32:18,092] Trial 73 finished with value: 2226.646029262517 and parameters: {'n_estimators': 803, 'max_depth': 9, 'learning_rate': 0.022574297018433543, 'subsample': 0.5548681223828835, 'colsample_bytree': 0.9826762685913019, 'min_child_weight': 5, 'alpha': 0.08202137548064807, 'gamma': 0.0012239671148910757, 'lambda': 0.09360219559777541}. Best is trial 42 with value: 2205.1704287889033.\n"
     ]
    },
    {
     "data": {
      "text/html": [
       "<pre style=\"white-space:pre;overflow-x:auto;line-height:normal;font-family:Menlo,'DejaVu Sans Mono',consolas,'Courier New',monospace\">14:32:18.188 | <span style=\"color: #008080; text-decoration-color: #008080\">INFO</span>    | Flow run<span style=\"color: #800080; text-decoration-color: #800080\"> 'burrowing-bull'</span> - Created task run 'train-74' for task 'train'\n",
       "</pre>\n"
      ],
      "text/plain": [
       "14:32:18.188 | \u001b[36mINFO\u001b[0m    | Flow run\u001b[35m 'burrowing-bull'\u001b[0m - Created task run 'train-74' for task 'train'\n"
      ]
     },
     "metadata": {},
     "output_type": "display_data"
    },
    {
     "data": {
      "text/html": [
       "<pre style=\"white-space:pre;overflow-x:auto;line-height:normal;font-family:Menlo,'DejaVu Sans Mono',consolas,'Courier New',monospace\">14:32:18.190 | <span style=\"color: #008080; text-decoration-color: #008080\">INFO</span>    | Flow run<span style=\"color: #800080; text-decoration-color: #800080\"> 'burrowing-bull'</span> - Executing 'train-74' immediately...\n",
       "</pre>\n"
      ],
      "text/plain": [
       "14:32:18.190 | \u001b[36mINFO\u001b[0m    | Flow run\u001b[35m 'burrowing-bull'\u001b[0m - Executing 'train-74' immediately...\n"
      ]
     },
     "metadata": {},
     "output_type": "display_data"
    },
    {
     "data": {
      "text/html": [
       "<pre style=\"white-space:pre;overflow-x:auto;line-height:normal;font-family:Menlo,'DejaVu Sans Mono',consolas,'Courier New',monospace\">14:32:22.212 | <span style=\"color: #008080; text-decoration-color: #008080\">INFO</span>    | Task run 'train-74' - Finished in state <span style=\"color: #008000; text-decoration-color: #008000\">Completed</span>()\n",
       "</pre>\n"
      ],
      "text/plain": [
       "14:32:22.212 | \u001b[36mINFO\u001b[0m    | Task run 'train-74' - Finished in state \u001b[32mCompleted\u001b[0m()\n"
      ]
     },
     "metadata": {},
     "output_type": "display_data"
    },
    {
     "name": "stderr",
     "output_type": "stream",
     "text": [
      "[I 2023-08-13 14:32:22,215] Trial 74 finished with value: 2237.0979438007444 and parameters: {'n_estimators': 855, 'max_depth': 11, 'learning_rate': 0.033006537632009225, 'subsample': 0.6219990285240541, 'colsample_bytree': 0.9890465123661902, 'min_child_weight': 6, 'alpha': 0.06669507174763821, 'gamma': 0.001953045088002877, 'lambda': 0.0605328144951277}. Best is trial 42 with value: 2205.1704287889033.\n"
     ]
    },
    {
     "data": {
      "text/html": [
       "<pre style=\"white-space:pre;overflow-x:auto;line-height:normal;font-family:Menlo,'DejaVu Sans Mono',consolas,'Courier New',monospace\">14:32:22.317 | <span style=\"color: #008080; text-decoration-color: #008080\">INFO</span>    | Flow run<span style=\"color: #800080; text-decoration-color: #800080\"> 'burrowing-bull'</span> - Created task run 'train-75' for task 'train'\n",
       "</pre>\n"
      ],
      "text/plain": [
       "14:32:22.317 | \u001b[36mINFO\u001b[0m    | Flow run\u001b[35m 'burrowing-bull'\u001b[0m - Created task run 'train-75' for task 'train'\n"
      ]
     },
     "metadata": {},
     "output_type": "display_data"
    },
    {
     "data": {
      "text/html": [
       "<pre style=\"white-space:pre;overflow-x:auto;line-height:normal;font-family:Menlo,'DejaVu Sans Mono',consolas,'Courier New',monospace\">14:32:22.319 | <span style=\"color: #008080; text-decoration-color: #008080\">INFO</span>    | Flow run<span style=\"color: #800080; text-decoration-color: #800080\"> 'burrowing-bull'</span> - Executing 'train-75' immediately...\n",
       "</pre>\n"
      ],
      "text/plain": [
       "14:32:22.319 | \u001b[36mINFO\u001b[0m    | Flow run\u001b[35m 'burrowing-bull'\u001b[0m - Executing 'train-75' immediately...\n"
      ]
     },
     "metadata": {},
     "output_type": "display_data"
    },
    {
     "data": {
      "text/html": [
       "<pre style=\"white-space:pre;overflow-x:auto;line-height:normal;font-family:Menlo,'DejaVu Sans Mono',consolas,'Courier New',monospace\">14:32:31.444 | <span style=\"color: #008080; text-decoration-color: #008080\">INFO</span>    | Task run 'train-75' - Finished in state <span style=\"color: #008000; text-decoration-color: #008000\">Completed</span>()\n",
       "</pre>\n"
      ],
      "text/plain": [
       "14:32:31.444 | \u001b[36mINFO\u001b[0m    | Task run 'train-75' - Finished in state \u001b[32mCompleted\u001b[0m()\n"
      ]
     },
     "metadata": {},
     "output_type": "display_data"
    },
    {
     "name": "stderr",
     "output_type": "stream",
     "text": [
      "[I 2023-08-13 14:32:31,447] Trial 75 finished with value: 2217.9260444857914 and parameters: {'n_estimators': 796, 'max_depth': 9, 'learning_rate': 0.009378006840834667, 'subsample': 0.6003669580185245, 'colsample_bytree': 0.9239908725982262, 'min_child_weight': 6, 'alpha': 0.04288093224614002, 'gamma': 0.004248440306153266, 'lambda': 0.22389874118298567}. Best is trial 42 with value: 2205.1704287889033.\n"
     ]
    },
    {
     "data": {
      "text/html": [
       "<pre style=\"white-space:pre;overflow-x:auto;line-height:normal;font-family:Menlo,'DejaVu Sans Mono',consolas,'Courier New',monospace\">14:32:31.636 | <span style=\"color: #008080; text-decoration-color: #008080\">INFO</span>    | Flow run<span style=\"color: #800080; text-decoration-color: #800080\"> 'burrowing-bull'</span> - Created task run 'train-76' for task 'train'\n",
       "</pre>\n"
      ],
      "text/plain": [
       "14:32:31.636 | \u001b[36mINFO\u001b[0m    | Flow run\u001b[35m 'burrowing-bull'\u001b[0m - Created task run 'train-76' for task 'train'\n"
      ]
     },
     "metadata": {},
     "output_type": "display_data"
    },
    {
     "data": {
      "text/html": [
       "<pre style=\"white-space:pre;overflow-x:auto;line-height:normal;font-family:Menlo,'DejaVu Sans Mono',consolas,'Courier New',monospace\">14:32:31.638 | <span style=\"color: #008080; text-decoration-color: #008080\">INFO</span>    | Flow run<span style=\"color: #800080; text-decoration-color: #800080\"> 'burrowing-bull'</span> - Executing 'train-76' immediately...\n",
       "</pre>\n"
      ],
      "text/plain": [
       "14:32:31.638 | \u001b[36mINFO\u001b[0m    | Flow run\u001b[35m 'burrowing-bull'\u001b[0m - Executing 'train-76' immediately...\n"
      ]
     },
     "metadata": {},
     "output_type": "display_data"
    },
    {
     "data": {
      "text/html": [
       "<pre style=\"white-space:pre;overflow-x:auto;line-height:normal;font-family:Menlo,'DejaVu Sans Mono',consolas,'Courier New',monospace\">14:32:39.234 | <span style=\"color: #008080; text-decoration-color: #008080\">INFO</span>    | Task run 'train-76' - Finished in state <span style=\"color: #008000; text-decoration-color: #008000\">Completed</span>()\n",
       "</pre>\n"
      ],
      "text/plain": [
       "14:32:39.234 | \u001b[36mINFO\u001b[0m    | Task run 'train-76' - Finished in state \u001b[32mCompleted\u001b[0m()\n"
      ]
     },
     "metadata": {},
     "output_type": "display_data"
    },
    {
     "name": "stderr",
     "output_type": "stream",
     "text": [
      "[I 2023-08-13 14:32:39,237] Trial 76 finished with value: 2249.0220684624496 and parameters: {'n_estimators': 746, 'max_depth': 9, 'learning_rate': 0.008876756203310932, 'subsample': 0.5445381957240988, 'colsample_bytree': 0.9229431756743954, 'min_child_weight': 6, 'alpha': 0.03655851685046046, 'gamma': 0.003831080429455466, 'lambda': 0.9743882019776515}. Best is trial 42 with value: 2205.1704287889033.\n"
     ]
    },
    {
     "data": {
      "text/html": [
       "<pre style=\"white-space:pre;overflow-x:auto;line-height:normal;font-family:Menlo,'DejaVu Sans Mono',consolas,'Courier New',monospace\">14:32:39.338 | <span style=\"color: #008080; text-decoration-color: #008080\">INFO</span>    | Flow run<span style=\"color: #800080; text-decoration-color: #800080\"> 'burrowing-bull'</span> - Created task run 'train-77' for task 'train'\n",
       "</pre>\n"
      ],
      "text/plain": [
       "14:32:39.338 | \u001b[36mINFO\u001b[0m    | Flow run\u001b[35m 'burrowing-bull'\u001b[0m - Created task run 'train-77' for task 'train'\n"
      ]
     },
     "metadata": {},
     "output_type": "display_data"
    },
    {
     "data": {
      "text/html": [
       "<pre style=\"white-space:pre;overflow-x:auto;line-height:normal;font-family:Menlo,'DejaVu Sans Mono',consolas,'Courier New',monospace\">14:32:39.340 | <span style=\"color: #008080; text-decoration-color: #008080\">INFO</span>    | Flow run<span style=\"color: #800080; text-decoration-color: #800080\"> 'burrowing-bull'</span> - Executing 'train-77' immediately...\n",
       "</pre>\n"
      ],
      "text/plain": [
       "14:32:39.340 | \u001b[36mINFO\u001b[0m    | Flow run\u001b[35m 'burrowing-bull'\u001b[0m - Executing 'train-77' immediately...\n"
      ]
     },
     "metadata": {},
     "output_type": "display_data"
    },
    {
     "data": {
      "text/html": [
       "<pre style=\"white-space:pre;overflow-x:auto;line-height:normal;font-family:Menlo,'DejaVu Sans Mono',consolas,'Courier New',monospace\">14:32:45.686 | <span style=\"color: #008080; text-decoration-color: #008080\">INFO</span>    | Task run 'train-77' - Finished in state <span style=\"color: #008000; text-decoration-color: #008000\">Completed</span>()\n",
       "</pre>\n"
      ],
      "text/plain": [
       "14:32:45.686 | \u001b[36mINFO\u001b[0m    | Task run 'train-77' - Finished in state \u001b[32mCompleted\u001b[0m()\n"
      ]
     },
     "metadata": {},
     "output_type": "display_data"
    },
    {
     "name": "stderr",
     "output_type": "stream",
     "text": [
      "[I 2023-08-13 14:32:45,689] Trial 77 finished with value: 56327.060562732586 and parameters: {'n_estimators': 827, 'max_depth': 8, 'learning_rate': 0.001031599394364745, 'subsample': 0.5963529683596208, 'colsample_bytree': 0.9998515779932544, 'min_child_weight': 6, 'alpha': 0.1795610097643928, 'gamma': 0.0013052296159789287, 'lambda': 0.3854566786508748}. Best is trial 42 with value: 2205.1704287889033.\n"
     ]
    },
    {
     "data": {
      "text/html": [
       "<pre style=\"white-space:pre;overflow-x:auto;line-height:normal;font-family:Menlo,'DejaVu Sans Mono',consolas,'Courier New',monospace\">14:32:45.776 | <span style=\"color: #008080; text-decoration-color: #008080\">INFO</span>    | Flow run<span style=\"color: #800080; text-decoration-color: #800080\"> 'burrowing-bull'</span> - Created task run 'train-78' for task 'train'\n",
       "</pre>\n"
      ],
      "text/plain": [
       "14:32:45.776 | \u001b[36mINFO\u001b[0m    | Flow run\u001b[35m 'burrowing-bull'\u001b[0m - Created task run 'train-78' for task 'train'\n"
      ]
     },
     "metadata": {},
     "output_type": "display_data"
    },
    {
     "data": {
      "text/html": [
       "<pre style=\"white-space:pre;overflow-x:auto;line-height:normal;font-family:Menlo,'DejaVu Sans Mono',consolas,'Courier New',monospace\">14:32:45.778 | <span style=\"color: #008080; text-decoration-color: #008080\">INFO</span>    | Flow run<span style=\"color: #800080; text-decoration-color: #800080\"> 'burrowing-bull'</span> - Executing 'train-78' immediately...\n",
       "</pre>\n"
      ],
      "text/plain": [
       "14:32:45.778 | \u001b[36mINFO\u001b[0m    | Flow run\u001b[35m 'burrowing-bull'\u001b[0m - Executing 'train-78' immediately...\n"
      ]
     },
     "metadata": {},
     "output_type": "display_data"
    },
    {
     "data": {
      "text/html": [
       "<pre style=\"white-space:pre;overflow-x:auto;line-height:normal;font-family:Menlo,'DejaVu Sans Mono',consolas,'Courier New',monospace\">14:32:51.036 | <span style=\"color: #008080; text-decoration-color: #008080\">INFO</span>    | Task run 'train-78' - Finished in state <span style=\"color: #008000; text-decoration-color: #008000\">Completed</span>()\n",
       "</pre>\n"
      ],
      "text/plain": [
       "14:32:51.036 | \u001b[36mINFO\u001b[0m    | Task run 'train-78' - Finished in state \u001b[32mCompleted\u001b[0m()\n"
      ]
     },
     "metadata": {},
     "output_type": "display_data"
    },
    {
     "name": "stderr",
     "output_type": "stream",
     "text": [
      "[I 2023-08-13 14:32:51,038] Trial 78 finished with value: 2211.378622927943 and parameters: {'n_estimators': 794, 'max_depth': 9, 'learning_rate': 0.01728509722792548, 'subsample': 0.5594392190225168, 'colsample_bytree': 0.9656780405150099, 'min_child_weight': 5, 'alpha': 0.051515946508351486, 'gamma': 0.0005644648715178265, 'lambda': 0.23253140156206226}. Best is trial 42 with value: 2205.1704287889033.\n"
     ]
    },
    {
     "data": {
      "text/html": [
       "<pre style=\"white-space:pre;overflow-x:auto;line-height:normal;font-family:Menlo,'DejaVu Sans Mono',consolas,'Courier New',monospace\">14:32:51.137 | <span style=\"color: #008080; text-decoration-color: #008080\">INFO</span>    | Flow run<span style=\"color: #800080; text-decoration-color: #800080\"> 'burrowing-bull'</span> - Created task run 'train-79' for task 'train'\n",
       "</pre>\n"
      ],
      "text/plain": [
       "14:32:51.137 | \u001b[36mINFO\u001b[0m    | Flow run\u001b[35m 'burrowing-bull'\u001b[0m - Created task run 'train-79' for task 'train'\n"
      ]
     },
     "metadata": {},
     "output_type": "display_data"
    },
    {
     "data": {
      "text/html": [
       "<pre style=\"white-space:pre;overflow-x:auto;line-height:normal;font-family:Menlo,'DejaVu Sans Mono',consolas,'Courier New',monospace\">14:32:51.139 | <span style=\"color: #008080; text-decoration-color: #008080\">INFO</span>    | Flow run<span style=\"color: #800080; text-decoration-color: #800080\"> 'burrowing-bull'</span> - Executing 'train-79' immediately...\n",
       "</pre>\n"
      ],
      "text/plain": [
       "14:32:51.139 | \u001b[36mINFO\u001b[0m    | Flow run\u001b[35m 'burrowing-bull'\u001b[0m - Executing 'train-79' immediately...\n"
      ]
     },
     "metadata": {},
     "output_type": "display_data"
    },
    {
     "data": {
      "text/html": [
       "<pre style=\"white-space:pre;overflow-x:auto;line-height:normal;font-family:Menlo,'DejaVu Sans Mono',consolas,'Courier New',monospace\">14:32:56.055 | <span style=\"color: #008080; text-decoration-color: #008080\">INFO</span>    | Task run 'train-79' - Finished in state <span style=\"color: #008000; text-decoration-color: #008000\">Completed</span>()\n",
       "</pre>\n"
      ],
      "text/plain": [
       "14:32:56.055 | \u001b[36mINFO\u001b[0m    | Task run 'train-79' - Finished in state \u001b[32mCompleted\u001b[0m()\n"
      ]
     },
     "metadata": {},
     "output_type": "display_data"
    },
    {
     "name": "stderr",
     "output_type": "stream",
     "text": [
      "[I 2023-08-13 14:32:56,058] Trial 79 finished with value: 2244.8695513362654 and parameters: {'n_estimators': 708, 'max_depth': 9, 'learning_rate': 0.018334420303896162, 'subsample': 0.5783406521662521, 'colsample_bytree': 0.9658057267850529, 'min_child_weight': 5, 'alpha': 0.018315289989204852, 'gamma': 0.000609423602389657, 'lambda': 1.2946329118288138}. Best is trial 42 with value: 2205.1704287889033.\n"
     ]
    },
    {
     "data": {
      "text/html": [
       "<pre style=\"white-space:pre;overflow-x:auto;line-height:normal;font-family:Menlo,'DejaVu Sans Mono',consolas,'Courier New',monospace\">14:32:56.222 | <span style=\"color: #008080; text-decoration-color: #008080\">INFO</span>    | Flow run<span style=\"color: #800080; text-decoration-color: #800080\"> 'burrowing-bull'</span> - Created task run 'train-80' for task 'train'\n",
       "</pre>\n"
      ],
      "text/plain": [
       "14:32:56.222 | \u001b[36mINFO\u001b[0m    | Flow run\u001b[35m 'burrowing-bull'\u001b[0m - Created task run 'train-80' for task 'train'\n"
      ]
     },
     "metadata": {},
     "output_type": "display_data"
    },
    {
     "data": {
      "text/html": [
       "<pre style=\"white-space:pre;overflow-x:auto;line-height:normal;font-family:Menlo,'DejaVu Sans Mono',consolas,'Courier New',monospace\">14:32:56.224 | <span style=\"color: #008080; text-decoration-color: #008080\">INFO</span>    | Flow run<span style=\"color: #800080; text-decoration-color: #800080\"> 'burrowing-bull'</span> - Executing 'train-80' immediately...\n",
       "</pre>\n"
      ],
      "text/plain": [
       "14:32:56.224 | \u001b[36mINFO\u001b[0m    | Flow run\u001b[35m 'burrowing-bull'\u001b[0m - Executing 'train-80' immediately...\n"
      ]
     },
     "metadata": {},
     "output_type": "display_data"
    },
    {
     "data": {
      "text/html": [
       "<pre style=\"white-space:pre;overflow-x:auto;line-height:normal;font-family:Menlo,'DejaVu Sans Mono',consolas,'Courier New',monospace\">14:32:59.047 | <span style=\"color: #008080; text-decoration-color: #008080\">INFO</span>    | Task run 'train-80' - Finished in state <span style=\"color: #008000; text-decoration-color: #008000\">Completed</span>()\n",
       "</pre>\n"
      ],
      "text/plain": [
       "14:32:59.047 | \u001b[36mINFO\u001b[0m    | Task run 'train-80' - Finished in state \u001b[32mCompleted\u001b[0m()\n"
      ]
     },
     "metadata": {},
     "output_type": "display_data"
    },
    {
     "name": "stderr",
     "output_type": "stream",
     "text": [
      "[I 2023-08-13 14:32:59,050] Trial 80 finished with value: 2291.4691696972263 and parameters: {'n_estimators': 788, 'max_depth': 8, 'learning_rate': 0.043165875203667645, 'subsample': 0.5366098541376001, 'colsample_bytree': 0.9075451822439562, 'min_child_weight': 4, 'alpha': 0.04192280720999836, 'gamma': 0.0004596368592057795, 'lambda': 0.19788019419983036}. Best is trial 42 with value: 2205.1704287889033.\n"
     ]
    },
    {
     "data": {
      "text/html": [
       "<pre style=\"white-space:pre;overflow-x:auto;line-height:normal;font-family:Menlo,'DejaVu Sans Mono',consolas,'Courier New',monospace\">14:32:59.219 | <span style=\"color: #008080; text-decoration-color: #008080\">INFO</span>    | Flow run<span style=\"color: #800080; text-decoration-color: #800080\"> 'burrowing-bull'</span> - Created task run 'train-81' for task 'train'\n",
       "</pre>\n"
      ],
      "text/plain": [
       "14:32:59.219 | \u001b[36mINFO\u001b[0m    | Flow run\u001b[35m 'burrowing-bull'\u001b[0m - Created task run 'train-81' for task 'train'\n"
      ]
     },
     "metadata": {},
     "output_type": "display_data"
    },
    {
     "data": {
      "text/html": [
       "<pre style=\"white-space:pre;overflow-x:auto;line-height:normal;font-family:Menlo,'DejaVu Sans Mono',consolas,'Courier New',monospace\">14:32:59.221 | <span style=\"color: #008080; text-decoration-color: #008080\">INFO</span>    | Flow run<span style=\"color: #800080; text-decoration-color: #800080\"> 'burrowing-bull'</span> - Executing 'train-81' immediately...\n",
       "</pre>\n"
      ],
      "text/plain": [
       "14:32:59.221 | \u001b[36mINFO\u001b[0m    | Flow run\u001b[35m 'burrowing-bull'\u001b[0m - Executing 'train-81' immediately...\n"
      ]
     },
     "metadata": {},
     "output_type": "display_data"
    },
    {
     "data": {
      "text/html": [
       "<pre style=\"white-space:pre;overflow-x:auto;line-height:normal;font-family:Menlo,'DejaVu Sans Mono',consolas,'Courier New',monospace\">14:33:02.988 | <span style=\"color: #008080; text-decoration-color: #008080\">INFO</span>    | Task run 'train-81' - Finished in state <span style=\"color: #008000; text-decoration-color: #008000\">Completed</span>()\n",
       "</pre>\n"
      ],
      "text/plain": [
       "14:33:02.988 | \u001b[36mINFO\u001b[0m    | Task run 'train-81' - Finished in state \u001b[32mCompleted\u001b[0m()\n"
      ]
     },
     "metadata": {},
     "output_type": "display_data"
    },
    {
     "name": "stderr",
     "output_type": "stream",
     "text": [
      "[I 2023-08-13 14:33:02,990] Trial 81 finished with value: 2225.3292572310556 and parameters: {'n_estimators': 885, 'max_depth': 10, 'learning_rate': 0.029283360794720152, 'subsample': 0.5603162527059685, 'colsample_bytree': 0.9282782919783237, 'min_child_weight': 6, 'alpha': 0.060999353547955354, 'gamma': 0.002054854648616675, 'lambda': 0.1876310918740653}. Best is trial 42 with value: 2205.1704287889033.\n"
     ]
    },
    {
     "data": {
      "text/html": [
       "<pre style=\"white-space:pre;overflow-x:auto;line-height:normal;font-family:Menlo,'DejaVu Sans Mono',consolas,'Courier New',monospace\">14:33:03.082 | <span style=\"color: #008080; text-decoration-color: #008080\">INFO</span>    | Flow run<span style=\"color: #800080; text-decoration-color: #800080\"> 'burrowing-bull'</span> - Created task run 'train-82' for task 'train'\n",
       "</pre>\n"
      ],
      "text/plain": [
       "14:33:03.082 | \u001b[36mINFO\u001b[0m    | Flow run\u001b[35m 'burrowing-bull'\u001b[0m - Created task run 'train-82' for task 'train'\n"
      ]
     },
     "metadata": {},
     "output_type": "display_data"
    },
    {
     "data": {
      "text/html": [
       "<pre style=\"white-space:pre;overflow-x:auto;line-height:normal;font-family:Menlo,'DejaVu Sans Mono',consolas,'Courier New',monospace\">14:33:03.084 | <span style=\"color: #008080; text-decoration-color: #008080\">INFO</span>    | Flow run<span style=\"color: #800080; text-decoration-color: #800080\"> 'burrowing-bull'</span> - Executing 'train-82' immediately...\n",
       "</pre>\n"
      ],
      "text/plain": [
       "14:33:03.084 | \u001b[36mINFO\u001b[0m    | Flow run\u001b[35m 'burrowing-bull'\u001b[0m - Executing 'train-82' immediately...\n"
      ]
     },
     "metadata": {},
     "output_type": "display_data"
    },
    {
     "data": {
      "text/html": [
       "<pre style=\"white-space:pre;overflow-x:auto;line-height:normal;font-family:Menlo,'DejaVu Sans Mono',consolas,'Courier New',monospace\">14:33:11.863 | <span style=\"color: #008080; text-decoration-color: #008080\">INFO</span>    | Task run 'train-82' - Finished in state <span style=\"color: #008000; text-decoration-color: #008000\">Completed</span>()\n",
       "</pre>\n"
      ],
      "text/plain": [
       "14:33:11.863 | \u001b[36mINFO\u001b[0m    | Task run 'train-82' - Finished in state \u001b[32mCompleted\u001b[0m()\n"
      ]
     },
     "metadata": {},
     "output_type": "display_data"
    },
    {
     "name": "stderr",
     "output_type": "stream",
     "text": [
      "[I 2023-08-13 14:33:11,867] Trial 82 finished with value: 2235.2287582459403 and parameters: {'n_estimators': 842, 'max_depth': 9, 'learning_rate': 0.008926770929529537, 'subsample': 0.5565671730444628, 'colsample_bytree': 0.9692432547791899, 'min_child_weight': 7, 'alpha': 0.10522575318465079, 'gamma': 0.0008224254273403483, 'lambda': 0.3733121044003667}. Best is trial 42 with value: 2205.1704287889033.\n"
     ]
    },
    {
     "data": {
      "text/html": [
       "<pre style=\"white-space:pre;overflow-x:auto;line-height:normal;font-family:Menlo,'DejaVu Sans Mono',consolas,'Courier New',monospace\">14:33:12.042 | <span style=\"color: #008080; text-decoration-color: #008080\">INFO</span>    | Flow run<span style=\"color: #800080; text-decoration-color: #800080\"> 'burrowing-bull'</span> - Created task run 'train-83' for task 'train'\n",
       "</pre>\n"
      ],
      "text/plain": [
       "14:33:12.042 | \u001b[36mINFO\u001b[0m    | Flow run\u001b[35m 'burrowing-bull'\u001b[0m - Created task run 'train-83' for task 'train'\n"
      ]
     },
     "metadata": {},
     "output_type": "display_data"
    },
    {
     "data": {
      "text/html": [
       "<pre style=\"white-space:pre;overflow-x:auto;line-height:normal;font-family:Menlo,'DejaVu Sans Mono',consolas,'Courier New',monospace\">14:33:12.044 | <span style=\"color: #008080; text-decoration-color: #008080\">INFO</span>    | Flow run<span style=\"color: #800080; text-decoration-color: #800080\"> 'burrowing-bull'</span> - Executing 'train-83' immediately...\n",
       "</pre>\n"
      ],
      "text/plain": [
       "14:33:12.044 | \u001b[36mINFO\u001b[0m    | Flow run\u001b[35m 'burrowing-bull'\u001b[0m - Executing 'train-83' immediately...\n"
      ]
     },
     "metadata": {},
     "output_type": "display_data"
    },
    {
     "data": {
      "text/html": [
       "<pre style=\"white-space:pre;overflow-x:auto;line-height:normal;font-family:Menlo,'DejaVu Sans Mono',consolas,'Courier New',monospace\">14:33:16.848 | <span style=\"color: #008080; text-decoration-color: #008080\">INFO</span>    | Task run 'train-83' - Finished in state <span style=\"color: #008000; text-decoration-color: #008000\">Completed</span>()\n",
       "</pre>\n"
      ],
      "text/plain": [
       "14:33:16.848 | \u001b[36mINFO\u001b[0m    | Task run 'train-83' - Finished in state \u001b[32mCompleted\u001b[0m()\n"
      ]
     },
     "metadata": {},
     "output_type": "display_data"
    },
    {
     "name": "stderr",
     "output_type": "stream",
     "text": [
      "[I 2023-08-13 14:33:16,851] Trial 83 finished with value: 2219.147164665088 and parameters: {'n_estimators': 799, 'max_depth': 10, 'learning_rate': 0.01880288838694371, 'subsample': 0.5831859277062613, 'colsample_bytree': 0.9433645095416793, 'min_child_weight': 6, 'alpha': 0.011732586278326346, 'gamma': 0.004649719028401801, 'lambda': 0.2571334535317073}. Best is trial 42 with value: 2205.1704287889033.\n"
     ]
    },
    {
     "data": {
      "text/html": [
       "<pre style=\"white-space:pre;overflow-x:auto;line-height:normal;font-family:Menlo,'DejaVu Sans Mono',consolas,'Courier New',monospace\">14:33:17.165 | <span style=\"color: #008080; text-decoration-color: #008080\">INFO</span>    | Flow run<span style=\"color: #800080; text-decoration-color: #800080\"> 'burrowing-bull'</span> - Created task run 'train-84' for task 'train'\n",
       "</pre>\n"
      ],
      "text/plain": [
       "14:33:17.165 | \u001b[36mINFO\u001b[0m    | Flow run\u001b[35m 'burrowing-bull'\u001b[0m - Created task run 'train-84' for task 'train'\n"
      ]
     },
     "metadata": {},
     "output_type": "display_data"
    },
    {
     "data": {
      "text/html": [
       "<pre style=\"white-space:pre;overflow-x:auto;line-height:normal;font-family:Menlo,'DejaVu Sans Mono',consolas,'Courier New',monospace\">14:33:17.166 | <span style=\"color: #008080; text-decoration-color: #008080\">INFO</span>    | Flow run<span style=\"color: #800080; text-decoration-color: #800080\"> 'burrowing-bull'</span> - Executing 'train-84' immediately...\n",
       "</pre>\n"
      ],
      "text/plain": [
       "14:33:17.166 | \u001b[36mINFO\u001b[0m    | Flow run\u001b[35m 'burrowing-bull'\u001b[0m - Executing 'train-84' immediately...\n"
      ]
     },
     "metadata": {},
     "output_type": "display_data"
    },
    {
     "data": {
      "text/html": [
       "<pre style=\"white-space:pre;overflow-x:auto;line-height:normal;font-family:Menlo,'DejaVu Sans Mono',consolas,'Courier New',monospace\">14:33:22.627 | <span style=\"color: #008080; text-decoration-color: #008080\">INFO</span>    | Task run 'train-84' - Finished in state <span style=\"color: #008000; text-decoration-color: #008000\">Completed</span>()\n",
       "</pre>\n"
      ],
      "text/plain": [
       "14:33:22.627 | \u001b[36mINFO\u001b[0m    | Task run 'train-84' - Finished in state \u001b[32mCompleted\u001b[0m()\n"
      ]
     },
     "metadata": {},
     "output_type": "display_data"
    },
    {
     "name": "stderr",
     "output_type": "stream",
     "text": [
      "[I 2023-08-13 14:33:22,630] Trial 84 finished with value: 2210.5348454414748 and parameters: {'n_estimators': 738, 'max_depth': 11, 'learning_rate': 0.020142217003754757, 'subsample': 0.6074863779328548, 'colsample_bytree': 0.9448203819347218, 'min_child_weight': 5, 'alpha': 0.009522101572976905, 'gamma': 0.004416080586800697, 'lambda': 0.11072240610796433}. Best is trial 42 with value: 2205.1704287889033.\n"
     ]
    },
    {
     "data": {
      "text/html": [
       "<pre style=\"white-space:pre;overflow-x:auto;line-height:normal;font-family:Menlo,'DejaVu Sans Mono',consolas,'Courier New',monospace\">14:33:22.717 | <span style=\"color: #008080; text-decoration-color: #008080\">INFO</span>    | Flow run<span style=\"color: #800080; text-decoration-color: #800080\"> 'burrowing-bull'</span> - Created task run 'train-85' for task 'train'\n",
       "</pre>\n"
      ],
      "text/plain": [
       "14:33:22.717 | \u001b[36mINFO\u001b[0m    | Flow run\u001b[35m 'burrowing-bull'\u001b[0m - Created task run 'train-85' for task 'train'\n"
      ]
     },
     "metadata": {},
     "output_type": "display_data"
    },
    {
     "data": {
      "text/html": [
       "<pre style=\"white-space:pre;overflow-x:auto;line-height:normal;font-family:Menlo,'DejaVu Sans Mono',consolas,'Courier New',monospace\">14:33:22.719 | <span style=\"color: #008080; text-decoration-color: #008080\">INFO</span>    | Flow run<span style=\"color: #800080; text-decoration-color: #800080\"> 'burrowing-bull'</span> - Executing 'train-85' immediately...\n",
       "</pre>\n"
      ],
      "text/plain": [
       "14:33:22.719 | \u001b[36mINFO\u001b[0m    | Flow run\u001b[35m 'burrowing-bull'\u001b[0m - Executing 'train-85' immediately...\n"
      ]
     },
     "metadata": {},
     "output_type": "display_data"
    },
    {
     "data": {
      "text/html": [
       "<pre style=\"white-space:pre;overflow-x:auto;line-height:normal;font-family:Menlo,'DejaVu Sans Mono',consolas,'Courier New',monospace\">14:33:27.896 | <span style=\"color: #008080; text-decoration-color: #008080\">INFO</span>    | Task run 'train-85' - Finished in state <span style=\"color: #008000; text-decoration-color: #008000\">Completed</span>()\n",
       "</pre>\n"
      ],
      "text/plain": [
       "14:33:27.896 | \u001b[36mINFO\u001b[0m    | Task run 'train-85' - Finished in state \u001b[32mCompleted\u001b[0m()\n"
      ]
     },
     "metadata": {},
     "output_type": "display_data"
    },
    {
     "name": "stderr",
     "output_type": "stream",
     "text": [
      "[I 2023-08-13 14:33:27,899] Trial 85 finished with value: 2261.3816020382274 and parameters: {'n_estimators': 763, 'max_depth': 11, 'learning_rate': 0.02299033254394595, 'subsample': 0.6074623448330038, 'colsample_bytree': 0.9228344787713569, 'min_child_weight': 5, 'alpha': 0.008343248287676512, 'gamma': 0.0012763169783082905, 'lambda': 0.1057463202923564}. Best is trial 42 with value: 2205.1704287889033.\n"
     ]
    },
    {
     "data": {
      "text/html": [
       "<pre style=\"white-space:pre;overflow-x:auto;line-height:normal;font-family:Menlo,'DejaVu Sans Mono',consolas,'Courier New',monospace\">14:33:27.986 | <span style=\"color: #008080; text-decoration-color: #008080\">INFO</span>    | Flow run<span style=\"color: #800080; text-decoration-color: #800080\"> 'burrowing-bull'</span> - Created task run 'train-86' for task 'train'\n",
       "</pre>\n"
      ],
      "text/plain": [
       "14:33:27.986 | \u001b[36mINFO\u001b[0m    | Flow run\u001b[35m 'burrowing-bull'\u001b[0m - Created task run 'train-86' for task 'train'\n"
      ]
     },
     "metadata": {},
     "output_type": "display_data"
    },
    {
     "data": {
      "text/html": [
       "<pre style=\"white-space:pre;overflow-x:auto;line-height:normal;font-family:Menlo,'DejaVu Sans Mono',consolas,'Courier New',monospace\">14:33:27.988 | <span style=\"color: #008080; text-decoration-color: #008080\">INFO</span>    | Flow run<span style=\"color: #800080; text-decoration-color: #800080\"> 'burrowing-bull'</span> - Executing 'train-86' immediately...\n",
       "</pre>\n"
      ],
      "text/plain": [
       "14:33:27.988 | \u001b[36mINFO\u001b[0m    | Flow run\u001b[35m 'burrowing-bull'\u001b[0m - Executing 'train-86' immediately...\n"
      ]
     },
     "metadata": {},
     "output_type": "display_data"
    },
    {
     "data": {
      "text/html": [
       "<pre style=\"white-space:pre;overflow-x:auto;line-height:normal;font-family:Menlo,'DejaVu Sans Mono',consolas,'Courier New',monospace\">14:33:30.744 | <span style=\"color: #008080; text-decoration-color: #008080\">INFO</span>    | Task run 'train-86' - Finished in state <span style=\"color: #008000; text-decoration-color: #008000\">Completed</span>()\n",
       "</pre>\n"
      ],
      "text/plain": [
       "14:33:30.744 | \u001b[36mINFO\u001b[0m    | Task run 'train-86' - Finished in state \u001b[32mCompleted\u001b[0m()\n"
      ]
     },
     "metadata": {},
     "output_type": "display_data"
    },
    {
     "name": "stderr",
     "output_type": "stream",
     "text": [
      "[I 2023-08-13 14:33:30,747] Trial 86 finished with value: 2254.8073240866033 and parameters: {'n_estimators': 736, 'max_depth': 7, 'learning_rate': 0.03307603058398444, 'subsample': 0.5154156197175129, 'colsample_bytree': 0.9558989605922479, 'min_child_weight': 5, 'alpha': 0.0147574055927999, 'gamma': 0.0034727237283603734, 'lambda': 0.08024616960538347}. Best is trial 42 with value: 2205.1704287889033.\n"
     ]
    },
    {
     "data": {
      "text/html": [
       "<pre style=\"white-space:pre;overflow-x:auto;line-height:normal;font-family:Menlo,'DejaVu Sans Mono',consolas,'Courier New',monospace\">14:33:30.862 | <span style=\"color: #008080; text-decoration-color: #008080\">INFO</span>    | Flow run<span style=\"color: #800080; text-decoration-color: #800080\"> 'burrowing-bull'</span> - Created task run 'train-87' for task 'train'\n",
       "</pre>\n"
      ],
      "text/plain": [
       "14:33:30.862 | \u001b[36mINFO\u001b[0m    | Flow run\u001b[35m 'burrowing-bull'\u001b[0m - Created task run 'train-87' for task 'train'\n"
      ]
     },
     "metadata": {},
     "output_type": "display_data"
    },
    {
     "data": {
      "text/html": [
       "<pre style=\"white-space:pre;overflow-x:auto;line-height:normal;font-family:Menlo,'DejaVu Sans Mono',consolas,'Courier New',monospace\">14:33:30.863 | <span style=\"color: #008080; text-decoration-color: #008080\">INFO</span>    | Flow run<span style=\"color: #800080; text-decoration-color: #800080\"> 'burrowing-bull'</span> - Executing 'train-87' immediately...\n",
       "</pre>\n"
      ],
      "text/plain": [
       "14:33:30.863 | \u001b[36mINFO\u001b[0m    | Flow run\u001b[35m 'burrowing-bull'\u001b[0m - Executing 'train-87' immediately...\n"
      ]
     },
     "metadata": {},
     "output_type": "display_data"
    },
    {
     "data": {
      "text/html": [
       "<pre style=\"white-space:pre;overflow-x:auto;line-height:normal;font-family:Menlo,'DejaVu Sans Mono',consolas,'Courier New',monospace\">14:33:40.252 | <span style=\"color: #008080; text-decoration-color: #008080\">INFO</span>    | Task run 'train-87' - Finished in state <span style=\"color: #008000; text-decoration-color: #008000\">Completed</span>()\n",
       "</pre>\n"
      ],
      "text/plain": [
       "14:33:40.252 | \u001b[36mINFO\u001b[0m    | Task run 'train-87' - Finished in state \u001b[32mCompleted\u001b[0m()\n"
      ]
     },
     "metadata": {},
     "output_type": "display_data"
    },
    {
     "name": "stderr",
     "output_type": "stream",
     "text": [
      "[I 2023-08-13 14:33:40,255] Trial 87 finished with value: 2220.8759651979026 and parameters: {'n_estimators': 662, 'max_depth': 11, 'learning_rate': 0.016417399007447587, 'subsample': 0.5951460290241216, 'colsample_bytree': 0.9358390972529715, 'min_child_weight': 3, 'alpha': 0.0071751058164822865, 'gamma': 0.0064279710123695925, 'lambda': 0.11705871437762516}. Best is trial 42 with value: 2205.1704287889033.\n"
     ]
    },
    {
     "data": {
      "text/html": [
       "<pre style=\"white-space:pre;overflow-x:auto;line-height:normal;font-family:Menlo,'DejaVu Sans Mono',consolas,'Courier New',monospace\">14:33:40.362 | <span style=\"color: #008080; text-decoration-color: #008080\">INFO</span>    | Flow run<span style=\"color: #800080; text-decoration-color: #800080\"> 'burrowing-bull'</span> - Created task run 'train-88' for task 'train'\n",
       "</pre>\n"
      ],
      "text/plain": [
       "14:33:40.362 | \u001b[36mINFO\u001b[0m    | Flow run\u001b[35m 'burrowing-bull'\u001b[0m - Created task run 'train-88' for task 'train'\n"
      ]
     },
     "metadata": {},
     "output_type": "display_data"
    },
    {
     "data": {
      "text/html": [
       "<pre style=\"white-space:pre;overflow-x:auto;line-height:normal;font-family:Menlo,'DejaVu Sans Mono',consolas,'Courier New',monospace\">14:33:40.364 | <span style=\"color: #008080; text-decoration-color: #008080\">INFO</span>    | Flow run<span style=\"color: #800080; text-decoration-color: #800080\"> 'burrowing-bull'</span> - Executing 'train-88' immediately...\n",
       "</pre>\n"
      ],
      "text/plain": [
       "14:33:40.364 | \u001b[36mINFO\u001b[0m    | Flow run\u001b[35m 'burrowing-bull'\u001b[0m - Executing 'train-88' immediately...\n"
      ]
     },
     "metadata": {},
     "output_type": "display_data"
    },
    {
     "data": {
      "text/html": [
       "<pre style=\"white-space:pre;overflow-x:auto;line-height:normal;font-family:Menlo,'DejaVu Sans Mono',consolas,'Courier New',monospace\">14:33:44.714 | <span style=\"color: #008080; text-decoration-color: #008080\">INFO</span>    | Task run 'train-88' - Finished in state <span style=\"color: #008000; text-decoration-color: #008000\">Completed</span>()\n",
       "</pre>\n"
      ],
      "text/plain": [
       "14:33:44.714 | \u001b[36mINFO\u001b[0m    | Task run 'train-88' - Finished in state \u001b[32mCompleted\u001b[0m()\n"
      ]
     },
     "metadata": {},
     "output_type": "display_data"
    },
    {
     "name": "stderr",
     "output_type": "stream",
     "text": [
      "[I 2023-08-13 14:33:44,718] Trial 88 finished with value: 2280.8058799898513 and parameters: {'n_estimators': 694, 'max_depth': 8, 'learning_rate': 0.0398571796111364, 'subsample': 0.544318555454251, 'colsample_bytree': 0.9004383299380248, 'min_child_weight': 4, 'alpha': 0.010761650603214927, 'gamma': 0.0015697537827326874, 'lambda': 0.04953027240454612}. Best is trial 42 with value: 2205.1704287889033.\n"
     ]
    },
    {
     "data": {
      "text/html": [
       "<pre style=\"white-space:pre;overflow-x:auto;line-height:normal;font-family:Menlo,'DejaVu Sans Mono',consolas,'Courier New',monospace\">14:33:44.856 | <span style=\"color: #008080; text-decoration-color: #008080\">INFO</span>    | Flow run<span style=\"color: #800080; text-decoration-color: #800080\"> 'burrowing-bull'</span> - Created task run 'train-89' for task 'train'\n",
       "</pre>\n"
      ],
      "text/plain": [
       "14:33:44.856 | \u001b[36mINFO\u001b[0m    | Flow run\u001b[35m 'burrowing-bull'\u001b[0m - Created task run 'train-89' for task 'train'\n"
      ]
     },
     "metadata": {},
     "output_type": "display_data"
    },
    {
     "data": {
      "text/html": [
       "<pre style=\"white-space:pre;overflow-x:auto;line-height:normal;font-family:Menlo,'DejaVu Sans Mono',consolas,'Courier New',monospace\">14:33:44.857 | <span style=\"color: #008080; text-decoration-color: #008080\">INFO</span>    | Flow run<span style=\"color: #800080; text-decoration-color: #800080\"> 'burrowing-bull'</span> - Executing 'train-89' immediately...\n",
       "</pre>\n"
      ],
      "text/plain": [
       "14:33:44.857 | \u001b[36mINFO\u001b[0m    | Flow run\u001b[35m 'burrowing-bull'\u001b[0m - Executing 'train-89' immediately...\n"
      ]
     },
     "metadata": {},
     "output_type": "display_data"
    },
    {
     "data": {
      "text/html": [
       "<pre style=\"white-space:pre;overflow-x:auto;line-height:normal;font-family:Menlo,'DejaVu Sans Mono',consolas,'Courier New',monospace\">14:33:48.880 | <span style=\"color: #008080; text-decoration-color: #008080\">INFO</span>    | Task run 'train-89' - Finished in state <span style=\"color: #008000; text-decoration-color: #008000\">Completed</span>()\n",
       "</pre>\n"
      ],
      "text/plain": [
       "14:33:48.880 | \u001b[36mINFO\u001b[0m    | Task run 'train-89' - Finished in state \u001b[32mCompleted\u001b[0m()\n"
      ]
     },
     "metadata": {},
     "output_type": "display_data"
    },
    {
     "name": "stderr",
     "output_type": "stream",
     "text": [
      "[I 2023-08-13 14:33:48,883] Trial 89 finished with value: 2243.221806283829 and parameters: {'n_estimators': 857, 'max_depth': 9, 'learning_rate': 0.02772217827929463, 'subsample': 0.5748345786994775, 'colsample_bytree': 0.8731826662595935, 'min_child_weight': 5, 'alpha': 0.02265296561555506, 'gamma': 0.0009456262290831373, 'lambda': 0.5809557608691457}. Best is trial 42 with value: 2205.1704287889033.\n"
     ]
    },
    {
     "data": {
      "text/html": [
       "<pre style=\"white-space:pre;overflow-x:auto;line-height:normal;font-family:Menlo,'DejaVu Sans Mono',consolas,'Courier New',monospace\">14:33:49.073 | <span style=\"color: #008080; text-decoration-color: #008080\">INFO</span>    | Flow run<span style=\"color: #800080; text-decoration-color: #800080\"> 'burrowing-bull'</span> - Created task run 'train-90' for task 'train'\n",
       "</pre>\n"
      ],
      "text/plain": [
       "14:33:49.073 | \u001b[36mINFO\u001b[0m    | Flow run\u001b[35m 'burrowing-bull'\u001b[0m - Created task run 'train-90' for task 'train'\n"
      ]
     },
     "metadata": {},
     "output_type": "display_data"
    },
    {
     "data": {
      "text/html": [
       "<pre style=\"white-space:pre;overflow-x:auto;line-height:normal;font-family:Menlo,'DejaVu Sans Mono',consolas,'Courier New',monospace\">14:33:49.074 | <span style=\"color: #008080; text-decoration-color: #008080\">INFO</span>    | Flow run<span style=\"color: #800080; text-decoration-color: #800080\"> 'burrowing-bull'</span> - Executing 'train-90' immediately...\n",
       "</pre>\n"
      ],
      "text/plain": [
       "14:33:49.074 | \u001b[36mINFO\u001b[0m    | Flow run\u001b[35m 'burrowing-bull'\u001b[0m - Executing 'train-90' immediately...\n"
      ]
     },
     "metadata": {},
     "output_type": "display_data"
    },
    {
     "data": {
      "text/html": [
       "<pre style=\"white-space:pre;overflow-x:auto;line-height:normal;font-family:Menlo,'DejaVu Sans Mono',consolas,'Courier New',monospace\">14:33:51.592 | <span style=\"color: #008080; text-decoration-color: #008080\">INFO</span>    | Task run 'train-90' - Finished in state <span style=\"color: #008000; text-decoration-color: #008000\">Completed</span>()\n",
       "</pre>\n"
      ],
      "text/plain": [
       "14:33:51.592 | \u001b[36mINFO\u001b[0m    | Task run 'train-90' - Finished in state \u001b[32mCompleted\u001b[0m()\n"
      ]
     },
     "metadata": {},
     "output_type": "display_data"
    },
    {
     "name": "stderr",
     "output_type": "stream",
     "text": [
      "[I 2023-08-13 14:33:51,594] Trial 90 finished with value: 2285.047619248985 and parameters: {'n_estimators': 254, 'max_depth': 8, 'learning_rate': 0.04690114129533923, 'subsample': 0.5314511591373523, 'colsample_bytree': 0.891568445538161, 'min_child_weight': 7, 'alpha': 0.0365053697926682, 'gamma': 0.0003084039464469666, 'lambda': 0.15154776707798062}. Best is trial 42 with value: 2205.1704287889033.\n"
     ]
    },
    {
     "data": {
      "text/html": [
       "<pre style=\"white-space:pre;overflow-x:auto;line-height:normal;font-family:Menlo,'DejaVu Sans Mono',consolas,'Courier New',monospace\">14:33:51.695 | <span style=\"color: #008080; text-decoration-color: #008080\">INFO</span>    | Flow run<span style=\"color: #800080; text-decoration-color: #800080\"> 'burrowing-bull'</span> - Created task run 'train-91' for task 'train'\n",
       "</pre>\n"
      ],
      "text/plain": [
       "14:33:51.695 | \u001b[36mINFO\u001b[0m    | Flow run\u001b[35m 'burrowing-bull'\u001b[0m - Created task run 'train-91' for task 'train'\n"
      ]
     },
     "metadata": {},
     "output_type": "display_data"
    },
    {
     "data": {
      "text/html": [
       "<pre style=\"white-space:pre;overflow-x:auto;line-height:normal;font-family:Menlo,'DejaVu Sans Mono',consolas,'Courier New',monospace\">14:33:51.696 | <span style=\"color: #008080; text-decoration-color: #008080\">INFO</span>    | Flow run<span style=\"color: #800080; text-decoration-color: #800080\"> 'burrowing-bull'</span> - Executing 'train-91' immediately...\n",
       "</pre>\n"
      ],
      "text/plain": [
       "14:33:51.696 | \u001b[36mINFO\u001b[0m    | Flow run\u001b[35m 'burrowing-bull'\u001b[0m - Executing 'train-91' immediately...\n"
      ]
     },
     "metadata": {},
     "output_type": "display_data"
    },
    {
     "data": {
      "text/html": [
       "<pre style=\"white-space:pre;overflow-x:auto;line-height:normal;font-family:Menlo,'DejaVu Sans Mono',consolas,'Courier New',monospace\">14:33:59.386 | <span style=\"color: #008080; text-decoration-color: #008080\">INFO</span>    | Task run 'train-91' - Finished in state <span style=\"color: #008000; text-decoration-color: #008000\">Completed</span>()\n",
       "</pre>\n"
      ],
      "text/plain": [
       "14:33:59.386 | \u001b[36mINFO\u001b[0m    | Task run 'train-91' - Finished in state \u001b[32mCompleted\u001b[0m()\n"
      ]
     },
     "metadata": {},
     "output_type": "display_data"
    },
    {
     "name": "stderr",
     "output_type": "stream",
     "text": [
      "[I 2023-08-13 14:33:59,388] Trial 91 finished with value: 2232.6659844384308 and parameters: {'n_estimators': 802, 'max_depth': 10, 'learning_rate': 0.012991407570116825, 'subsample': 0.5846705636235098, 'colsample_bytree': 0.9404927960168769, 'min_child_weight': 6, 'alpha': 0.010924197373718055, 'gamma': 0.004942345797998822, 'lambda': 0.288186786012981}. Best is trial 42 with value: 2205.1704287889033.\n"
     ]
    },
    {
     "data": {
      "text/html": [
       "<pre style=\"white-space:pre;overflow-x:auto;line-height:normal;font-family:Menlo,'DejaVu Sans Mono',consolas,'Courier New',monospace\">14:33:59.569 | <span style=\"color: #008080; text-decoration-color: #008080\">INFO</span>    | Flow run<span style=\"color: #800080; text-decoration-color: #800080\"> 'burrowing-bull'</span> - Created task run 'train-92' for task 'train'\n",
       "</pre>\n"
      ],
      "text/plain": [
       "14:33:59.569 | \u001b[36mINFO\u001b[0m    | Flow run\u001b[35m 'burrowing-bull'\u001b[0m - Created task run 'train-92' for task 'train'\n"
      ]
     },
     "metadata": {},
     "output_type": "display_data"
    },
    {
     "data": {
      "text/html": [
       "<pre style=\"white-space:pre;overflow-x:auto;line-height:normal;font-family:Menlo,'DejaVu Sans Mono',consolas,'Courier New',monospace\">14:33:59.571 | <span style=\"color: #008080; text-decoration-color: #008080\">INFO</span>    | Flow run<span style=\"color: #800080; text-decoration-color: #800080\"> 'burrowing-bull'</span> - Executing 'train-92' immediately...\n",
       "</pre>\n"
      ],
      "text/plain": [
       "14:33:59.571 | \u001b[36mINFO\u001b[0m    | Flow run\u001b[35m 'burrowing-bull'\u001b[0m - Executing 'train-92' immediately...\n"
      ]
     },
     "metadata": {},
     "output_type": "display_data"
    },
    {
     "data": {
      "text/html": [
       "<pre style=\"white-space:pre;overflow-x:auto;line-height:normal;font-family:Menlo,'DejaVu Sans Mono',consolas,'Courier New',monospace\">14:34:04.681 | <span style=\"color: #008080; text-decoration-color: #008080\">INFO</span>    | Task run 'train-92' - Finished in state <span style=\"color: #008000; text-decoration-color: #008000\">Completed</span>()\n",
       "</pre>\n"
      ],
      "text/plain": [
       "14:34:04.681 | \u001b[36mINFO\u001b[0m    | Task run 'train-92' - Finished in state \u001b[32mCompleted\u001b[0m()\n"
      ]
     },
     "metadata": {},
     "output_type": "display_data"
    },
    {
     "name": "stderr",
     "output_type": "stream",
     "text": [
      "[I 2023-08-13 14:34:04,683] Trial 92 finished with value: 2261.186314910352 and parameters: {'n_estimators': 779, 'max_depth': 9, 'learning_rate': 0.017934708895992555, 'subsample': 0.6290682977904467, 'colsample_bytree': 0.9137950598432922, 'min_child_weight': 6, 'alpha': 0.005520313178496719, 'gamma': 0.004607034657496927, 'lambda': 0.21599576726961078}. Best is trial 42 with value: 2205.1704287889033.\n"
     ]
    },
    {
     "data": {
      "text/html": [
       "<pre style=\"white-space:pre;overflow-x:auto;line-height:normal;font-family:Menlo,'DejaVu Sans Mono',consolas,'Courier New',monospace\">14:34:04.789 | <span style=\"color: #008080; text-decoration-color: #008080\">INFO</span>    | Flow run<span style=\"color: #800080; text-decoration-color: #800080\"> 'burrowing-bull'</span> - Created task run 'train-93' for task 'train'\n",
       "</pre>\n"
      ],
      "text/plain": [
       "14:34:04.789 | \u001b[36mINFO\u001b[0m    | Flow run\u001b[35m 'burrowing-bull'\u001b[0m - Created task run 'train-93' for task 'train'\n"
      ]
     },
     "metadata": {},
     "output_type": "display_data"
    },
    {
     "data": {
      "text/html": [
       "<pre style=\"white-space:pre;overflow-x:auto;line-height:normal;font-family:Menlo,'DejaVu Sans Mono',consolas,'Courier New',monospace\">14:34:04.791 | <span style=\"color: #008080; text-decoration-color: #008080\">INFO</span>    | Flow run<span style=\"color: #800080; text-decoration-color: #800080\"> 'burrowing-bull'</span> - Executing 'train-93' immediately...\n",
       "</pre>\n"
      ],
      "text/plain": [
       "14:34:04.791 | \u001b[36mINFO\u001b[0m    | Flow run\u001b[35m 'burrowing-bull'\u001b[0m - Executing 'train-93' immediately...\n"
      ]
     },
     "metadata": {},
     "output_type": "display_data"
    },
    {
     "data": {
      "text/html": [
       "<pre style=\"white-space:pre;overflow-x:auto;line-height:normal;font-family:Menlo,'DejaVu Sans Mono',consolas,'Courier New',monospace\">14:34:11.291 | <span style=\"color: #008080; text-decoration-color: #008080\">INFO</span>    | Task run 'train-93' - Finished in state <span style=\"color: #008000; text-decoration-color: #008000\">Completed</span>()\n",
       "</pre>\n"
      ],
      "text/plain": [
       "14:34:11.291 | \u001b[36mINFO\u001b[0m    | Task run 'train-93' - Finished in state \u001b[32mCompleted\u001b[0m()\n"
      ]
     },
     "metadata": {},
     "output_type": "display_data"
    },
    {
     "name": "stderr",
     "output_type": "stream",
     "text": [
      "[I 2023-08-13 14:34:11,294] Trial 93 finished with value: 2222.4862218792287 and parameters: {'n_estimators': 725, 'max_depth': 11, 'learning_rate': 0.018944810465689063, 'subsample': 0.5683464114304789, 'colsample_bytree': 0.944147646174413, 'min_child_weight': 6, 'alpha': 0.015715506874049018, 'gamma': 0.003267155429472138, 'lambda': 0.3087772943800219}. Best is trial 42 with value: 2205.1704287889033.\n"
     ]
    },
    {
     "data": {
      "text/html": [
       "<pre style=\"white-space:pre;overflow-x:auto;line-height:normal;font-family:Menlo,'DejaVu Sans Mono',consolas,'Courier New',monospace\">14:34:11.407 | <span style=\"color: #008080; text-decoration-color: #008080\">INFO</span>    | Flow run<span style=\"color: #800080; text-decoration-color: #800080\"> 'burrowing-bull'</span> - Created task run 'train-94' for task 'train'\n",
       "</pre>\n"
      ],
      "text/plain": [
       "14:34:11.407 | \u001b[36mINFO\u001b[0m    | Flow run\u001b[35m 'burrowing-bull'\u001b[0m - Created task run 'train-94' for task 'train'\n"
      ]
     },
     "metadata": {},
     "output_type": "display_data"
    },
    {
     "data": {
      "text/html": [
       "<pre style=\"white-space:pre;overflow-x:auto;line-height:normal;font-family:Menlo,'DejaVu Sans Mono',consolas,'Courier New',monospace\">14:34:11.409 | <span style=\"color: #008080; text-decoration-color: #008080\">INFO</span>    | Flow run<span style=\"color: #800080; text-decoration-color: #800080\"> 'burrowing-bull'</span> - Executing 'train-94' immediately...\n",
       "</pre>\n"
      ],
      "text/plain": [
       "14:34:11.409 | \u001b[36mINFO\u001b[0m    | Flow run\u001b[35m 'burrowing-bull'\u001b[0m - Executing 'train-94' immediately...\n"
      ]
     },
     "metadata": {},
     "output_type": "display_data"
    },
    {
     "data": {
      "text/html": [
       "<pre style=\"white-space:pre;overflow-x:auto;line-height:normal;font-family:Menlo,'DejaVu Sans Mono',consolas,'Courier New',monospace\">14:34:23.924 | <span style=\"color: #008080; text-decoration-color: #008080\">INFO</span>    | Task run 'train-94' - Finished in state <span style=\"color: #008000; text-decoration-color: #008000\">Completed</span>()\n",
       "</pre>\n"
      ],
      "text/plain": [
       "14:34:23.924 | \u001b[36mINFO\u001b[0m    | Task run 'train-94' - Finished in state \u001b[32mCompleted\u001b[0m()\n"
      ]
     },
     "metadata": {},
     "output_type": "display_data"
    },
    {
     "name": "stderr",
     "output_type": "stream",
     "text": [
      "[I 2023-08-13 14:34:23,927] Trial 94 finished with value: 2225.81094912889 and parameters: {'n_estimators': 811, 'max_depth': 10, 'learning_rate': 0.007418022450737362, 'subsample': 0.6115964310500628, 'colsample_bytree': 0.9587957043312474, 'min_child_weight': 5, 'alpha': 0.003730957707178557, 'gamma': 0.0022507820202229355, 'lambda': 0.10445693267821494}. Best is trial 42 with value: 2205.1704287889033.\n"
     ]
    },
    {
     "data": {
      "text/html": [
       "<pre style=\"white-space:pre;overflow-x:auto;line-height:normal;font-family:Menlo,'DejaVu Sans Mono',consolas,'Courier New',monospace\">14:34:24.041 | <span style=\"color: #008080; text-decoration-color: #008080\">INFO</span>    | Flow run<span style=\"color: #800080; text-decoration-color: #800080\"> 'burrowing-bull'</span> - Created task run 'train-95' for task 'train'\n",
       "</pre>\n"
      ],
      "text/plain": [
       "14:34:24.041 | \u001b[36mINFO\u001b[0m    | Flow run\u001b[35m 'burrowing-bull'\u001b[0m - Created task run 'train-95' for task 'train'\n"
      ]
     },
     "metadata": {},
     "output_type": "display_data"
    },
    {
     "data": {
      "text/html": [
       "<pre style=\"white-space:pre;overflow-x:auto;line-height:normal;font-family:Menlo,'DejaVu Sans Mono',consolas,'Courier New',monospace\">14:34:24.043 | <span style=\"color: #008080; text-decoration-color: #008080\">INFO</span>    | Flow run<span style=\"color: #800080; text-decoration-color: #800080\"> 'burrowing-bull'</span> - Executing 'train-95' immediately...\n",
       "</pre>\n"
      ],
      "text/plain": [
       "14:34:24.043 | \u001b[36mINFO\u001b[0m    | Flow run\u001b[35m 'burrowing-bull'\u001b[0m - Executing 'train-95' immediately...\n"
      ]
     },
     "metadata": {},
     "output_type": "display_data"
    },
    {
     "data": {
      "text/html": [
       "<pre style=\"white-space:pre;overflow-x:auto;line-height:normal;font-family:Menlo,'DejaVu Sans Mono',consolas,'Courier New',monospace\">14:34:28.130 | <span style=\"color: #008080; text-decoration-color: #008080\">INFO</span>    | Task run 'train-95' - Finished in state <span style=\"color: #008000; text-decoration-color: #008000\">Completed</span>()\n",
       "</pre>\n"
      ],
      "text/plain": [
       "14:34:28.130 | \u001b[36mINFO\u001b[0m    | Task run 'train-95' - Finished in state \u001b[32mCompleted\u001b[0m()\n"
      ]
     },
     "metadata": {},
     "output_type": "display_data"
    },
    {
     "name": "stderr",
     "output_type": "stream",
     "text": [
      "[I 2023-08-13 14:34:28,137] Trial 95 finished with value: 2238.899780108254 and parameters: {'n_estimators': 756, 'max_depth': 9, 'learning_rate': 0.02373472670353017, 'subsample': 0.5467222454639987, 'colsample_bytree': 0.974958700458916, 'min_child_weight': 6, 'alpha': 0.010228017790815445, 'gamma': 0.0071777389141259775, 'lambda': 0.20338435632940313}. Best is trial 42 with value: 2205.1704287889033.\n"
     ]
    },
    {
     "data": {
      "text/html": [
       "<pre style=\"white-space:pre;overflow-x:auto;line-height:normal;font-family:Menlo,'DejaVu Sans Mono',consolas,'Courier New',monospace\">14:34:28.229 | <span style=\"color: #008080; text-decoration-color: #008080\">INFO</span>    | Flow run<span style=\"color: #800080; text-decoration-color: #800080\"> 'burrowing-bull'</span> - Created task run 'train-96' for task 'train'\n",
       "</pre>\n"
      ],
      "text/plain": [
       "14:34:28.229 | \u001b[36mINFO\u001b[0m    | Flow run\u001b[35m 'burrowing-bull'\u001b[0m - Created task run 'train-96' for task 'train'\n"
      ]
     },
     "metadata": {},
     "output_type": "display_data"
    },
    {
     "data": {
      "text/html": [
       "<pre style=\"white-space:pre;overflow-x:auto;line-height:normal;font-family:Menlo,'DejaVu Sans Mono',consolas,'Courier New',monospace\">14:34:28.231 | <span style=\"color: #008080; text-decoration-color: #008080\">INFO</span>    | Flow run<span style=\"color: #800080; text-decoration-color: #800080\"> 'burrowing-bull'</span> - Executing 'train-96' immediately...\n",
       "</pre>\n"
      ],
      "text/plain": [
       "14:34:28.231 | \u001b[36mINFO\u001b[0m    | Flow run\u001b[35m 'burrowing-bull'\u001b[0m - Executing 'train-96' immediately...\n"
      ]
     },
     "metadata": {},
     "output_type": "display_data"
    },
    {
     "data": {
      "text/html": [
       "<pre style=\"white-space:pre;overflow-x:auto;line-height:normal;font-family:Menlo,'DejaVu Sans Mono',consolas,'Courier New',monospace\">14:34:32.222 | <span style=\"color: #008080; text-decoration-color: #008080\">INFO</span>    | Task run 'train-96' - Finished in state <span style=\"color: #008000; text-decoration-color: #008000\">Completed</span>()\n",
       "</pre>\n"
      ],
      "text/plain": [
       "14:34:32.222 | \u001b[36mINFO\u001b[0m    | Task run 'train-96' - Finished in state \u001b[32mCompleted\u001b[0m()\n"
      ]
     },
     "metadata": {},
     "output_type": "display_data"
    },
    {
     "name": "stderr",
     "output_type": "stream",
     "text": [
      "[I 2023-08-13 14:34:32,226] Trial 96 finished with value: 2235.6138447225985 and parameters: {'n_estimators': 839, 'max_depth': 12, 'learning_rate': 0.03565250566168546, 'subsample': 0.5890783520873388, 'colsample_bytree': 0.9293772415212475, 'min_child_weight': 4, 'alpha': 0.020004531501803976, 'gamma': 0.0016186145656370303, 'lambda': 0.07721918127646696}. Best is trial 42 with value: 2205.1704287889033.\n"
     ]
    },
    {
     "data": {
      "text/html": [
       "<pre style=\"white-space:pre;overflow-x:auto;line-height:normal;font-family:Menlo,'DejaVu Sans Mono',consolas,'Courier New',monospace\">14:34:32.399 | <span style=\"color: #008080; text-decoration-color: #008080\">INFO</span>    | Flow run<span style=\"color: #800080; text-decoration-color: #800080\"> 'burrowing-bull'</span> - Created task run 'train-97' for task 'train'\n",
       "</pre>\n"
      ],
      "text/plain": [
       "14:34:32.399 | \u001b[36mINFO\u001b[0m    | Flow run\u001b[35m 'burrowing-bull'\u001b[0m - Created task run 'train-97' for task 'train'\n"
      ]
     },
     "metadata": {},
     "output_type": "display_data"
    },
    {
     "data": {
      "text/html": [
       "<pre style=\"white-space:pre;overflow-x:auto;line-height:normal;font-family:Menlo,'DejaVu Sans Mono',consolas,'Courier New',monospace\">14:34:32.401 | <span style=\"color: #008080; text-decoration-color: #008080\">INFO</span>    | Flow run<span style=\"color: #800080; text-decoration-color: #800080\"> 'burrowing-bull'</span> - Executing 'train-97' immediately...\n",
       "</pre>\n"
      ],
      "text/plain": [
       "14:34:32.401 | \u001b[36mINFO\u001b[0m    | Flow run\u001b[35m 'burrowing-bull'\u001b[0m - Executing 'train-97' immediately...\n"
      ]
     },
     "metadata": {},
     "output_type": "display_data"
    },
    {
     "data": {
      "text/html": [
       "<pre style=\"white-space:pre;overflow-x:auto;line-height:normal;font-family:Menlo,'DejaVu Sans Mono',consolas,'Courier New',monospace\">14:34:32.571 | <span style=\"color: #008080; text-decoration-color: #008080\">INFO</span>    | Task run 'train-97' - Finished in state <span style=\"color: #008000; text-decoration-color: #008000\">Completed</span>()\n",
       "</pre>\n"
      ],
      "text/plain": [
       "14:34:32.571 | \u001b[36mINFO\u001b[0m    | Task run 'train-97' - Finished in state \u001b[32mCompleted\u001b[0m()\n"
      ]
     },
     "metadata": {},
     "output_type": "display_data"
    },
    {
     "name": "stderr",
     "output_type": "stream",
     "text": [
      "[I 2023-08-13 14:34:32,575] Trial 97 finished with value: 130539.0981700025 and parameters: {'n_estimators': 3, 'max_depth': 10, 'learning_rate': 0.005678111423633376, 'subsample': 0.576248258165862, 'colsample_bytree': 0.9448353105130108, 'min_child_weight': 7, 'alpha': 0.034882432374895585, 'gamma': 0.0045291855758384245, 'lambda': 0.14243383709580792}. Best is trial 42 with value: 2205.1704287889033.\n"
     ]
    },
    {
     "data": {
      "text/html": [
       "<pre style=\"white-space:pre;overflow-x:auto;line-height:normal;font-family:Menlo,'DejaVu Sans Mono',consolas,'Courier New',monospace\">14:34:32.670 | <span style=\"color: #008080; text-decoration-color: #008080\">INFO</span>    | Flow run<span style=\"color: #800080; text-decoration-color: #800080\"> 'burrowing-bull'</span> - Created task run 'train-98' for task 'train'\n",
       "</pre>\n"
      ],
      "text/plain": [
       "14:34:32.670 | \u001b[36mINFO\u001b[0m    | Flow run\u001b[35m 'burrowing-bull'\u001b[0m - Created task run 'train-98' for task 'train'\n"
      ]
     },
     "metadata": {},
     "output_type": "display_data"
    },
    {
     "data": {
      "text/html": [
       "<pre style=\"white-space:pre;overflow-x:auto;line-height:normal;font-family:Menlo,'DejaVu Sans Mono',consolas,'Courier New',monospace\">14:34:32.672 | <span style=\"color: #008080; text-decoration-color: #008080\">INFO</span>    | Flow run<span style=\"color: #800080; text-decoration-color: #800080\"> 'burrowing-bull'</span> - Executing 'train-98' immediately...\n",
       "</pre>\n"
      ],
      "text/plain": [
       "14:34:32.672 | \u001b[36mINFO\u001b[0m    | Flow run\u001b[35m 'burrowing-bull'\u001b[0m - Executing 'train-98' immediately...\n"
      ]
     },
     "metadata": {},
     "output_type": "display_data"
    },
    {
     "data": {
      "text/html": [
       "<pre style=\"white-space:pre;overflow-x:auto;line-height:normal;font-family:Menlo,'DejaVu Sans Mono',consolas,'Courier New',monospace\">14:34:35.921 | <span style=\"color: #008080; text-decoration-color: #008080\">INFO</span>    | Task run 'train-98' - Finished in state <span style=\"color: #008000; text-decoration-color: #008000\">Completed</span>()\n",
       "</pre>\n"
      ],
      "text/plain": [
       "14:34:35.921 | \u001b[36mINFO\u001b[0m    | Task run 'train-98' - Finished in state \u001b[32mCompleted\u001b[0m()\n"
      ]
     },
     "metadata": {},
     "output_type": "display_data"
    },
    {
     "name": "stderr",
     "output_type": "stream",
     "text": [
      "[I 2023-08-13 14:34:35,924] Trial 98 finished with value: 2255.6894039665085 and parameters: {'n_estimators': 789, 'max_depth': 10, 'learning_rate': 0.029585286651453675, 'subsample': 0.5300693541094275, 'colsample_bytree': 0.9900533755375043, 'min_child_weight': 6, 'alpha': 0.00706505526039153, 'gamma': 0.0028453958316776527, 'lambda': 0.47857666743383254}. Best is trial 42 with value: 2205.1704287889033.\n"
     ]
    },
    {
     "data": {
      "text/html": [
       "<pre style=\"white-space:pre;overflow-x:auto;line-height:normal;font-family:Menlo,'DejaVu Sans Mono',consolas,'Courier New',monospace\">14:34:36.017 | <span style=\"color: #008080; text-decoration-color: #008080\">INFO</span>    | Flow run<span style=\"color: #800080; text-decoration-color: #800080\"> 'burrowing-bull'</span> - Created task run 'train-99' for task 'train'\n",
       "</pre>\n"
      ],
      "text/plain": [
       "14:34:36.017 | \u001b[36mINFO\u001b[0m    | Flow run\u001b[35m 'burrowing-bull'\u001b[0m - Created task run 'train-99' for task 'train'\n"
      ]
     },
     "metadata": {},
     "output_type": "display_data"
    },
    {
     "data": {
      "text/html": [
       "<pre style=\"white-space:pre;overflow-x:auto;line-height:normal;font-family:Menlo,'DejaVu Sans Mono',consolas,'Courier New',monospace\">14:34:36.019 | <span style=\"color: #008080; text-decoration-color: #008080\">INFO</span>    | Flow run<span style=\"color: #800080; text-decoration-color: #800080\"> 'burrowing-bull'</span> - Executing 'train-99' immediately...\n",
       "</pre>\n"
      ],
      "text/plain": [
       "14:34:36.019 | \u001b[36mINFO\u001b[0m    | Flow run\u001b[35m 'burrowing-bull'\u001b[0m - Executing 'train-99' immediately...\n"
      ]
     },
     "metadata": {},
     "output_type": "display_data"
    },
    {
     "data": {
      "text/html": [
       "<pre style=\"white-space:pre;overflow-x:auto;line-height:normal;font-family:Menlo,'DejaVu Sans Mono',consolas,'Courier New',monospace\">14:34:42.612 | <span style=\"color: #008080; text-decoration-color: #008080\">INFO</span>    | Task run 'train-99' - Finished in state <span style=\"color: #008000; text-decoration-color: #008000\">Completed</span>()\n",
       "</pre>\n"
      ],
      "text/plain": [
       "14:34:42.612 | \u001b[36mINFO\u001b[0m    | Task run 'train-99' - Finished in state \u001b[32mCompleted\u001b[0m()\n"
      ]
     },
     "metadata": {},
     "output_type": "display_data"
    },
    {
     "name": "stderr",
     "output_type": "stream",
     "text": [
      "[I 2023-08-13 14:34:42,615] Trial 99 finished with value: 2199.942864089987 and parameters: {'n_estimators': 867, 'max_depth': 9, 'learning_rate': 0.01570431409610151, 'subsample': 0.6028263554759629, 'colsample_bytree': 0.9657612246098968, 'min_child_weight': 5, 'alpha': 0.01464813989240807, 'gamma': 0.0010931511227947248, 'lambda': 0.03692917063137121}. Best is trial 99 with value: 2199.942864089987.\n"
     ]
    },
    {
     "data": {
      "text/html": [
       "<pre style=\"white-space:pre;overflow-x:auto;line-height:normal;font-family:Menlo,'DejaVu Sans Mono',consolas,'Courier New',monospace\">14:34:42.631 | <span style=\"color: #008080; text-decoration-color: #008080\">INFO</span>    | Flow run<span style=\"color: #800080; text-decoration-color: #800080\"> 'burrowing-bull'</span> - Number of finished trials:  100\n",
       "</pre>\n"
      ],
      "text/plain": [
       "14:34:42.631 | \u001b[36mINFO\u001b[0m    | Flow run\u001b[35m 'burrowing-bull'\u001b[0m - Number of finished trials:  100\n"
      ]
     },
     "metadata": {},
     "output_type": "display_data"
    },
    {
     "data": {
      "text/html": [
       "<pre style=\"white-space:pre;overflow-x:auto;line-height:normal;font-family:Menlo,'DejaVu Sans Mono',consolas,'Courier New',monospace\">14:34:42.634 | <span style=\"color: #008080; text-decoration-color: #008080\">INFO</span>    | Flow run<span style=\"color: #800080; text-decoration-color: #800080\"> 'burrowing-bull'</span> - Best trial:\n",
       "</pre>\n"
      ],
      "text/plain": [
       "14:34:42.634 | \u001b[36mINFO\u001b[0m    | Flow run\u001b[35m 'burrowing-bull'\u001b[0m - Best trial:\n"
      ]
     },
     "metadata": {},
     "output_type": "display_data"
    },
    {
     "data": {
      "text/html": [
       "<pre style=\"white-space:pre;overflow-x:auto;line-height:normal;font-family:Menlo,'DejaVu Sans Mono',consolas,'Courier New',monospace\">14:34:42.636 | <span style=\"color: #008080; text-decoration-color: #008080\">INFO</span>    | Flow run<span style=\"color: #800080; text-decoration-color: #800080\"> 'burrowing-bull'</span> - Value:  2199.942864089987\n",
       "</pre>\n"
      ],
      "text/plain": [
       "14:34:42.636 | \u001b[36mINFO\u001b[0m    | Flow run\u001b[35m 'burrowing-bull'\u001b[0m - Value:  2199.942864089987\n"
      ]
     },
     "metadata": {},
     "output_type": "display_data"
    },
    {
     "data": {
      "text/html": [
       "<pre style=\"white-space:pre;overflow-x:auto;line-height:normal;font-family:Menlo,'DejaVu Sans Mono',consolas,'Courier New',monospace\">14:34:42.638 | <span style=\"color: #008080; text-decoration-color: #008080\">INFO</span>    | Flow run<span style=\"color: #800080; text-decoration-color: #800080\"> 'burrowing-bull'</span> - Params:\n",
       "</pre>\n"
      ],
      "text/plain": [
       "14:34:42.638 | \u001b[36mINFO\u001b[0m    | Flow run\u001b[35m 'burrowing-bull'\u001b[0m - Params:\n"
      ]
     },
     "metadata": {},
     "output_type": "display_data"
    },
    {
     "data": {
      "text/html": [
       "<pre style=\"white-space:pre;overflow-x:auto;line-height:normal;font-family:Menlo,'DejaVu Sans Mono',consolas,'Courier New',monospace\">14:34:42.640 | <span style=\"color: #008080; text-decoration-color: #008080\">INFO</span>    | Flow run<span style=\"color: #800080; text-decoration-color: #800080\"> 'burrowing-bull'</span> -     n_estimators: 867\n",
       "</pre>\n"
      ],
      "text/plain": [
       "14:34:42.640 | \u001b[36mINFO\u001b[0m    | Flow run\u001b[35m 'burrowing-bull'\u001b[0m -     n_estimators: 867\n"
      ]
     },
     "metadata": {},
     "output_type": "display_data"
    },
    {
     "data": {
      "text/html": [
       "<pre style=\"white-space:pre;overflow-x:auto;line-height:normal;font-family:Menlo,'DejaVu Sans Mono',consolas,'Courier New',monospace\">14:34:42.643 | <span style=\"color: #008080; text-decoration-color: #008080\">INFO</span>    | Flow run<span style=\"color: #800080; text-decoration-color: #800080\"> 'burrowing-bull'</span> -     max_depth: 9\n",
       "</pre>\n"
      ],
      "text/plain": [
       "14:34:42.643 | \u001b[36mINFO\u001b[0m    | Flow run\u001b[35m 'burrowing-bull'\u001b[0m -     max_depth: 9\n"
      ]
     },
     "metadata": {},
     "output_type": "display_data"
    },
    {
     "data": {
      "text/html": [
       "<pre style=\"white-space:pre;overflow-x:auto;line-height:normal;font-family:Menlo,'DejaVu Sans Mono',consolas,'Courier New',monospace\">14:34:42.646 | <span style=\"color: #008080; text-decoration-color: #008080\">INFO</span>    | Flow run<span style=\"color: #800080; text-decoration-color: #800080\"> 'burrowing-bull'</span> -     learning_rate: 0.01570431409610151\n",
       "</pre>\n"
      ],
      "text/plain": [
       "14:34:42.646 | \u001b[36mINFO\u001b[0m    | Flow run\u001b[35m 'burrowing-bull'\u001b[0m -     learning_rate: 0.01570431409610151\n"
      ]
     },
     "metadata": {},
     "output_type": "display_data"
    },
    {
     "data": {
      "text/html": [
       "<pre style=\"white-space:pre;overflow-x:auto;line-height:normal;font-family:Menlo,'DejaVu Sans Mono',consolas,'Courier New',monospace\">14:34:42.649 | <span style=\"color: #008080; text-decoration-color: #008080\">INFO</span>    | Flow run<span style=\"color: #800080; text-decoration-color: #800080\"> 'burrowing-bull'</span> -     subsample: 0.6028263554759629\n",
       "</pre>\n"
      ],
      "text/plain": [
       "14:34:42.649 | \u001b[36mINFO\u001b[0m    | Flow run\u001b[35m 'burrowing-bull'\u001b[0m -     subsample: 0.6028263554759629\n"
      ]
     },
     "metadata": {},
     "output_type": "display_data"
    },
    {
     "data": {
      "text/html": [
       "<pre style=\"white-space:pre;overflow-x:auto;line-height:normal;font-family:Menlo,'DejaVu Sans Mono',consolas,'Courier New',monospace\">14:34:42.651 | <span style=\"color: #008080; text-decoration-color: #008080\">INFO</span>    | Flow run<span style=\"color: #800080; text-decoration-color: #800080\"> 'burrowing-bull'</span> -     colsample_bytree: 0.9657612246098968\n",
       "</pre>\n"
      ],
      "text/plain": [
       "14:34:42.651 | \u001b[36mINFO\u001b[0m    | Flow run\u001b[35m 'burrowing-bull'\u001b[0m -     colsample_bytree: 0.9657612246098968\n"
      ]
     },
     "metadata": {},
     "output_type": "display_data"
    },
    {
     "data": {
      "text/html": [
       "<pre style=\"white-space:pre;overflow-x:auto;line-height:normal;font-family:Menlo,'DejaVu Sans Mono',consolas,'Courier New',monospace\">14:34:42.653 | <span style=\"color: #008080; text-decoration-color: #008080\">INFO</span>    | Flow run<span style=\"color: #800080; text-decoration-color: #800080\"> 'burrowing-bull'</span> -     min_child_weight: 5\n",
       "</pre>\n"
      ],
      "text/plain": [
       "14:34:42.653 | \u001b[36mINFO\u001b[0m    | Flow run\u001b[35m 'burrowing-bull'\u001b[0m -     min_child_weight: 5\n"
      ]
     },
     "metadata": {},
     "output_type": "display_data"
    },
    {
     "data": {
      "text/html": [
       "<pre style=\"white-space:pre;overflow-x:auto;line-height:normal;font-family:Menlo,'DejaVu Sans Mono',consolas,'Courier New',monospace\">14:34:42.655 | <span style=\"color: #008080; text-decoration-color: #008080\">INFO</span>    | Flow run<span style=\"color: #800080; text-decoration-color: #800080\"> 'burrowing-bull'</span> -     alpha: 0.01464813989240807\n",
       "</pre>\n"
      ],
      "text/plain": [
       "14:34:42.655 | \u001b[36mINFO\u001b[0m    | Flow run\u001b[35m 'burrowing-bull'\u001b[0m -     alpha: 0.01464813989240807\n"
      ]
     },
     "metadata": {},
     "output_type": "display_data"
    },
    {
     "data": {
      "text/html": [
       "<pre style=\"white-space:pre;overflow-x:auto;line-height:normal;font-family:Menlo,'DejaVu Sans Mono',consolas,'Courier New',monospace\">14:34:42.658 | <span style=\"color: #008080; text-decoration-color: #008080\">INFO</span>    | Flow run<span style=\"color: #800080; text-decoration-color: #800080\"> 'burrowing-bull'</span> -     gamma: 0.0010931511227947248\n",
       "</pre>\n"
      ],
      "text/plain": [
       "14:34:42.658 | \u001b[36mINFO\u001b[0m    | Flow run\u001b[35m 'burrowing-bull'\u001b[0m -     gamma: 0.0010931511227947248\n"
      ]
     },
     "metadata": {},
     "output_type": "display_data"
    },
    {
     "data": {
      "text/html": [
       "<pre style=\"white-space:pre;overflow-x:auto;line-height:normal;font-family:Menlo,'DejaVu Sans Mono',consolas,'Courier New',monospace\">14:34:42.661 | <span style=\"color: #008080; text-decoration-color: #008080\">INFO</span>    | Flow run<span style=\"color: #800080; text-decoration-color: #800080\"> 'burrowing-bull'</span> -     lambda: 0.03692917063137121\n",
       "</pre>\n"
      ],
      "text/plain": [
       "14:34:42.661 | \u001b[36mINFO\u001b[0m    | Flow run\u001b[35m 'burrowing-bull'\u001b[0m -     lambda: 0.03692917063137121\n"
      ]
     },
     "metadata": {},
     "output_type": "display_data"
    },
    {
     "data": {
      "text/html": [
       "<pre style=\"white-space:pre;overflow-x:auto;line-height:normal;font-family:Menlo,'DejaVu Sans Mono',consolas,'Courier New',monospace\">14:34:42.733 | <span style=\"color: #008080; text-decoration-color: #008080\">INFO</span>    | Flow run<span style=\"color: #800080; text-decoration-color: #800080\"> 'burrowing-bull'</span> - Finished in state <span style=\"color: #008000; text-decoration-color: #008000\">Completed</span>()\n",
       "</pre>\n"
      ],
      "text/plain": [
       "14:34:42.733 | \u001b[36mINFO\u001b[0m    | Flow run\u001b[35m 'burrowing-bull'\u001b[0m - Finished in state \u001b[32mCompleted\u001b[0m()\n"
      ]
     },
     "metadata": {},
     "output_type": "display_data"
    },
    {
     "data": {
      "text/html": [
       "<pre style=\"white-space:pre;overflow-x:auto;line-height:normal;font-family:Menlo,'DejaVu Sans Mono',consolas,'Courier New',monospace\">14:34:42.771 | <span style=\"color: #008080; text-decoration-color: #008080\">INFO</span>    | Flow run<span style=\"color: #800080; text-decoration-color: #800080\"> 'hopeful-cheetah'</span> - Created task run 'train-1' for task 'train'\n",
       "</pre>\n"
      ],
      "text/plain": [
       "14:34:42.771 | \u001b[36mINFO\u001b[0m    | Flow run\u001b[35m 'hopeful-cheetah'\u001b[0m - Created task run 'train-1' for task 'train'\n"
      ]
     },
     "metadata": {},
     "output_type": "display_data"
    },
    {
     "data": {
      "text/html": [
       "<pre style=\"white-space:pre;overflow-x:auto;line-height:normal;font-family:Menlo,'DejaVu Sans Mono',consolas,'Courier New',monospace\">14:34:42.773 | <span style=\"color: #008080; text-decoration-color: #008080\">INFO</span>    | Flow run<span style=\"color: #800080; text-decoration-color: #800080\"> 'hopeful-cheetah'</span> - Executing 'train-1' immediately...\n",
       "</pre>\n"
      ],
      "text/plain": [
       "14:34:42.773 | \u001b[36mINFO\u001b[0m    | Flow run\u001b[35m 'hopeful-cheetah'\u001b[0m - Executing 'train-1' immediately...\n"
      ]
     },
     "metadata": {},
     "output_type": "display_data"
    },
    {
     "data": {
      "text/html": [
       "<pre style=\"white-space:pre;overflow-x:auto;line-height:normal;font-family:Menlo,'DejaVu Sans Mono',consolas,'Courier New',monospace\">14:35:06.273 | <span style=\"color: #008080; text-decoration-color: #008080\">INFO</span>    | Task run 'train-1' - Finished in state <span style=\"color: #008000; text-decoration-color: #008000\">Completed</span>()\n",
       "</pre>\n"
      ],
      "text/plain": [
       "14:35:06.273 | \u001b[36mINFO\u001b[0m    | Task run 'train-1' - Finished in state \u001b[32mCompleted\u001b[0m()\n"
      ]
     },
     "metadata": {},
     "output_type": "display_data"
    },
    {
     "data": {
      "text/html": [
       "<pre style=\"white-space:pre;overflow-x:auto;line-height:normal;font-family:Menlo,'DejaVu Sans Mono',consolas,'Courier New',monospace\">14:35:06.318 | <span style=\"color: #008080; text-decoration-color: #008080\">INFO</span>    | Flow run<span style=\"color: #800080; text-decoration-color: #800080\"> 'hopeful-cheetah'</span> - Finished in state <span style=\"color: #008000; text-decoration-color: #008000\">Completed</span>()\n",
       "</pre>\n"
      ],
      "text/plain": [
       "14:35:06.318 | \u001b[36mINFO\u001b[0m    | Flow run\u001b[35m 'hopeful-cheetah'\u001b[0m - Finished in state \u001b[32mCompleted\u001b[0m()\n"
      ]
     },
     "metadata": {},
     "output_type": "display_data"
    }
   ],
   "source": [
    "model, artifacts = main()\n",
    "ohe, features_to_drop, schema, most_recent_vals = artifacts"
   ]
  },
  {
   "cell_type": "code",
   "execution_count": 12,
   "metadata": {},
   "outputs": [],
   "source": [
    "# data_inference = read_from_db(**conn_params)\n",
    "# df_inference = data_inference.tail(1)\n",
    "# df_inference"
   ]
  },
  {
   "cell_type": "code",
   "execution_count": 13,
   "metadata": {},
   "outputs": [],
   "source": [
    "# def prepare_for_inference(df: pd.DataFrame) -> pd.DataFrame:\n",
    "#     df = extract_features(df, inference=True)\n",
    "#     df = df.rename(columns={'value': 'lag'})\n",
    "#     df, _ = encode_categorical(df, ohe=ohe, fit=False)\n",
    "#     df[['rolling_mean', 'rolling_std']] = most_recent_vals\n",
    "#     X_recent = df[schema]\n",
    "#     return X_recent\n",
    "\n",
    "# X_recent = prepare_for_inference(df_inference)"
   ]
  },
  {
   "cell_type": "code",
   "execution_count": 14,
   "metadata": {},
   "outputs": [],
   "source": [
    "# y_pred = model.predict(X_recent)\n",
    "# y_pred"
   ]
  }
 ],
 "metadata": {
  "kernelspec": {
   "display_name": "forecast-env",
   "language": "python",
   "name": "python3"
  },
  "language_info": {
   "codemirror_mode": {
    "name": "ipython",
    "version": 3
   },
   "file_extension": ".py",
   "mimetype": "text/x-python",
   "name": "python",
   "nbconvert_exporter": "python",
   "pygments_lexer": "ipython3",
   "version": "3.9.17"
  },
  "orig_nbformat": 4
 },
 "nbformat": 4,
 "nbformat_minor": 2
}
