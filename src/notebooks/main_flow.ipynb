{
 "cells": [
  {
   "cell_type": "code",
   "execution_count": 6,
   "metadata": {},
   "outputs": [],
   "source": [
    "from xgboost import XGBRegressor"
   ]
  },
  {
   "cell_type": "code",
   "execution_count": null,
   "metadata": {},
   "outputs": [],
   "source": [
    "def main():\n",
    "    df = data_preprocessing.preprocess()\n",
    "\n",
    "    # Separate features and target.\n",
    "    X = df.drop(columns=['value'])\n",
    "    y = df.value\n",
    "    \n",
    "    N_SPLITS = 9\n",
    "\n",
    "    most_recent_vals = df_encoded.iloc[-1][['rolling_mean', 'rolling_std']]\n",
    "\n",
    "    # schema = X_new.columns.tolist()\n",
    "    best_params = tune_hyperparameters(X_new, y, n_trials=n_trials)\n",
    "\n",
    "    model = XGBRegressor(**best_params)\n",
    "    train(model, X_new, y, n_splits=n_splits, track=True)\n",
    "\n",
    "    artifacts = [ohe, features_to_drop, schema, most_recent_vals]\n",
    "    return (model, artifacts)"
   ]
  }
 ],
 "metadata": {
  "kernelspec": {
   "display_name": "forecast-env",
   "language": "python",
   "name": "python3"
  },
  "language_info": {
   "codemirror_mode": {
    "name": "ipython",
    "version": 3
   },
   "file_extension": ".py",
   "mimetype": "text/x-python",
   "name": "python",
   "nbconvert_exporter": "python",
   "pygments_lexer": "ipython3",
   "version": "3.9.17"
  },
  "orig_nbformat": 4
 },
 "nbformat": 4,
 "nbformat_minor": 2
}
