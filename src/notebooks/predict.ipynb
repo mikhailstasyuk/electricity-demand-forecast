{
 "cells": [
  {
   "cell_type": "code",
   "execution_count": null,
   "metadata": {},
   "outputs": [],
   "source": [
    "import pandas as pd\n",
    "import mlflow\n",
    "from data_preprocessing import read_from_db\n",
    "from data_preprocessing import extract_features, encode_categorical\n",
    "import hydra"
   ]
  },
  {
   "cell_type": "code",
   "execution_count": null,
   "metadata": {},
   "outputs": [],
   "source": [
    "@hydra.main(config_path='conf', config_name='config.yaml')\n",
    "def predict(config, model, X, artifacts):\n",
    "    def prepare_for_inference(df: pd.DataFrame) -> pd.DataFrame:\n",
    "        ohe, schema, most_recent_vals = artifacts\n",
    "        df = extract_features(df, inference=True)\n",
    "        df = df.rename(columns={'value': 'lag'})\n",
    "        df, _ = encode_categorical(df, ohe=ohe, fit=False)\n",
    "        df[['rolling_mean', 'rolling_std']] = most_recent_vals\n",
    "        X_recent = df[schema]\n",
    "        return X_recent\n",
    "\n",
    "    data_inference = read_from_db(config.data.conn_params)\n",
    "    df_inference = data_inference.tail(1)\n",
    "    \n",
    "    X_recent = prepare_for_inference(df_inference, artifacts)\n",
    "    \n",
    "    y_pred = model.predict(X_recent)\n",
    "    return y_pred"
   ]
  },
  {
   "cell_type": "code",
   "execution_count": null,
   "metadata": {},
   "outputs": [],
   "source": [
    "if __name__ == \"__main__\":\n",
    "    predict()"
   ]
  }
 ],
 "metadata": {
  "kernelspec": {
   "display_name": "forecast-env",
   "language": "python",
   "name": "python3"
  },
  "language_info": {
   "codemirror_mode": {
    "name": "ipython",
    "version": 3
   },
   "file_extension": ".py",
   "mimetype": "text/x-python",
   "name": "python",
   "nbconvert_exporter": "python",
   "pygments_lexer": "ipython3",
   "version": "3.9.17"
  },
  "orig_nbformat": 4
 },
 "nbformat": 4,
 "nbformat_minor": 2
}
