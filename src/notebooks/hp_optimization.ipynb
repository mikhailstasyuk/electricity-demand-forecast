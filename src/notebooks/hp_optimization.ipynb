{
 "cells": [
  {
   "cell_type": "code",
   "execution_count": 2,
   "metadata": {},
   "outputs": [],
   "source": [
    "import optuna\n",
    "from xgboost import XGBRegressor"
   ]
  },
  {
   "cell_type": "code",
   "execution_count": null,
   "metadata": {},
   "outputs": [],
   "source": [
    "def tune_hyperparameters(train_func, X, y, n_trials=100, n_splits=5):\n",
    "    def objective(trial):\n",
    "        params = {\n",
    "            'n_estimators': trial.suggest_int('n_estimators', 2, 1000),\n",
    "            'max_depth': trial.suggest_int('max_depth', 1, 15),\n",
    "            'learning_rate': trial.suggest_float('learning_rate', 0.001, 0.3),\n",
    "            'subsample': trial.suggest_float('subsample', 0.5, 1.0),\n",
    "            'colsample_bytree': trial.suggest_float('colsample_bytree', 0.5, 1.0),\n",
    "            'min_child_weight': trial.suggest_int('min_child_weight', 1, 10),\n",
    "            'alpha': trial.suggest_float(\"alpha\", 1e-5, 10, log=True),  \n",
    "            'gamma': trial.suggest_float(\"gamma\", 1e-5, 5, log=True),\n",
    "            'lambda': trial.suggest_float('lambda', 1e-5, 10.0, log=True),\n",
    "            'early_stopping_rounds': 50\n",
    "        }\n",
    "\n",
    "        model = XGBRegressor(**params)\n",
    "        mae_train_avg, mae_test_avg = train_func(model, X, y, n_splits)\n",
    "        return mae_test_avg\n",
    "\n",
    "    study = optuna.create_study(direction='minimize')\n",
    "\n",
    "    # Optimize the study, the objective function is passed in as the first argument\n",
    "    study.optimize(objective, n_trials=n_trials)\n",
    "\n",
    "    # Results\n",
    "    print('Number of finished trials: ', len(study.trials))\n",
    "    print('Best trial:')\n",
    "    trial = study.best_trial\n",
    "    \n",
    "    print('Value: ', trial.value)\n",
    "    print('Params: ')\n",
    "    for key, value in trial.params.items():\n",
    "        print(f'    {key}: {value}')\n",
    "    \n",
    "    return trial.params"
   ]
  }
 ],
 "metadata": {
  "kernelspec": {
   "display_name": "forecast-env",
   "language": "python",
   "name": "python3"
  },
  "language_info": {
   "codemirror_mode": {
    "name": "ipython",
    "version": 3
   },
   "file_extension": ".py",
   "mimetype": "text/x-python",
   "name": "python",
   "nbconvert_exporter": "python",
   "pygments_lexer": "ipython3",
   "version": "3.9.17"
  },
  "orig_nbformat": 4
 },
 "nbformat": 4,
 "nbformat_minor": 2
}
