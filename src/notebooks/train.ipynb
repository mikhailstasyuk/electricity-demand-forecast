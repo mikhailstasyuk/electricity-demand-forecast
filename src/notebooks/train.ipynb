{
 "cells": [
  {
   "cell_type": "code",
   "execution_count": 6,
   "metadata": {},
   "outputs": [],
   "source": [
    "import pandas as pd\n",
    "import mlflow\n",
    "\n",
    "from xgboost import XGBRegressor\n",
    "from sklearn.preprocessing import OneHotEncoder\n",
    "from sklearn.model_selection import TimeSeriesSplit\n",
    "from sklearn.metrics import mean_absolute_error"
   ]
  },
  {
   "cell_type": "code",
   "execution_count": null,
   "metadata": {},
   "outputs": [],
   "source": [
    "TRACKING_URI = 'sqlite:///mlflow.db'\n",
    "mlflow.set_tracking_uri(TRACKING_URI)\n",
    "mlflow.set_experiment('xgboost-train')"
   ]
  },
  {
   "cell_type": "code",
   "execution_count": 7,
   "metadata": {},
   "outputs": [],
   "source": [
    "def train(\n",
    "    model: XGBRegressor, \n",
    "    X: pd.DataFrame, \n",
    "    y: pd.Series,\n",
    "    n_splits: int,\n",
    "    track=False\n",
    ") -> tuple:\n",
    "    \"\"\"\n",
    "    Train a model using TimeSeriesSplit cross-validation.\n",
    "\n",
    "    Args:\n",
    "        model (XGBRegressor): XGBoost regressor using scikit-learn API.\n",
    "        X (pd.DataFrame): Features DataFrame.\n",
    "        y (pd.Series): Target values Series.\n",
    "\n",
    "    Returns:\n",
    "        tuple: Contains average Mean Absolute Error on the training \n",
    "              set (float) and test set (float) respectively.\n",
    "    \"\"\"\n",
    "    # Lists to store mean absolute errors for training and test sets\n",
    "    mae_train_hist = []\n",
    "    mae_test_hist = []\n",
    "    \n",
    "    tscv = TimeSeriesSplit(n_splits=n_splits)\n",
    "    if track == True:\n",
    "        mlflow.start_run()\n",
    "        \n",
    "    # Split the data using TimeSeriesSplit for cross-validation\n",
    "    for train_index, test_index in tscv.split(X):\n",
    "        # Split the data into training and test sets\n",
    "        X_train, X_test = X.iloc[train_index], X.iloc[test_index]\n",
    "        y_train, y_test = y.iloc[train_index], y.iloc[test_index]\n",
    "        \n",
    "        # Train the model\n",
    "        model.fit(X_train, y_train, eval_set=[(X_test, y_test)], verbose=False)\n",
    "        \n",
    "        # Predict on training and test sets\n",
    "        y_pred_train = model.predict(X_train)\n",
    "        y_pred_test = model.predict(X_test)\n",
    "        \n",
    "        # Calculate mean absolute error for training and test sets\n",
    "        mae_train = mean_absolute_error(y_train, y_pred_train)\n",
    "        mae_test = mean_absolute_error(y_test, y_pred_test)\n",
    "        \n",
    "        # Append the errors to their respective histories\n",
    "        mae_train_hist.append(mae_train)\n",
    "        mae_test_hist.append(mae_test)\n",
    "        if track == True:\n",
    "            mlflow.log_metric('mae_train', mae_train)\n",
    "            mlflow.log_metric('mae_test', mae_test)\n",
    "\n",
    "    # Calculate average mean absolute error for training and test sets\n",
    "    mae_train_avg = sum(mae_train_hist) / len(mae_train_hist)\n",
    "    mae_test_avg = sum(mae_test_hist) / len(mae_test_hist)\n",
    "    if track == True:\n",
    "        mlflow.end_run()\n",
    "    return (mae_train_avg, mae_test_avg)"
   ]
  },
  {
   "cell_type": "code",
   "execution_count": null,
   "metadata": {},
   "outputs": [],
   "source": []
  }
 ],
 "metadata": {
  "kernelspec": {
   "display_name": "forecast-env",
   "language": "python",
   "name": "python3"
  },
  "language_info": {
   "codemirror_mode": {
    "name": "ipython",
    "version": 3
   },
   "file_extension": ".py",
   "mimetype": "text/x-python",
   "name": "python",
   "nbconvert_exporter": "python",
   "pygments_lexer": "ipython3",
   "version": "3.9.17"
  },
  "orig_nbformat": 4
 },
 "nbformat": 4,
 "nbformat_minor": 2
}
